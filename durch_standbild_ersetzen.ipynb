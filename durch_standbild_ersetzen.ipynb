{
 "cells": [
  {
   "cell_type": "code",
   "execution_count": null,
   "metadata": {},
   "outputs": [],
   "source": [
    "# import libs and define functions"
   ]
  },
  {
   "cell_type": "code",
   "execution_count": null,
   "metadata": {},
   "outputs": [],
   "source": [
    "import pandas as pd\n",
    "import subprocess\n",
    "import os\n",
    "import shutil"
   ]
  },
  {
   "cell_type": "code",
   "execution_count": null,
   "metadata": {},
   "outputs": [],
   "source": [
    "def get_the_table_data():\n",
    "    while True:\n",
    "        table_path = input(\"What is the table path + name? (.../filename.csv):\")\n",
    "        try:\n",
    "            video_schnitt_df = pd.read_csv(table_path)\n",
    "            print(\"Table loaded succesfully\")\n",
    "            return video_schnitt_df\n",
    "        except Exception as error:\n",
    "            print(\"An error occured:\", error)\n",
    "            continue\n",
    "        break"
   ]
  },
  {
   "cell_type": "code",
   "execution_count": null,
   "metadata": {},
   "outputs": [],
   "source": [
    "def create_folder(folder_name):\n",
    "    try:\n",
    "        # Create a new folder in the current working directory\n",
    "        os.mkdir(folder_name)\n",
    "        print(f\"Folder '{folder_name}' created successfully.\")\n",
    "    except FileExistsError:\n",
    "        print(f\"Folder '{folder_name}' already exists.\")"
   ]
  },
  {
   "cell_type": "code",
   "execution_count": null,
   "metadata": {},
   "outputs": [],
   "source": [
    "def get_video_duration(file_path):\n",
    "    command = ['ffmpeg', '-i', file_path]\n",
    "    result = subprocess.run(command, text=True, capture_output=True)\n",
    "    output_lines = result.stderr.split('\\n')\n",
    "    duration_line = [line for line in output_lines if 'Duration' in line][0]\n",
    "    duration = duration_line.strip().split(\",\")[0].split(\" \")[1]\n",
    "    return duration"
   ]
  },
  {
   "cell_type": "code",
   "execution_count": null,
   "metadata": {},
   "outputs": [],
   "source": [
    "def clean_the_data(df):\n",
    "    df.columns = df.columns.str.lower()\n",
    "    df.columns = df.columns.str.replace(\" \", \"_\")\n",
    "    df.columns = df.columns.str.strip()\n",
    "    df = df.astype(str)\n",
    "    print(\"Table Columns cleaned\")\n",
    "    return df"
   ]
  },
  {
   "cell_type": "code",
   "execution_count": null,
   "metadata": {},
   "outputs": [],
   "source": [
    "def get_standbild(input_file,output_file,cut_head):\n",
    "    \n",
    "    #creat timedelta and add 1 miliseconds\n",
    "    time_delta = pd.to_timedelta(cut_head)\n",
    "    new_time_delta = time_delta + pd.Timedelta(milliseconds=1)\n",
    "\n",
    "    #create dummy for calculation to transform data type back to datetype\n",
    "    dummy_date = pd.Timestamp('1900-01-01')\n",
    "    new_timestamp = dummy_date + new_time_delta\n",
    "\n",
    "    #get the new time back to wished str format\n",
    "    cut_tail = new_timestamp.strftime('%H:%M:%S.%f')[:-3]\n",
    "\n",
    "    # Construct the command\n",
    "    command = [\n",
    "        'ffmpeg',\n",
    "        '-i', input_file,\n",
    "        '-ss', cut_head,\n",
    "        '-to', cut_tail,\n",
    "        '-an', #audio no\n",
    "        '-c:v', 'libx264', output_file\n",
    "    ]\n",
    "\n",
    "    # Run the command\n",
    "    try:\n",
    "        subprocess.run(command, check=True)\n",
    "    except subprocess.CalledProcessError as e:\n",
    "        print(f\"An error occurred: {e}\")"
   ]
  },
  {
   "cell_type": "code",
   "execution_count": null,
   "metadata": {},
   "outputs": [],
   "source": [
    "def get_audio(input_file,output_file,cut_head,cut_tail):\n",
    "    \n",
    "    #Construct command\n",
    "    command = ['ffmpeg',\n",
    "               '-i', input_file,\n",
    "               '-ss', cut_head,\n",
    "               '-to', cut_tail,\n",
    "               '-vn','-c:a', 'copy', output_file]\n",
    "    \n",
    "    # Run the command\n",
    "    try:\n",
    "        subprocess.run(command, check=True)\n",
    "    except subprocess.CalledProcessError as e:\n",
    "        print(f\"An error occurred: {e}\")"
   ]
  },
  {
   "cell_type": "code",
   "execution_count": null,
   "metadata": {},
   "outputs": [],
   "source": [
    "def merge_audio_and_video(video_file,audio_file,output_file):\n",
    "    #Construct command\n",
    "    command = ['ffmpeg',\n",
    "               '-i', video_file,\n",
    "               '-i', audio_file,\n",
    "               '-c:v', 'copy',\n",
    "               '-c:a', 'copy', output_file\n",
    "               ]\n",
    "    # Run the command\n",
    "    try:\n",
    "        subprocess.run(command, check=True)\n",
    "    except subprocess.CalledProcessError as e:\n",
    "        print(f\"An error occurred: {e}\")"
   ]
  },
  {
   "cell_type": "code",
   "execution_count": null,
   "metadata": {},
   "outputs": [],
   "source": [
    "def cut_head_tail(original_video,output_file,cut_head=\"00:00:00\",cut_tail=\"00:50:00\"):\n",
    "\n",
    "    # Construct the command\n",
    "    command = [\n",
    "        'ffmpeg',\n",
    "        '-i', original_video,\n",
    "        '-ss', cut_head,\n",
    "        '-to', cut_tail,\n",
    "        '-c:v','libx264',\n",
    "         '-c:a', 'copy',\n",
    "        output_file\n",
    "    ]\n",
    "    \n",
    "     # Run the command\n",
    "    try:\n",
    "        subprocess.run(command, check=True)\n",
    "    except subprocess.CalledProcessError as e:\n",
    "        print(f\"An error occurred: {e}\")"
   ]
  },
  {
   "cell_type": "code",
   "execution_count": null,
   "metadata": {},
   "outputs": [],
   "source": [
    "def concatenate_videos(input_file, output_file):\n",
    "    \n",
    "    command = [\n",
    "        'ffmpeg',\n",
    "        '-f', 'concat', \n",
    "        '-i', input_file,\n",
    "         '-c:v', 'copy',\n",
    "         '-c:a', 'copy',\n",
    "        output_file\n",
    "    ]\n",
    "\n",
    "    # Run the command\n",
    "    try:\n",
    "        subprocess.run(command, check=True)\n",
    "    except subprocess.CalledProcessError as e:\n",
    "        print(\"An error occured:\", e)"
   ]
  },
  {
   "cell_type": "code",
   "execution_count": null,
   "metadata": {},
   "outputs": [],
   "source": [
    "# Get file and clean it"
   ]
  },
  {
   "cell_type": "code",
   "execution_count": null,
   "metadata": {},
   "outputs": [],
   "source": [
    "video_schnitt_df = get_the_table_data()\n",
    "video_schnitt_df = clean_the_data(video_schnitt_df)"
   ]
  },
  {
   "cell_type": "code",
   "execution_count": null,
   "metadata": {},
   "outputs": [],
   "source": [
    "# Get Standbild"
   ]
  },
  {
   "cell_type": "code",
   "execution_count": null,
   "metadata": {},
   "outputs": [],
   "source": [
    "try:\n",
    "    for idx, video_name in video_schnitt_df[\"dateiname\"].items():\n",
    "        output_file = f\"{video_name.split('.')[0]}_standbild.mp4\"\n",
    "        cut_head = video_schnitt_df[\"vorne_bild_durch_standbild_ersetzen_bis\"][idx]\n",
    "\n",
    "        #building logic when just to cut head or tail\n",
    "        if cut_head == \"nan\":\n",
    "            continue\n",
    "        print(\"video_name:\",video_name,\"cuttime:\",cut_head,)\n",
    "        get_standbild(video_name,output_file,cut_head)\n",
    "except Exception as error:\n",
    "    print(\"An error occurred:\", error)\n"
   ]
  },
  {
   "cell_type": "code",
   "execution_count": null,
   "metadata": {},
   "outputs": [],
   "source": [
    "# get audio"
   ]
  },
  {
   "cell_type": "code",
   "execution_count": null,
   "metadata": {},
   "outputs": [],
   "source": [
    "try:\n",
    "    for idx, video_name in video_schnitt_df[\"dateiname\"].items():\n",
    "        \n",
    "        if video_schnitt_df[\"vorne_bild_durch_standbild_ersetzen_bis\"][idx] == \"nan\":\n",
    "            continue\n",
    "        # timedelta = cut_tail - pd.to_timedelta(cut_head)\n",
    "        # dummy_date = pd.Timestamp('1900-01-01')\n",
    "        # new_timestamp = dummy_date + timedelta\n",
    "        # cut_tail = new_timestamp.strftime('%H:%M:%S.%f')[:-3]\n",
    "\n",
    "        #Define arguments\n",
    "        output_file = f\"{video_name.split('.')[0]}_head_audio.mp4\"\n",
    "        cut_head = video_schnitt_df[\"vorne_abschneiden_bis\"][idx]\n",
    "        cut_tail = video_schnitt_df[\"vorne_bild_durch_standbild_ersetzen_bis\"][idx]\n",
    "\n",
    "        if cut_head == \"nan\":\n",
    "            cut_head = \"00:00:00\"\n",
    "\n",
    "        print(\"video_name\",video_name,\"output_file\", output_file,\"cut_head\",cut_head,\"cut_tail:\", cut_tail)\n",
    "        get_audio(video_name,output_file,cut_head,cut_tail)\n",
    "\n",
    "except Exception as error:\n",
    "    print(\"An error occurred:\", error)"
   ]
  },
  {
   "cell_type": "code",
   "execution_count": null,
   "metadata": {},
   "outputs": [],
   "source": [
    "# Cut the original Video"
   ]
  },
  {
   "cell_type": "code",
   "execution_count": null,
   "metadata": {},
   "outputs": [],
   "source": [
    "try:\n",
    "    for idx, video_name in video_schnitt_df[\"dateiname\"].items():\n",
    "\n",
    "        if video_schnitt_df[\"vorne_bild_durch_standbild_ersetzen_bis\"][idx] == \"nan\":\n",
    "            continue\n",
    "        # define arguments\n",
    "        output_file = f\"{video_name.split('.')[0]}_ohne_start_ende_standbild.mp4\"\n",
    "        cut_head = video_schnitt_df[\"vorne_bild_durch_standbild_ersetzen_bis\"][idx]\n",
    "        cut_tail = video_schnitt_df[\"hinten_abschneiden_ab\"][idx]\n",
    "\n",
    "        #building logic when just to cut head or tail\n",
    "        if cut_tail == \"nan\":\n",
    "            cut_tail = get_video_duration(video_name)\n",
    "    \n",
    "        print(\"input name:\",video_name,\"Schnittpunkte:\", cut_head, cut_tail)\n",
    "        cut_head_tail(video_name, output_file, cut_head, cut_tail)\n",
    "except Exception as error:\n",
    "    print(\"An error occurred:\", error)"
   ]
  },
  {
   "cell_type": "code",
   "execution_count": null,
   "metadata": {},
   "outputs": [],
   "source": [
    "#merge audio and video"
   ]
  },
  {
   "cell_type": "code",
   "execution_count": null,
   "metadata": {},
   "outputs": [],
   "source": [
    "try:\n",
    "    for idx, video_name in video_schnitt_df[\"dateiname\"].items():\n",
    "\n",
    "        if video_schnitt_df[\"vorne_bild_durch_standbild_ersetzen_bis\"][idx] == \"nan\":\n",
    "            continue\n",
    "        video_file = f\"{video_name.split('.')[0]}_standbild.mp4\"\n",
    "        audio_file = f\"{video_name.split('.')[0]}_head_audio.mp4\"\n",
    "        output_file = f\"{video_name.split('.')[0]}_merged_start.mp4\"\n",
    "        \n",
    "        print(\"video:\", video_file, \"audio:\", audio_file, \"output\", output_file)\n",
    "        merge_audio_and_video(video_file,audio_file,output_file)\n",
    "\n",
    "except Exception as error:\n",
    "    print(\"An error occured:\", error)"
   ]
  },
  {
   "cell_type": "code",
   "execution_count": null,
   "metadata": {},
   "outputs": [],
   "source": [
    "# concat to endproduct"
   ]
  },
  {
   "cell_type": "code",
   "execution_count": null,
   "metadata": {},
   "outputs": [],
   "source": [
    "try:\n",
    "    for idx, video_name in video_schnitt_df[\"dateiname\"].items():\n",
    "\n",
    "        if video_schnitt_df[\"vorne_bild_durch_standbild_ersetzen_bis\"][idx] == \"nan\":\n",
    "            continue\n",
    "        \n",
    "        #define input for the text file with the videos we want to concat\n",
    "        video1 = f\"{video_name.split('.')[0]}_merged_start.mp4\"\n",
    "        video2 = f\"{video_name.split('.')[0]}_ohne_start_ende_standbild.mp4\"\n",
    "        textfile_content = f\"file '{video1}'\\nfile '{video2}'\"\n",
    "\n",
    "        #create the file with content\n",
    "        with open('dummy.txt', 'w') as textfile:\n",
    "            textfile.write(textfile_content)\n",
    "\n",
    "        #define parameters for concat function\n",
    "        output_file = f\"{video_name.split('.')[0]}_endprodukt.mp4\"\n",
    "        textfile_name = \"dummy.txt\"\n",
    "        print(\"file content:\", textfile_content)\n",
    "        concatenate_videos(textfile_name,output_file)\n",
    "        \n",
    "except Exception as error:\n",
    "    print(\"An error occured:\", error)"
   ]
  },
  {
   "cell_type": "code",
   "execution_count": null,
   "metadata": {},
   "outputs": [],
   "source": [
    "# create folder and move files"
   ]
  },
  {
   "cell_type": "code",
   "execution_count": null,
   "metadata": {},
   "outputs": [],
   "source": [
    "path_folder_endprodukte = \"endprodukte\"\n",
    "create_folder(path_folder_endprodukte)\n",
    "\n",
    "path_folder_script_output = \"script_output\"\n",
    "create_folder(path_folder_script_output)"
   ]
  },
  {
   "cell_type": "code",
   "execution_count": null,
   "metadata": {},
   "outputs": [],
   "source": [
    "original_video_names = list()\n",
    "\n",
    "for video_name in video_schnitt_df[\"dateiname\"]:\n",
    "    if video_name != \"nan\":\n",
    "        original_video_names.append(video_name)"
   ]
  },
  {
   "cell_type": "code",
   "execution_count": null,
   "metadata": {},
   "outputs": [],
   "source": [
    "for filename in os.listdir():\n",
    "    if filename.endswith(\"endprodukt.mp4\"):\n",
    "        shutil.move(filename,path_folder_endprodukte)\n",
    "    elif filename.endswith(\"mp4\") and filename not in original_video_names:\n",
    "        shutil.move(filename,path_folder_script_output)"
   ]
  }
 ],
 "metadata": {
  "kernelspec": {
   "display_name": "cut_env",
   "language": "python",
   "name": "python3"
  },
  "language_info": {
   "codemirror_mode": {
    "name": "ipython",
    "version": 3
   },
   "file_extension": ".py",
   "mimetype": "text/x-python",
   "name": "python",
   "nbconvert_exporter": "python",
   "pygments_lexer": "ipython3",
   "version": "3.12.0"
  }
 },
 "nbformat": 4,
 "nbformat_minor": 2
}

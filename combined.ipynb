{
 "cells": [
  {
   "cell_type": "markdown",
   "metadata": {},
   "source": [
    "# Import libs and define functions"
   ]
  },
  {
   "cell_type": "code",
   "execution_count": 175,
   "metadata": {},
   "outputs": [],
   "source": [
    "import pandas as pd\n",
    "import subprocess\n",
    "import os\n",
    "import shutil\n",
    "import re\n",
    "import sys "
   ]
  },
  {
   "cell_type": "code",
   "execution_count": 176,
   "metadata": {},
   "outputs": [],
   "source": [
    "def remove_end_in_name(filename):\n",
    "    splitted = filename.split(\"_\")\n",
    "    splitted.pop()\n",
    "    joined_string = \"_\".join(splitted)\n",
    "    return joined_string"
   ]
  },
  {
   "cell_type": "code",
   "execution_count": 177,
   "metadata": {},
   "outputs": [],
   "source": [
    "def get_creation_time(file_path):\n",
    "    try:\n",
    "        creation_time = os.path.getctime(file_path)\n",
    "        return pd.to_datetime(creation_time, unit='s')\n",
    "    except Exception as e:\n",
    "        print(f\"Error getting creation time for {file_path}: {e}\")\n",
    "        return None"
   ]
  },
  {
   "cell_type": "code",
   "execution_count": 178,
   "metadata": {},
   "outputs": [],
   "source": [
    "def get_the_table_data():\n",
    "    for f in os.listdir():\n",
    "        if f.endswith(\".csv\"):\n",
    "                video_schnitt_df = pd.read_csv(f)\n",
    "                print(f\"Table {f} loaded succesfully\")\n",
    "                return video_schnitt_df\n",
    "    raise ValueError(\"There is no csv in this directory\")"
   ]
  },
  {
   "cell_type": "code",
   "execution_count": 179,
   "metadata": {},
   "outputs": [],
   "source": [
    "def get_video_duration(file_path):\n",
    "    command = ['ffmpeg', '-i', file_path]\n",
    "    result = subprocess.run(command, text=True, capture_output=True)\n",
    "    output_lines = result.stderr.split('\\n')\n",
    "    duration_line = [line for line in output_lines if 'Duration' in line][0]\n",
    "    duration = duration_line.strip().split(\",\")[0].split(\" \")[1]\n",
    "    return duration"
   ]
  },
  {
   "cell_type": "code",
   "execution_count": 180,
   "metadata": {},
   "outputs": [],
   "source": [
    "def clean_the_data(df):\n",
    "    df.columns = df.columns.str.lower()\n",
    "    df.columns = df.columns.str.replace(\" \", \"_\")\n",
    "    df.columns = df.columns.str.strip()\n",
    "    df = df.astype(str)\n",
    "    print(\"Table Columns cleaned\")\n",
    "    return df"
   ]
  },
  {
   "cell_type": "code",
   "execution_count": 181,
   "metadata": {},
   "outputs": [],
   "source": [
    "def cut_head_tail(original_video,output_file,cut_head=\"00:00:00\",cut_tail=\"00:50:00\"):\n",
    "\n",
    "    # Construct the command\n",
    "    command = [\n",
    "        'ffmpeg',\n",
    "        '-i', original_video,\n",
    "        '-ss', cut_head,\n",
    "        '-to', cut_tail,\n",
    "        '-c:v','copy', #libx264 to encode and copy to test\n",
    "        '-c:a', 'copy',\n",
    "        output_file\n",
    "    ]\n",
    "    \n",
    "     # Run the command\n",
    "    try:\n",
    "        subprocess.run(command, check=True)\n",
    "    except subprocess.CalledProcessError as e:\n",
    "        print(f\"An error occurred: {e}\")"
   ]
  },
  {
   "cell_type": "code",
   "execution_count": 182,
   "metadata": {},
   "outputs": [],
   "source": [
    "def create_folder(folder_name):\n",
    "    try:\n",
    "        # Create a new folder in the current working directory\n",
    "        os.mkdir(folder_name)\n",
    "        print(f\"Folder '{folder_name}' created successfully.\")\n",
    "    except FileExistsError:\n",
    "        print(f\"Folder '{folder_name}' already exists.\")"
   ]
  },
  {
   "cell_type": "code",
   "execution_count": 183,
   "metadata": {},
   "outputs": [],
   "source": [
    "def get_standbild(input_file,output_file,cut_head):\n",
    "    \n",
    "    #creat timedelta and add 1 miliseconds\n",
    "    time_delta = pd.to_timedelta(cut_head)\n",
    "    new_time_delta = time_delta + pd.Timedelta(milliseconds=1)\n",
    "\n",
    "    #create dummy for calculation to transform data type back to datetype\n",
    "    dummy_date = pd.Timestamp('1900-01-01')\n",
    "    new_timestamp = dummy_date + new_time_delta\n",
    "\n",
    "    #get the new time back to wished str format\n",
    "    cut_tail = new_timestamp.strftime('%H:%M:%S.%f')[:-3]\n",
    "\n",
    "    # Construct the command\n",
    "    command = [\n",
    "        'ffmpeg',\n",
    "        '-i', input_file,\n",
    "        '-ss', cut_head,\n",
    "        '-to', cut_tail,\n",
    "        '-an', #audio no\n",
    "        '-c:v', 'libx264', output_file # libx264 to encode and copy to test (but that didnt work the last time)\n",
    "    ]\n",
    "\n",
    "    # Run the command\n",
    "    try:\n",
    "        subprocess.run(command, check=True)\n",
    "    except subprocess.CalledProcessError as e:\n",
    "        print(f\"An error occurred: {e}\")"
   ]
  },
  {
   "cell_type": "code",
   "execution_count": 184,
   "metadata": {},
   "outputs": [],
   "source": [
    "def get_audio(input_file,output_file,cut_head,cut_tail):\n",
    "    \n",
    "    #Construct command\n",
    "    command = ['ffmpeg',\n",
    "               '-i', input_file,\n",
    "               '-ss', cut_head,\n",
    "               '-to', cut_tail,\n",
    "               '-vn',\n",
    "               '-c:a', 'copy', output_file]\n",
    "    \n",
    "    # Run the command\n",
    "    try:\n",
    "        subprocess.run(command, check=True)\n",
    "    except subprocess.CalledProcessError as e:\n",
    "        print(f\"An error occurred: {e}\")"
   ]
  },
  {
   "cell_type": "code",
   "execution_count": 185,
   "metadata": {},
   "outputs": [],
   "source": [
    "def merge_audio_and_video(video_file,audio_file,output_file):\n",
    "    #Construct command\n",
    "    command = ['ffmpeg',\n",
    "               '-i', video_file,\n",
    "               '-i', audio_file,\n",
    "               '-c:v', 'copy',\n",
    "               '-c:a', 'copy', output_file\n",
    "               ]\n",
    "    # Run the command\n",
    "    try:\n",
    "        subprocess.run(command, check=True)\n",
    "    except subprocess.CalledProcessError as e:\n",
    "        print(f\"An error occurred: {e}\")"
   ]
  },
  {
   "cell_type": "code",
   "execution_count": 186,
   "metadata": {},
   "outputs": [],
   "source": [
    "def get_columns_to_cut(df):\n",
    "    pattern = re.compile(r'^rausschneiden\\d+_[a-z]+$')\n",
    "    dummy = []\n",
    "    for column in df.columns:\n",
    "        if pattern.match(column):\n",
    "            dummy.append(column)\n",
    "    return dummy"
   ]
  },
  {
   "cell_type": "code",
   "execution_count": 187,
   "metadata": {},
   "outputs": [],
   "source": [
    "def get_list_of_evens(input_list):\n",
    "    dummy = []\n",
    "    for i in range(len(input_list)):\n",
    "        if i % 2 == 0:\n",
    "            dummy.append(i)\n",
    "    return dummy"
   ]
  },
  {
   "cell_type": "code",
   "execution_count": 188,
   "metadata": {},
   "outputs": [],
   "source": [
    "def concatenate_videos(input_file, output_file):\n",
    "    \n",
    "    command = [\n",
    "        'ffmpeg',\n",
    "        '-f', 'concat', \n",
    "        '-i', input_file,\n",
    "         '-c:v', 'copy', #libx264 to encode if needed\n",
    "         '-c:a', 'copy',\n",
    "        output_file\n",
    "    ]\n",
    "\n",
    "    # Run the command\n",
    "    try:\n",
    "        subprocess.run(command, check=True)\n",
    "    except subprocess.CalledProcessError as e:\n",
    "        print(\"An error occured:\", e)"
   ]
  },
  {
   "cell_type": "code",
   "execution_count": 189,
   "metadata": {},
   "outputs": [],
   "source": [
    "def check_for_non_zero_digit(string):\n",
    "    # Define a regular expression pattern to match any digit other than 0\n",
    "    pattern = re.compile('[1-9]')\n",
    "\n",
    "    if pattern.search(string):\n",
    "        return True       \n",
    "    else:\n",
    "        return False\n"
   ]
  },
  {
   "cell_type": "code",
   "execution_count": 190,
   "metadata": {},
   "outputs": [],
   "source": [
    "def extract_data_from_row(df,row_index,columns):\n",
    "    dic = df.loc[row_index,columns].to_dict()\n",
    "\n",
    "    return dic"
   ]
  },
  {
   "cell_type": "code",
   "execution_count": 237,
   "metadata": {},
   "outputs": [],
   "source": [
    "def check_special_case(df):\n",
    "    columns = get_columns_to_cut(video_schnitt_df)\n",
    "    for idx, video_name in df[\"dateiname\"].items():\n",
    "        data = video_schnitt_df[\"rausschneiden1_ab\"][idx]\n",
    "        if check_for_non_zero_digit(data) == True:\n",
    "            dic = extract_data_from_row(df,idx,columns)\n",
    "            counter = 0\n",
    "            for key,value in dic.items():\n",
    "                if value == \"nan\":\n",
    "                    counter += 1\n",
    "            if counter < 2:\n",
    "                print(f\"\"\"Error because in row of {video_name}\n",
    "we need to have at least 2 free 'rausschneiden...' columns \n",
    "to execute the code. Please change the csv as needed and\n",
    "restart the script\"\"\")\n",
    "                sys.exit(\"Script terminated due to error.\")"
   ]
  },
  {
   "cell_type": "markdown",
   "metadata": {},
   "source": [
    "# Get file and clean it"
   ]
  },
  {
   "cell_type": "code",
   "execution_count": 202,
   "metadata": {},
   "outputs": [
    {
     "name": "stdout",
     "output_type": "stream",
     "text": [
      "Table Videoschnitt_Liste - Spaltennamen (1).csv loaded succesfully\n",
      "Table Columns cleaned\n"
     ]
    }
   ],
   "source": [
    "video_schnitt_df = get_the_table_data()\n",
    "video_schnitt_df = clean_the_data(video_schnitt_df)\n"
   ]
  },
  {
   "cell_type": "markdown",
   "metadata": {},
   "source": [
    "# Check Special Cases and input error"
   ]
  },
  {
   "cell_type": "code",
   "execution_count": 238,
   "metadata": {},
   "outputs": [],
   "source": [
    "check_special_case(video_schnitt_df)"
   ]
  },
  {
   "cell_type": "code",
   "execution_count": 260,
   "metadata": {},
   "outputs": [],
   "source": [
    "def solve_special_case(df):\n",
    "    \n",
    "    for idx,video_name in df[\"dateiname\"].items():\n",
    "        \n",
    "        if check_for_non_zero_digit(df[\"rausschneiden1_ab\"][idx]) == False:\n",
    "            continue\n",
    "\n",
    "        else:\n",
    "            columns = get_columns_to_cut(df)\n",
    "            dic = extract_data_from_row(df,idx,columns)\n",
    "            dummy = []\n",
    "            counter = 0\n",
    "\n",
    "            # put values from row into list and change first two columns to 000000\n",
    "            for key, value in dic.items():\n",
    "                if value != \"nan\":\n",
    "                    dummy.append(value)\n",
    "                if counter < 2:\n",
    "                    dic[key] = \"00:00:00\"\n",
    "                    counter += 1\n",
    "\n",
    "        for key, value in dic.items():\n",
    "            if value != \"00:00:00\" and dummy:\n",
    "                dic[key] = dummy.pop(0)\n",
    "        print(dic)\n",
    "      "
   ]
  },
  {
   "cell_type": "code",
   "execution_count": 261,
   "metadata": {},
   "outputs": [
    {
     "name": "stdout",
     "output_type": "stream",
     "text": [
      "{'rausschneiden1_ab': '00:00:00', 'rausschneiden1_bis': '00:00:00', 'rausschneiden2_ab': '00:03:00', 'rausschneiden2_bis': '00:05:00', 'rausschneiden3_ab': 'nan', 'rausschneiden3_bis': 'nan', 'rausschneiden4_ab': 'nan', 'rausschneiden4_bis': 'nan', 'rausschneiden5_ab': 'nan', 'rausschneiden5_bis': 'nan', 'rausschneiden6_ab': 'nan', 'rausschneiden6_bis': 'nan', 'rausschneiden7_ab': 'nan', 'rausschneiden7_bis': 'nan', 'rausschneiden8_ab': 'nan'}\n",
      "{'rausschneiden1_ab': '00:00:00', 'rausschneiden1_bis': '00:00:00', 'rausschneiden2_ab': '00:02:00', 'rausschneiden2_bis': '00:05:00', 'rausschneiden3_ab': '00:05:00', 'rausschneiden3_bis': '00:05:00', 'rausschneiden4_ab': '00:05:00', 'rausschneiden4_bis': '00:05:00', 'rausschneiden5_ab': '00:05:00', 'rausschneiden5_bis': '00:05:00', 'rausschneiden6_ab': '00:05:00', 'rausschneiden6_bis': '00:05:00', 'rausschneiden7_ab': '00:05:00', 'rausschneiden7_bis': '00:05:00', 'rausschneiden8_ab': '00:05:00'}\n"
     ]
    }
   ],
   "source": [
    "solve_special_case(video_schnitt_df)"
   ]
  },
  {
   "cell_type": "code",
   "execution_count": 209,
   "metadata": {},
   "outputs": [
    {
     "name": "stdout",
     "output_type": "stream",
     "text": [
      "Error occured: pop from empty list\n",
      "{'rausschneiden1_ab': '00:00:00', 'rausschneiden1_bis': '00:00:00', 'rausschneiden2_ab': '00:03:00', 'rausschneiden2_bis': '00:05:00', 'rausschneiden3_ab': 'nan', 'rausschneiden3_bis': 'nan', 'rausschneiden4_ab': 'nan', 'rausschneiden4_bis': 'nan', 'rausschneiden5_ab': 'nan', 'rausschneiden5_bis': 'nan', 'rausschneiden6_ab': 'nan', 'rausschneiden6_bis': 'nan', 'rausschneiden7_ab': 'nan', 'rausschneiden7_bis': 'nan', 'rausschneiden8_ab': 'nan'}\n"
     ]
    }
   ],
   "source": [
    "for key, value in dic.items():\n",
    "    if value != \"00:00:00\":\n",
    "        try:\n",
    "            dic[key] = dummy.pop(0)\n",
    "        except Exception as error:\n",
    "            print(\"Error occured:\",error)\n",
    "            break\n",
    "print(dic)"
   ]
  },
  {
   "cell_type": "code",
   "execution_count": 210,
   "metadata": {},
   "outputs": [
    {
     "name": "stdout",
     "output_type": "stream",
     "text": [
      "Normalverteilung.mp4 neues if statement\n",
      "ELR_Geradengleichung_Einleitung.mp4 neues if statement\n"
     ]
    }
   ],
   "source": [
    "for idx, video_name in video_schnitt_df[\"dateiname\"].items():\n",
    "    data = video_schnitt_df[\"rausschneiden1_ab\"][idx]\n",
    "    if check_for_non_zero_digit(data) == True:\n",
    "        print(video_name,\"neues if statement\")"
   ]
  },
  {
   "cell_type": "markdown",
   "metadata": {},
   "source": [
    "# Get Standbild"
   ]
  },
  {
   "cell_type": "code",
   "execution_count": 464,
   "metadata": {},
   "outputs": [
    {
     "name": "stdout",
     "output_type": "stream",
     "text": [
      "video_name: ELR_Geradengleichung.mp4 cuttime: 00:02:00\n"
     ]
    },
    {
     "name": "stderr",
     "output_type": "stream",
     "text": [
      "ffmpeg version 6.0 Copyright (c) 2000-2023 the FFmpeg developers\n",
      "  built with Apple clang version 14.0.0 (clang-1400.0.29.202)\n",
      "  configuration: --prefix=/usr/local/Cellar/ffmpeg/6.0_1 --enable-shared --enable-pthreads --enable-version3 --cc=clang --host-cflags= --host-ldflags= --enable-ffplay --enable-gnutls --enable-gpl --enable-libaom --enable-libaribb24 --enable-libbluray --enable-libdav1d --enable-libjxl --enable-libmp3lame --enable-libopus --enable-librav1e --enable-librist --enable-librubberband --enable-libsnappy --enable-libsrt --enable-libsvtav1 --enable-libtesseract --enable-libtheora --enable-libvidstab --enable-libvmaf --enable-libvorbis --enable-libvpx --enable-libwebp --enable-libx264 --enable-libx265 --enable-libxml2 --enable-libxvid --enable-lzma --enable-libfontconfig --enable-libfreetype --enable-frei0r --enable-libass --enable-libopencore-amrnb --enable-libopencore-amrwb --enable-libopenjpeg --enable-libspeex --enable-libsoxr --enable-libzmq --enable-libzimg --disable-libjack --disable-indev=jack --enable-videotoolbox --enable-audiotoolbox\n",
      "  libavutil      58.  2.100 / 58.  2.100\n",
      "  libavcodec     60.  3.100 / 60.  3.100\n",
      "  libavformat    60.  3.100 / 60.  3.100\n",
      "  libavdevice    60.  1.100 / 60.  1.100\n",
      "  libavfilter     9.  3.100 /  9.  3.100\n",
      "  libswscale      7.  1.100 /  7.  1.100\n",
      "  libswresample   4. 10.100 /  4. 10.100\n",
      "  libpostproc    57.  1.100 / 57.  1.100\n",
      "Input #0, mov,mp4,m4a,3gp,3g2,mj2, from 'ELR_Geradengleichung.mp4':\n",
      "  Metadata:\n",
      "    major_brand     : isom\n",
      "    minor_version   : 512\n",
      "    compatible_brands: isomiso2avc1mp41\n",
      "    encoder         : Lavf60.3.100\n",
      "  Duration: 00:14:42.88, start: 0.000000, bitrate: 255 kb/s\n",
      "  Stream #0:0[0x1](und): Video: h264 (High) (avc1 / 0x31637661), yuv420p(tv, bt709, progressive), 1920x1080 [SAR 1:1 DAR 16:9], 55 kb/s, 26.26 fps, 30 tbr, 15360 tbn (default)\n",
      "    Metadata:\n",
      "      handler_name    : VideoHandler\n",
      "      vendor_id       : [0][0][0][0]\n",
      "      encoder         : Lavc60.3.100 libx264\n",
      "  Stream #0:1[0x2](und): Audio: aac (LC) (mp4a / 0x6134706D), 48000 Hz, stereo, fltp, 191 kb/s (default)\n",
      "    Metadata:\n",
      "      handler_name    : SoundHandler\n",
      "      vendor_id       : [0][0][0][0]\n",
      "Stream mapping:\n",
      "  Stream #0:0 -> #0:0 (h264 (native) -> h264 (libx264))\n",
      "Press [q] to stop, [?] for help\n",
      "[libx264 @ 0x7fa5d2a1d040] using SAR=1/1\n",
      "[libx264 @ 0x7fa5d2a1d040] using cpu capabilities: MMX2 SSE2Fast SSSE3 SSE4.2 AVX FMA3 BMI2 AVX2\n",
      "[libx264 @ 0x7fa5d2a1d040] profile High, level 4.0, 4:2:0, 8-bit\n",
      "[libx264 @ 0x7fa5d2a1d040] 264 - core 164 r3108 31e19f9 - H.264/MPEG-4 AVC codec - Copyleft 2003-2023 - http://www.videolan.org/x264.html - options: cabac=1 ref=3 deblock=1:0:0 analyse=0x3:0x113 me=hex subme=7 psy=1 psy_rd=1.00:0.00 mixed_ref=1 me_range=16 chroma_me=1 trellis=1 8x8dct=1 cqm=0 deadzone=21,11 fast_pskip=1 chroma_qp_offset=-2 threads=6 lookahead_threads=1 sliced_threads=0 nr=0 decimate=1 interlaced=0 bluray_compat=0 constrained_intra=0 bframes=3 b_pyramid=2 b_adapt=1 b_bias=0 direct=1 weightb=1 open_gop=0 weightp=2 keyint=250 keyint_min=25 scenecut=40 intra_refresh=0 rc_lookahead=40 rc=crf mbtree=1 crf=23.0 qcomp=0.60 qpmin=0 qpmax=69 qpstep=4 ip_ratio=1.40 aq=1:1.00\n",
      "Output #0, mp4, to 'ELR_Geradengleichung_standbild.mp4':\n",
      "  Metadata:\n",
      "    major_brand     : isom\n",
      "    minor_version   : 512\n",
      "    compatible_brands: isomiso2avc1mp41\n",
      "    encoder         : Lavf60.3.100\n",
      "  Stream #0:0(und): Video: h264 (avc1 / 0x31637661), yuv420p(tv, bt709, progressive), 1920x1080 [SAR 1:1 DAR 16:9], q=2-31, 30 fps, 15360 tbn (default)\n",
      "    Metadata:\n",
      "      handler_name    : VideoHandler\n",
      "      vendor_id       : [0][0][0][0]\n",
      "      encoder         : Lavc60.3.100 libx264\n",
      "    Side data:\n",
      "      cpb: bitrate max/min/avg: 0/0/0 buffer size: 0 vbv_delay: N/A\n",
      "frame=    1 fps=0.0 q=29.0 Lsize=      21kB time=00:00:00.00 bitrate=N/A speed=   0x    eed=N/A    \n",
      "video:20kB audio:0kB subtitle:0kB other streams:0kB global headers:0kB muxing overhead: 4.215514%\n",
      "[libx264 @ 0x7fa5d2a1d040] frame I:1     Avg QP:26.08  size: 19783\n",
      "[libx264 @ 0x7fa5d2a1d040] mb I  I16..4: 19.8% 70.6%  9.6%\n",
      "[libx264 @ 0x7fa5d2a1d040] 8x8 transform intra:70.6%\n",
      "[libx264 @ 0x7fa5d2a1d040] coded y,uvDC,uvAC intra: 6.0% 0.0% 0.0%\n",
      "[libx264 @ 0x7fa5d2a1d040] i16 v,h,dc,p: 78% 14%  8%  0%\n",
      "[libx264 @ 0x7fa5d2a1d040] i8 v,h,dc,ddl,ddr,vr,hd,vl,hu: 78% 15%  7%  0%  0%  0%  0%  0%  0%\n",
      "[libx264 @ 0x7fa5d2a1d040] i4 v,h,dc,ddl,ddr,vr,hd,vl,hu: 53% 16%  9%  3%  4%  4%  4%  4%  3%\n",
      "[libx264 @ 0x7fa5d2a1d040] i8c dc,h,v,p: 100%  0%  0%  0%\n",
      "[libx264 @ 0x7fa5d2a1d040] kb/s:4747.92\n"
     ]
    },
    {
     "name": "stdout",
     "output_type": "stream",
     "text": [
      "video_name: ELR_Geradengleichung_Einleitung.mp4 cuttime: 00:01:00\n"
     ]
    },
    {
     "name": "stderr",
     "output_type": "stream",
     "text": [
      "ffmpeg version 6.0 Copyright (c) 2000-2023 the FFmpeg developers\n",
      "  built with Apple clang version 14.0.0 (clang-1400.0.29.202)\n",
      "  configuration: --prefix=/usr/local/Cellar/ffmpeg/6.0_1 --enable-shared --enable-pthreads --enable-version3 --cc=clang --host-cflags= --host-ldflags= --enable-ffplay --enable-gnutls --enable-gpl --enable-libaom --enable-libaribb24 --enable-libbluray --enable-libdav1d --enable-libjxl --enable-libmp3lame --enable-libopus --enable-librav1e --enable-librist --enable-librubberband --enable-libsnappy --enable-libsrt --enable-libsvtav1 --enable-libtesseract --enable-libtheora --enable-libvidstab --enable-libvmaf --enable-libvorbis --enable-libvpx --enable-libwebp --enable-libx264 --enable-libx265 --enable-libxml2 --enable-libxvid --enable-lzma --enable-libfontconfig --enable-libfreetype --enable-frei0r --enable-libass --enable-libopencore-amrnb --enable-libopencore-amrwb --enable-libopenjpeg --enable-libspeex --enable-libsoxr --enable-libzmq --enable-libzimg --disable-libjack --disable-indev=jack --enable-videotoolbox --enable-audiotoolbox\n",
      "  libavutil      58.  2.100 / 58.  2.100\n",
      "  libavcodec     60.  3.100 / 60.  3.100\n",
      "  libavformat    60.  3.100 / 60.  3.100\n",
      "  libavdevice    60.  1.100 / 60.  1.100\n",
      "  libavfilter     9.  3.100 /  9.  3.100\n",
      "  libswscale      7.  1.100 /  7.  1.100\n",
      "  libswresample   4. 10.100 /  4. 10.100\n",
      "  libpostproc    57.  1.100 / 57.  1.100\n",
      "Input #0, mov,mp4,m4a,3gp,3g2,mj2, from 'ELR_Geradengleichung_Einleitung.mp4':\n",
      "  Metadata:\n",
      "    major_brand     : isom\n",
      "    minor_version   : 512\n",
      "    compatible_brands: isomiso2avc1mp41\n",
      "    encoder         : Lavf59.27.100\n",
      "  Duration: 00:14:42.93, start: 0.000000, bitrate: 571 kb/s\n",
      "  Stream #0:0[0x1](und): Video: h264 (High) (avc1 / 0x31637661), yuv420p(tv, bt709, progressive), 1920x1080 [SAR 1:1 DAR 16:9], 370 kb/s, 30 fps, 30 tbr, 15360 tbn (default)\n",
      "    Metadata:\n",
      "      handler_name    : VideoHandler\n",
      "      vendor_id       : [0][0][0][0]\n",
      "  Stream #0:1[0x2](und): Audio: aac (LC) (mp4a / 0x6134706D), 48000 Hz, stereo, fltp, 191 kb/s (default)\n",
      "    Metadata:\n",
      "      handler_name    : SoundHandler\n",
      "      vendor_id       : [0][0][0][0]\n",
      "Stream mapping:\n",
      "  Stream #0:0 -> #0:0 (h264 (native) -> h264 (libx264))\n",
      "Press [q] to stop, [?] for help\n"
     ]
    },
    {
     "name": "stderr",
     "output_type": "stream",
     "text": [
      "[libx264 @ 0x7fdebba08c00] using SAR=1/1\n",
      "[libx264 @ 0x7fdebba08c00] using cpu capabilities: MMX2 SSE2Fast SSSE3 SSE4.2 AVX FMA3 BMI2 AVX2\n",
      "[libx264 @ 0x7fdebba08c00] profile High, level 4.0, 4:2:0, 8-bit\n",
      "[libx264 @ 0x7fdebba08c00] 264 - core 164 r3108 31e19f9 - H.264/MPEG-4 AVC codec - Copyleft 2003-2023 - http://www.videolan.org/x264.html - options: cabac=1 ref=3 deblock=1:0:0 analyse=0x3:0x113 me=hex subme=7 psy=1 psy_rd=1.00:0.00 mixed_ref=1 me_range=16 chroma_me=1 trellis=1 8x8dct=1 cqm=0 deadzone=21,11 fast_pskip=1 chroma_qp_offset=-2 threads=6 lookahead_threads=1 sliced_threads=0 nr=0 decimate=1 interlaced=0 bluray_compat=0 constrained_intra=0 bframes=3 b_pyramid=2 b_adapt=1 b_bias=0 direct=1 weightb=1 open_gop=0 weightp=2 keyint=250 keyint_min=25 scenecut=40 intra_refresh=0 rc_lookahead=40 rc=crf mbtree=1 crf=23.0 qcomp=0.60 qpmin=0 qpmax=69 qpstep=4 ip_ratio=1.40 aq=1:1.00\n",
      "Output #0, mp4, to 'ELR_Geradengleichung_Einleitung_standbild.mp4':\n",
      "  Metadata:\n",
      "    major_brand     : isom\n",
      "    minor_version   : 512\n",
      "    compatible_brands: isomiso2avc1mp41\n",
      "    encoder         : Lavf60.3.100\n",
      "  Stream #0:0(und): Video: h264 (avc1 / 0x31637661), yuv420p(tv, bt709, progressive), 1920x1080 [SAR 1:1 DAR 16:9], q=2-31, 30 fps, 15360 tbn (default)\n",
      "    Metadata:\n",
      "      handler_name    : VideoHandler\n",
      "      vendor_id       : [0][0][0][0]\n",
      "      encoder         : Lavc60.3.100 libx264\n",
      "    Side data:\n",
      "      cpb: bitrate max/min/avg: 0/0/0 buffer size: 0 vbv_delay: N/A\n",
      "frame=    1 fps=0.1 q=29.0 Lsize=      30kB time=00:00:00.00 bitrate=N/A speed=   0x    eed=N/A    \n",
      "video:30kB audio:0kB subtitle:0kB other streams:0kB global headers:0kB muxing overhead: 2.852987%\n",
      "[libx264 @ 0x7fdebba08c00] frame I:1     Avg QP:19.51  size: 29560\n",
      "[libx264 @ 0x7fdebba08c00] mb I  I16..4: 51.4% 45.0%  3.6%\n",
      "[libx264 @ 0x7fdebba08c00] 8x8 transform intra:45.0%\n",
      "[libx264 @ 0x7fdebba08c00] coded y,uvDC,uvAC intra: 13.1% 36.7% 3.0%\n",
      "[libx264 @ 0x7fdebba08c00] i16 v,h,dc,p: 65% 22%  8%  4%\n",
      "[libx264 @ 0x7fdebba08c00] i8 v,h,dc,ddl,ddr,vr,hd,vl,hu: 37% 17% 34%  2%  2%  2%  2%  2%  2%\n",
      "[libx264 @ 0x7fdebba08c00] i4 v,h,dc,ddl,ddr,vr,hd,vl,hu: 28% 15% 16%  8%  8%  7%  7%  6%  5%\n",
      "[libx264 @ 0x7fdebba08c00] i8c dc,h,v,p: 57% 20% 22%  1%\n",
      "[libx264 @ 0x7fdebba08c00] kb/s:7094.40\n"
     ]
    }
   ],
   "source": [
    "try:\n",
    "    for idx, video_name in video_schnitt_df[\"dateiname\"].items():\n",
    "        output_file = f\"{video_name.split('.')[0]}_standbild.mp4\"\n",
    "        cut_head = video_schnitt_df[\"standbild_bis\"][idx]\n",
    "\n",
    "        #building logic when just to cut head or tail\n",
    "        if cut_head == \"nan\":\n",
    "            continue\n",
    "        print(\"video_name:\",video_name,\"cuttime:\",cut_head,)\n",
    "        get_standbild(video_name,output_file,cut_head)\n",
    "except Exception as error:\n",
    "    print(\"An error occurred:\", error)\n",
    "\n"
   ]
  },
  {
   "cell_type": "markdown",
   "metadata": {},
   "source": [
    "# Get audio"
   ]
  },
  {
   "cell_type": "code",
   "execution_count": 465,
   "metadata": {},
   "outputs": [
    {
     "name": "stdout",
     "output_type": "stream",
     "text": [
      "video_name ELR_Geradengleichung.mp4 output_file ELR_Geradengleichung_head_audio.mp4 cut_head 00:00:00 cut_tail: 00:02:00\n"
     ]
    },
    {
     "name": "stderr",
     "output_type": "stream",
     "text": [
      "ffmpeg version 6.0 Copyright (c) 2000-2023 the FFmpeg developers\n",
      "  built with Apple clang version 14.0.0 (clang-1400.0.29.202)\n",
      "  configuration: --prefix=/usr/local/Cellar/ffmpeg/6.0_1 --enable-shared --enable-pthreads --enable-version3 --cc=clang --host-cflags= --host-ldflags= --enable-ffplay --enable-gnutls --enable-gpl --enable-libaom --enable-libaribb24 --enable-libbluray --enable-libdav1d --enable-libjxl --enable-libmp3lame --enable-libopus --enable-librav1e --enable-librist --enable-librubberband --enable-libsnappy --enable-libsrt --enable-libsvtav1 --enable-libtesseract --enable-libtheora --enable-libvidstab --enable-libvmaf --enable-libvorbis --enable-libvpx --enable-libwebp --enable-libx264 --enable-libx265 --enable-libxml2 --enable-libxvid --enable-lzma --enable-libfontconfig --enable-libfreetype --enable-frei0r --enable-libass --enable-libopencore-amrnb --enable-libopencore-amrwb --enable-libopenjpeg --enable-libspeex --enable-libsoxr --enable-libzmq --enable-libzimg --disable-libjack --disable-indev=jack --enable-videotoolbox --enable-audiotoolbox\n",
      "  libavutil      58.  2.100 / 58.  2.100\n",
      "  libavcodec     60.  3.100 / 60.  3.100\n",
      "  libavformat    60.  3.100 / 60.  3.100\n",
      "  libavdevice    60.  1.100 / 60.  1.100\n",
      "  libavfilter     9.  3.100 /  9.  3.100\n",
      "  libswscale      7.  1.100 /  7.  1.100\n",
      "  libswresample   4. 10.100 /  4. 10.100\n",
      "  libpostproc    57.  1.100 / 57.  1.100\n",
      "Input #0, mov,mp4,m4a,3gp,3g2,mj2, from 'ELR_Geradengleichung.mp4':\n",
      "  Metadata:\n",
      "    major_brand     : isom\n",
      "    minor_version   : 512\n",
      "    compatible_brands: isomiso2avc1mp41\n",
      "    encoder         : Lavf60.3.100\n",
      "  Duration: 00:14:42.88, start: 0.000000, bitrate: 255 kb/s\n",
      "  Stream #0:0[0x1](und): Video: h264 (High) (avc1 / 0x31637661), yuv420p(tv, bt709, progressive), 1920x1080 [SAR 1:1 DAR 16:9], 55 kb/s, 26.26 fps, 30 tbr, 15360 tbn (default)\n",
      "    Metadata:\n",
      "      handler_name    : VideoHandler\n",
      "      vendor_id       : [0][0][0][0]\n",
      "      encoder         : Lavc60.3.100 libx264\n",
      "  Stream #0:1[0x2](und): Audio: aac (LC) (mp4a / 0x6134706D), 48000 Hz, stereo, fltp, 191 kb/s (default)\n",
      "    Metadata:\n",
      "      handler_name    : SoundHandler\n",
      "      vendor_id       : [0][0][0][0]\n",
      "Output #0, mp4, to 'ELR_Geradengleichung_head_audio.mp4':\n",
      "  Metadata:\n",
      "    major_brand     : isom\n",
      "    minor_version   : 512\n",
      "    compatible_brands: isomiso2avc1mp41\n",
      "    encoder         : Lavf60.3.100\n",
      "  Stream #0:0(und): Audio: aac (LC) (mp4a / 0x6134706D), 48000 Hz, stereo, fltp, 191 kb/s (default)\n",
      "    Metadata:\n",
      "      handler_name    : SoundHandler\n",
      "      vendor_id       : [0][0][0][0]\n",
      "Stream mapping:\n",
      "  Stream #0:1 -> #0:0 (copy)\n",
      "Press [q] to stop, [?] for help\n",
      "size=    2835kB time=00:01:59.99 bitrate= 193.6kbits/s speed= 737x       \n",
      "video:0kB audio:2812kB subtitle:0kB other streams:0kB global headers:0kB muxing overhead: 0.811234%\n"
     ]
    },
    {
     "name": "stdout",
     "output_type": "stream",
     "text": [
      "video_name ELR_Geradengleichung_Einleitung.mp4 output_file ELR_Geradengleichung_Einleitung_head_audio.mp4 cut_head 00:00:00 cut_tail: 00:01:00\n"
     ]
    },
    {
     "name": "stderr",
     "output_type": "stream",
     "text": [
      "ffmpeg version 6.0 Copyright (c) 2000-2023 the FFmpeg developers\n",
      "  built with Apple clang version 14.0.0 (clang-1400.0.29.202)\n",
      "  configuration: --prefix=/usr/local/Cellar/ffmpeg/6.0_1 --enable-shared --enable-pthreads --enable-version3 --cc=clang --host-cflags= --host-ldflags= --enable-ffplay --enable-gnutls --enable-gpl --enable-libaom --enable-libaribb24 --enable-libbluray --enable-libdav1d --enable-libjxl --enable-libmp3lame --enable-libopus --enable-librav1e --enable-librist --enable-librubberband --enable-libsnappy --enable-libsrt --enable-libsvtav1 --enable-libtesseract --enable-libtheora --enable-libvidstab --enable-libvmaf --enable-libvorbis --enable-libvpx --enable-libwebp --enable-libx264 --enable-libx265 --enable-libxml2 --enable-libxvid --enable-lzma --enable-libfontconfig --enable-libfreetype --enable-frei0r --enable-libass --enable-libopencore-amrnb --enable-libopencore-amrwb --enable-libopenjpeg --enable-libspeex --enable-libsoxr --enable-libzmq --enable-libzimg --disable-libjack --disable-indev=jack --enable-videotoolbox --enable-audiotoolbox\n",
      "  libavutil      58.  2.100 / 58.  2.100\n",
      "  libavcodec     60.  3.100 / 60.  3.100\n",
      "  libavformat    60.  3.100 / 60.  3.100\n",
      "  libavdevice    60.  1.100 / 60.  1.100\n",
      "  libavfilter     9.  3.100 /  9.  3.100\n",
      "  libswscale      7.  1.100 /  7.  1.100\n",
      "  libswresample   4. 10.100 /  4. 10.100\n",
      "  libpostproc    57.  1.100 / 57.  1.100\n",
      "Input #0, mov,mp4,m4a,3gp,3g2,mj2, from 'ELR_Geradengleichung_Einleitung.mp4':\n",
      "  Metadata:\n",
      "    major_brand     : isom\n",
      "    minor_version   : 512\n",
      "    compatible_brands: isomiso2avc1mp41\n",
      "    encoder         : Lavf59.27.100\n",
      "  Duration: 00:14:42.93, start: 0.000000, bitrate: 571 kb/s\n",
      "  Stream #0:0[0x1](und): Video: h264 (High) (avc1 / 0x31637661), yuv420p(tv, bt709, progressive), 1920x1080 [SAR 1:1 DAR 16:9], 370 kb/s, 30 fps, 30 tbr, 15360 tbn (default)\n",
      "    Metadata:\n",
      "      handler_name    : VideoHandler\n",
      "      vendor_id       : [0][0][0][0]\n",
      "  Stream #0:1[0x2](und): Audio: aac (LC) (mp4a / 0x6134706D), 48000 Hz, stereo, fltp, 191 kb/s (default)\n",
      "    Metadata:\n",
      "      handler_name    : SoundHandler\n",
      "      vendor_id       : [0][0][0][0]\n",
      "Output #0, mp4, to 'ELR_Geradengleichung_Einleitung_head_audio.mp4':\n",
      "  Metadata:\n",
      "    major_brand     : isom\n",
      "    minor_version   : 512\n",
      "    compatible_brands: isomiso2avc1mp41\n",
      "    encoder         : Lavf60.3.100\n",
      "  Stream #0:0(und): Audio: aac (LC) (mp4a / 0x6134706D), 48000 Hz, stereo, fltp, 191 kb/s (default)\n",
      "    Metadata:\n",
      "      handler_name    : SoundHandler\n",
      "      vendor_id       : [0][0][0][0]\n",
      "Stream mapping:\n",
      "  Stream #0:1 -> #0:0 (copy)\n",
      "Press [q] to stop, [?] for help\n",
      "size=    1418kB time=00:00:59.98 bitrate= 193.7kbits/s speed=1.24e+03x    \n",
      "video:0kB audio:1406kB subtitle:0kB other streams:0kB global headers:0kB muxing overhead: 0.838989%\n"
     ]
    }
   ],
   "source": [
    "try:\n",
    "    for idx, video_name in video_schnitt_df[\"dateiname\"].items():\n",
    "        \n",
    "        if video_schnitt_df[\"standbild_bis\"][idx] == \"nan\":\n",
    "            continue\n",
    "\n",
    "        #Define arguments\n",
    "        output_file = f\"{video_name.split('.')[0]}_head_audio.mp4\"\n",
    "        cut_head = \"00:00:00\"\n",
    "        cut_tail = video_schnitt_df[\"standbild_bis\"][idx]\n",
    "\n",
    "        print(\"video_name\",video_name,\"output_file\", output_file,\"cut_head\",cut_head,\"cut_tail:\", cut_tail)\n",
    "        get_audio(video_name,output_file,cut_head,cut_tail)\n",
    "\n",
    "except Exception as error:\n",
    "    print(\"An error occurred:\", error)"
   ]
  },
  {
   "cell_type": "markdown",
   "metadata": {},
   "source": [
    "# Cut head of the original Video"
   ]
  },
  {
   "cell_type": "code",
   "execution_count": 466,
   "metadata": {},
   "outputs": [
    {
     "name": "stdout",
     "output_type": "stream",
     "text": [
      "input name: ELR_Geradengleichung.mp4 Schnittpunkte: 00:02:00 00:14:42.88\n"
     ]
    },
    {
     "name": "stderr",
     "output_type": "stream",
     "text": [
      "ffmpeg version 6.0 Copyright (c) 2000-2023 the FFmpeg developers\n",
      "  built with Apple clang version 14.0.0 (clang-1400.0.29.202)\n",
      "  configuration: --prefix=/usr/local/Cellar/ffmpeg/6.0_1 --enable-shared --enable-pthreads --enable-version3 --cc=clang --host-cflags= --host-ldflags= --enable-ffplay --enable-gnutls --enable-gpl --enable-libaom --enable-libaribb24 --enable-libbluray --enable-libdav1d --enable-libjxl --enable-libmp3lame --enable-libopus --enable-librav1e --enable-librist --enable-librubberband --enable-libsnappy --enable-libsrt --enable-libsvtav1 --enable-libtesseract --enable-libtheora --enable-libvidstab --enable-libvmaf --enable-libvorbis --enable-libvpx --enable-libwebp --enable-libx264 --enable-libx265 --enable-libxml2 --enable-libxvid --enable-lzma --enable-libfontconfig --enable-libfreetype --enable-frei0r --enable-libass --enable-libopencore-amrnb --enable-libopencore-amrwb --enable-libopenjpeg --enable-libspeex --enable-libsoxr --enable-libzmq --enable-libzimg --disable-libjack --disable-indev=jack --enable-videotoolbox --enable-audiotoolbox\n",
      "  libavutil      58.  2.100 / 58.  2.100\n",
      "  libavcodec     60.  3.100 / 60.  3.100\n",
      "  libavformat    60.  3.100 / 60.  3.100\n",
      "  libavdevice    60.  1.100 / 60.  1.100\n",
      "  libavfilter     9.  3.100 /  9.  3.100\n",
      "  libswscale      7.  1.100 /  7.  1.100\n",
      "  libswresample   4. 10.100 /  4. 10.100\n",
      "  libpostproc    57.  1.100 / 57.  1.100\n",
      "Input #0, mov,mp4,m4a,3gp,3g2,mj2, from 'ELR_Geradengleichung.mp4':\n",
      "  Metadata:\n",
      "    major_brand     : isom\n",
      "    minor_version   : 512\n",
      "    compatible_brands: isomiso2avc1mp41\n",
      "    encoder         : Lavf60.3.100\n",
      "  Duration: 00:14:42.88, start: 0.000000, bitrate: 255 kb/s\n",
      "  Stream #0:0[0x1](und): Video: h264 (High) (avc1 / 0x31637661), yuv420p(tv, bt709, progressive), 1920x1080 [SAR 1:1 DAR 16:9], 55 kb/s, 26.26 fps, 30 tbr, 15360 tbn (default)\n",
      "    Metadata:\n",
      "      handler_name    : VideoHandler\n",
      "      vendor_id       : [0][0][0][0]\n",
      "      encoder         : Lavc60.3.100 libx264\n",
      "  Stream #0:1[0x2](und): Audio: aac (LC) (mp4a / 0x6134706D), 48000 Hz, stereo, fltp, 191 kb/s (default)\n",
      "    Metadata:\n",
      "      handler_name    : SoundHandler\n",
      "      vendor_id       : [0][0][0][0]\n",
      "Output #0, mp4, to 'ELR_Geradengleichung_ohne_start_standbild.mp4':\n",
      "  Metadata:\n",
      "    major_brand     : isom\n",
      "    minor_version   : 512\n",
      "    compatible_brands: isomiso2avc1mp41\n",
      "    encoder         : Lavf60.3.100\n",
      "  Stream #0:0(und): Video: h264 (High) (avc1 / 0x31637661), yuv420p(tv, bt709, progressive), 1920x1080 [SAR 1:1 DAR 16:9], q=2-31, 55 kb/s, 26.26 fps, 30 tbr, 15360 tbn (default)\n",
      "    Metadata:\n",
      "      handler_name    : VideoHandler\n",
      "      vendor_id       : [0][0][0][0]\n",
      "      encoder         : Lavc60.3.100 libx264\n",
      "  Stream #0:1(und): Audio: aac (LC) (mp4a / 0x6134706D), 48000 Hz, stereo, fltp, 191 kb/s (default)\n",
      "    Metadata:\n",
      "      handler_name    : SoundHandler\n",
      "      vendor_id       : [0][0][0][0]\n",
      "Stream mapping:\n",
      "  Stream #0:0 -> #0:0 (copy)\n",
      "  Stream #0:1 -> #0:1 (copy)\n",
      "Press [q] to stop, [?] for help\n",
      "frame=22687 fps=17718 q=-1.0 Lsize=   24518kB time=00:12:42.87 bitrate= 263.3kbits/s speed= 596x    \n",
      "video:5821kB audio:17880kB subtitle:0kB other streams:0kB global headers:0kB muxing overhead: 3.444339%\n"
     ]
    },
    {
     "name": "stdout",
     "output_type": "stream",
     "text": [
      "input name: ELR_Geradengleichung_Einleitung.mp4 Schnittpunkte: 00:01:00 00:14:42.93\n"
     ]
    },
    {
     "name": "stderr",
     "output_type": "stream",
     "text": [
      "ffmpeg version 6.0 Copyright (c) 2000-2023 the FFmpeg developers\n",
      "  built with Apple clang version 14.0.0 (clang-1400.0.29.202)\n",
      "  configuration: --prefix=/usr/local/Cellar/ffmpeg/6.0_1 --enable-shared --enable-pthreads --enable-version3 --cc=clang --host-cflags= --host-ldflags= --enable-ffplay --enable-gnutls --enable-gpl --enable-libaom --enable-libaribb24 --enable-libbluray --enable-libdav1d --enable-libjxl --enable-libmp3lame --enable-libopus --enable-librav1e --enable-librist --enable-librubberband --enable-libsnappy --enable-libsrt --enable-libsvtav1 --enable-libtesseract --enable-libtheora --enable-libvidstab --enable-libvmaf --enable-libvorbis --enable-libvpx --enable-libwebp --enable-libx264 --enable-libx265 --enable-libxml2 --enable-libxvid --enable-lzma --enable-libfontconfig --enable-libfreetype --enable-frei0r --enable-libass --enable-libopencore-amrnb --enable-libopencore-amrwb --enable-libopenjpeg --enable-libspeex --enable-libsoxr --enable-libzmq --enable-libzimg --disable-libjack --disable-indev=jack --enable-videotoolbox --enable-audiotoolbox\n",
      "  libavutil      58.  2.100 / 58.  2.100\n",
      "  libavcodec     60.  3.100 / 60.  3.100\n",
      "  libavformat    60.  3.100 / 60.  3.100\n",
      "  libavdevice    60.  1.100 / 60.  1.100\n",
      "  libavfilter     9.  3.100 /  9.  3.100\n",
      "  libswscale      7.  1.100 /  7.  1.100\n",
      "  libswresample   4. 10.100 /  4. 10.100\n",
      "  libpostproc    57.  1.100 / 57.  1.100\n",
      "Input #0, mov,mp4,m4a,3gp,3g2,mj2, from 'ELR_Geradengleichung_Einleitung.mp4':\n",
      "  Metadata:\n",
      "    major_brand     : isom\n",
      "    minor_version   : 512\n",
      "    compatible_brands: isomiso2avc1mp41\n",
      "    encoder         : Lavf59.27.100\n",
      "  Duration: 00:14:42.93, start: 0.000000, bitrate: 571 kb/s\n",
      "  Stream #0:0[0x1](und): Video: h264 (High) (avc1 / 0x31637661), yuv420p(tv, bt709, progressive), 1920x1080 [SAR 1:1 DAR 16:9], 370 kb/s, 30 fps, 30 tbr, 15360 tbn (default)\n",
      "    Metadata:\n",
      "      handler_name    : VideoHandler\n",
      "      vendor_id       : [0][0][0][0]\n",
      "  Stream #0:1[0x2](und): Audio: aac (LC) (mp4a / 0x6134706D), 48000 Hz, stereo, fltp, 191 kb/s (default)\n",
      "    Metadata:\n",
      "      handler_name    : SoundHandler\n",
      "      vendor_id       : [0][0][0][0]\n",
      "Output #0, mp4, to 'ELR_Geradengleichung_Einleitung_ohne_start_standbild.mp4':\n",
      "  Metadata:\n",
      "    major_brand     : isom\n",
      "    minor_version   : 512\n",
      "    compatible_brands: isomiso2avc1mp41\n",
      "    encoder         : Lavf60.3.100\n",
      "  Stream #0:0(und): Video: h264 (High) (avc1 / 0x31637661), yuv420p(tv, bt709, progressive), 1920x1080 [SAR 1:1 DAR 16:9], q=2-31, 370 kb/s, 30 fps, 30 tbr, 15360 tbn (default)\n",
      "    Metadata:\n",
      "      handler_name    : VideoHandler\n",
      "      vendor_id       : [0][0][0][0]\n",
      "  Stream #0:1(und): Audio: aac (LC) (mp4a / 0x6134706D), 48000 Hz, stereo, fltp, 191 kb/s (default)\n",
      "    Metadata:\n",
      "      handler_name    : SoundHandler\n",
      "      vendor_id       : [0][0][0][0]\n",
      "Stream mapping:\n",
      "  Stream #0:0 -> #0:0 (copy)\n",
      "  Stream #0:1 -> #0:1 (copy)\n",
      "Press [q] to stop, [?] for help\n",
      "frame=24509 fps=19235 q=-1.0 Lsize=   39839kB time=00:13:42.85 bitrate= 396.6kbits/s speed= 646x    \n",
      "video:19672kB audio:19286kB subtitle:0kB other streams:0kB global headers:0kB muxing overhead: 2.262778%\n"
     ]
    }
   ],
   "source": [
    "try:\n",
    "    for idx, video_name in video_schnitt_df[\"dateiname\"].items():\n",
    "\n",
    "        if video_schnitt_df[\"standbild_bis\"][idx] == \"nan\":\n",
    "            continue\n",
    "        \n",
    "        # define arguments\n",
    "        cut_head = video_schnitt_df[\"standbild_bis\"][idx]\n",
    "        cut_tail = get_video_duration(video_name)\n",
    "        output_file = f\"{video_name.split('.')[0]}_ohne_start_standbild.mp4\"\n",
    "    \n",
    "        print(\"input name:\",video_name,\"Schnittpunkte:\", cut_head, cut_tail)\n",
    "        cut_head_tail(video_name, output_file, cut_head, cut_tail)\n",
    "except Exception as error:\n",
    "    print(\"An error occurred:\", error)"
   ]
  },
  {
   "cell_type": "markdown",
   "metadata": {},
   "source": [
    "# Merge audio and video"
   ]
  },
  {
   "cell_type": "code",
   "execution_count": 467,
   "metadata": {},
   "outputs": [
    {
     "name": "stderr",
     "output_type": "stream",
     "text": [
      "ffmpeg version 6.0 Copyright (c) 2000-2023 the FFmpeg developers\n",
      "  built with Apple clang version 14.0.0 (clang-1400.0.29.202)\n",
      "  configuration: --prefix=/usr/local/Cellar/ffmpeg/6.0_1 --enable-shared --enable-pthreads --enable-version3 --cc=clang --host-cflags= --host-ldflags= --enable-ffplay --enable-gnutls --enable-gpl --enable-libaom --enable-libaribb24 --enable-libbluray --enable-libdav1d --enable-libjxl --enable-libmp3lame --enable-libopus --enable-librav1e --enable-librist --enable-librubberband --enable-libsnappy --enable-libsrt --enable-libsvtav1 --enable-libtesseract --enable-libtheora --enable-libvidstab --enable-libvmaf --enable-libvorbis --enable-libvpx --enable-libwebp --enable-libx264 --enable-libx265 --enable-libxml2 --enable-libxvid --enable-lzma --enable-libfontconfig --enable-libfreetype --enable-frei0r --enable-libass --enable-libopencore-amrnb --enable-libopencore-amrwb --enable-libopenjpeg --enable-libspeex --enable-libsoxr --enable-libzmq --enable-libzimg --disable-libjack --disable-indev=jack --enable-videotoolbox --enable-audiotoolbox\n",
      "  libavutil      58.  2.100 / 58.  2.100\n",
      "  libavcodec     60.  3.100 / 60.  3.100\n",
      "  libavformat    60.  3.100 / 60.  3.100\n",
      "  libavdevice    60.  1.100 / 60.  1.100\n",
      "  libavfilter     9.  3.100 /  9.  3.100\n",
      "  libswscale      7.  1.100 /  7.  1.100\n",
      "  libswresample   4. 10.100 /  4. 10.100\n",
      "  libpostproc    57.  1.100 / 57.  1.100\n"
     ]
    },
    {
     "name": "stdout",
     "output_type": "stream",
     "text": [
      "video: ELR_Geradengleichung_standbild.mp4 audio: ELR_Geradengleichung_head_audio.mp4 output ELR_Geradengleichung_merged_start.mp4\n"
     ]
    },
    {
     "name": "stderr",
     "output_type": "stream",
     "text": [
      "Input #0, mov,mp4,m4a,3gp,3g2,mj2, from 'ELR_Geradengleichung_standbild.mp4':\n",
      "  Metadata:\n",
      "    major_brand     : isom\n",
      "    minor_version   : 512\n",
      "    compatible_brands: isomiso2avc1mp41\n",
      "    encoder         : Lavf60.3.100\n",
      "  Duration: 00:00:00.03, start: 0.000000, bitrate: 5120 kb/s\n",
      "  Stream #0:0[0x1](und): Video: h264 (High) (avc1 / 0x31637661), yuv420p(tv, bt709, progressive), 1920x1080 [SAR 1:1 DAR 16:9], 4913 kb/s, 30 fps, 30 tbr, 15360 tbn (default)\n",
      "    Metadata:\n",
      "      handler_name    : VideoHandler\n",
      "      vendor_id       : [0][0][0][0]\n",
      "      encoder         : Lavc60.3.100 libx264\n",
      "Input #1, mov,mp4,m4a,3gp,3g2,mj2, from 'ELR_Geradengleichung_head_audio.mp4':\n",
      "  Metadata:\n",
      "    major_brand     : isom\n",
      "    minor_version   : 512\n",
      "    compatible_brands: isomiso2mp41\n",
      "    encoder         : Lavf60.3.100\n",
      "  Duration: 00:02:00.02, start: 0.000000, bitrate: 193 kb/s\n",
      "  Stream #1:0[0x1](und): Audio: aac (LC) (mp4a / 0x6134706D), 48000 Hz, stereo, fltp, 191 kb/s (default)\n",
      "    Metadata:\n",
      "      handler_name    : SoundHandler\n",
      "      vendor_id       : [0][0][0][0]\n",
      "Output #0, mp4, to 'ELR_Geradengleichung_merged_start.mp4':\n",
      "  Metadata:\n",
      "    major_brand     : isom\n",
      "    minor_version   : 512\n",
      "    compatible_brands: isomiso2avc1mp41\n",
      "    encoder         : Lavf60.3.100\n",
      "  Stream #0:0(und): Video: h264 (High) (avc1 / 0x31637661), yuv420p(tv, bt709, progressive), 1920x1080 [SAR 1:1 DAR 16:9], q=2-31, 4913 kb/s, 30 fps, 30 tbr, 15360 tbn (default)\n",
      "    Metadata:\n",
      "      handler_name    : VideoHandler\n",
      "      vendor_id       : [0][0][0][0]\n",
      "      encoder         : Lavc60.3.100 libx264\n",
      "  Stream #0:1(und): Audio: aac (LC) (mp4a / 0x6134706D), 48000 Hz, stereo, fltp, 191 kb/s (default)\n",
      "    Metadata:\n",
      "      handler_name    : SoundHandler\n",
      "      vendor_id       : [0][0][0][0]\n",
      "Stream mapping:\n",
      "  Stream #0:0 -> #0:0 (copy)\n",
      "  Stream #1:0 -> #0:1 (copy)\n",
      "Press [q] to stop, [?] for help\n",
      "frame=    1 fps=0.0 q=-1.0 Lsize=    2856kB time=00:01:59.99 bitrate= 195.0kbits/s speed=2.12e+03x    \n",
      "video:20kB audio:2812kB subtitle:0kB other streams:0kB global headers:0kB muxing overhead: 0.826367%\n",
      "ffmpeg version 6.0 Copyright (c) 2000-2023 the FFmpeg developers\n",
      "  built with Apple clang version 14.0.0 (clang-1400.0.29.202)\n",
      "  configuration: --prefix=/usr/local/Cellar/ffmpeg/6.0_1 --enable-shared --enable-pthreads --enable-version3 --cc=clang --host-cflags= --host-ldflags= --enable-ffplay --enable-gnutls --enable-gpl --enable-libaom --enable-libaribb24 --enable-libbluray --enable-libdav1d --enable-libjxl --enable-libmp3lame --enable-libopus --enable-librav1e --enable-librist --enable-librubberband --enable-libsnappy --enable-libsrt --enable-libsvtav1 --enable-libtesseract --enable-libtheora --enable-libvidstab --enable-libvmaf --enable-libvorbis --enable-libvpx --enable-libwebp --enable-libx264 --enable-libx265 --enable-libxml2 --enable-libxvid --enable-lzma --enable-libfontconfig --enable-libfreetype --enable-frei0r --enable-libass --enable-libopencore-amrnb --enable-libopencore-amrwb --enable-libopenjpeg --enable-libspeex --enable-libsoxr --enable-libzmq --enable-libzimg --disable-libjack --disable-indev=jack --enable-videotoolbox --enable-audiotoolbox\n",
      "  libavutil      58.  2.100 / 58.  2.100\n",
      "  libavcodec     60.  3.100 / 60.  3.100\n",
      "  libavformat    60.  3.100 / 60.  3.100\n",
      "  libavdevice    60.  1.100 / 60.  1.100\n",
      "  libavfilter     9.  3.100 /  9.  3.100\n",
      "  libswscale      7.  1.100 /  7.  1.100\n",
      "  libswresample   4. 10.100 /  4. 10.100\n",
      "  libpostproc    57.  1.100 / 57.  1.100\n",
      "Input #0, mov,mp4,m4a,3gp,3g2,mj2, from 'ELR_Geradengleichung_Einleitung_standbild.mp4':\n",
      "  Metadata:\n",
      "    major_brand     : isom\n",
      "    minor_version   : 512\n",
      "    compatible_brands: isomiso2avc1mp41\n",
      "    encoder         : Lavf60.3.100\n",
      "  Duration: 00:00:00.03, start: 0.000000, bitrate: 7466 kb/s\n",
      "  Stream #0:0[0x1](und): Video: h264 (High) (avc1 / 0x31637661), yuv420p(tv, bt709, progressive), 1920x1080 [SAR 1:1 DAR 16:9], 7260 kb/s, 30 fps, 30 tbr, 15360 tbn (default)\n",
      "    Metadata:\n",
      "      handler_name    : VideoHandler\n",
      "      vendor_id       : [0][0][0][0]\n",
      "      encoder         : Lavc60.3.100 libx264\n",
      "Input #1, mov,mp4,m4a,3gp,3g2,mj2, from 'ELR_Geradengleichung_Einleitung_head_audio.mp4':\n",
      "  Metadata:\n",
      "    major_brand     : isom\n",
      "    minor_version   : 512\n",
      "    compatible_brands: isomiso2mp41\n",
      "    encoder         : Lavf60.3.100\n",
      "  Duration: 00:01:00.01, start: 0.000000, bitrate: 193 kb/s\n",
      "  Stream #1:0[0x1](und): Audio: aac (LC) (mp4a / 0x6134706D), 48000 Hz, stereo, fltp, 191 kb/s (default)\n",
      "    Metadata:\n",
      "      handler_name    : SoundHandler\n",
      "      vendor_id       : [0][0][0][0]\n",
      "Output #0, mp4, to 'ELR_Geradengleichung_Einleitung_merged_start.mp4':\n",
      "  Metadata:\n",
      "    major_brand     : isom\n",
      "    minor_version   : 512\n",
      "    compatible_brands: isomiso2avc1mp41\n",
      "    encoder         : Lavf60.3.100\n",
      "  Stream #0:0(und): Video: h264 (High) (avc1 / 0x31637661), yuv420p(tv, bt709, progressive), 1920x1080 [SAR 1:1 DAR 16:9], q=2-31, 7260 kb/s, 30 fps, 30 tbr, 15360 tbn (default)\n",
      "    Metadata:\n",
      "      handler_name    : VideoHandler\n",
      "      vendor_id       : [0][0][0][0]\n",
      "      encoder         : Lavc60.3.100 libx264\n",
      "  Stream #0:1(und): Audio: aac (LC) (mp4a / 0x6134706D), 48000 Hz, stereo, fltp, 191 kb/s (default)\n",
      "    Metadata:\n",
      "      handler_name    : SoundHandler\n",
      "      vendor_id       : [0][0][0][0]\n",
      "Stream mapping:\n",
      "  Stream #0:0 -> #0:0 (copy)\n",
      "  Stream #1:0 -> #0:1 (copy)\n",
      "Press [q] to stop, [?] for help\n",
      "frame=    0 fps=0.0 q=-1.0 size=       0kB time=00:00:00.00 bitrate=N/A speed=   0x    \r"
     ]
    },
    {
     "name": "stdout",
     "output_type": "stream",
     "text": [
      "video: ELR_Geradengleichung_Einleitung_standbild.mp4 audio: ELR_Geradengleichung_Einleitung_head_audio.mp4 output ELR_Geradengleichung_Einleitung_merged_start.mp4\n"
     ]
    },
    {
     "name": "stderr",
     "output_type": "stream",
     "text": [
      "frame=    1 fps=0.0 q=-1.0 Lsize=    1448kB time=00:00:59.98 bitrate= 197.8kbits/s speed=1.96e+03x    \n",
      "video:30kB audio:1406kB subtitle:0kB other streams:0kB global headers:0kB muxing overhead: 0.862874%\n"
     ]
    }
   ],
   "source": [
    "try:\n",
    "    for idx, video_name in video_schnitt_df[\"dateiname\"].items():\n",
    "\n",
    "        if video_schnitt_df[\"standbild_bis\"][idx] == \"nan\":\n",
    "            continue\n",
    "        \n",
    "        video_file = f\"{video_name.split('.')[0]}_standbild.mp4\"\n",
    "        audio_file = f\"{video_name.split('.')[0]}_head_audio.mp4\"\n",
    "        output_file = f\"{video_name.split('.')[0]}_merged_start.mp4\"\n",
    "        \n",
    "        print(\"video:\", video_file, \"audio:\", audio_file, \"output\", output_file)\n",
    "        merge_audio_and_video(video_file,audio_file,output_file)\n",
    "\n",
    "except Exception as error:\n",
    "    print(\"An error occured:\", error)"
   ]
  },
  {
   "cell_type": "markdown",
   "metadata": {},
   "source": [
    "# Concat to endproduct"
   ]
  },
  {
   "cell_type": "code",
   "execution_count": 468,
   "metadata": {},
   "outputs": [
    {
     "name": "stdout",
     "output_type": "stream",
     "text": [
      "file content: file 'ELR_Geradengleichung_merged_start.mp4'\n",
      "file 'ELR_Geradengleichung_ohne_start_standbild.mp4'\n"
     ]
    },
    {
     "name": "stderr",
     "output_type": "stream",
     "text": [
      "ffmpeg version 6.0 Copyright (c) 2000-2023 the FFmpeg developers\n",
      "  built with Apple clang version 14.0.0 (clang-1400.0.29.202)\n",
      "  configuration: --prefix=/usr/local/Cellar/ffmpeg/6.0_1 --enable-shared --enable-pthreads --enable-version3 --cc=clang --host-cflags= --host-ldflags= --enable-ffplay --enable-gnutls --enable-gpl --enable-libaom --enable-libaribb24 --enable-libbluray --enable-libdav1d --enable-libjxl --enable-libmp3lame --enable-libopus --enable-librav1e --enable-librist --enable-librubberband --enable-libsnappy --enable-libsrt --enable-libsvtav1 --enable-libtesseract --enable-libtheora --enable-libvidstab --enable-libvmaf --enable-libvorbis --enable-libvpx --enable-libwebp --enable-libx264 --enable-libx265 --enable-libxml2 --enable-libxvid --enable-lzma --enable-libfontconfig --enable-libfreetype --enable-frei0r --enable-libass --enable-libopencore-amrnb --enable-libopencore-amrwb --enable-libopenjpeg --enable-libspeex --enable-libsoxr --enable-libzmq --enable-libzimg --disable-libjack --disable-indev=jack --enable-videotoolbox --enable-audiotoolbox\n",
      "  libavutil      58.  2.100 / 58.  2.100\n",
      "  libavcodec     60.  3.100 / 60.  3.100\n",
      "  libavformat    60.  3.100 / 60.  3.100\n",
      "  libavdevice    60.  1.100 / 60.  1.100\n",
      "  libavfilter     9.  3.100 /  9.  3.100\n",
      "  libswscale      7.  1.100 /  7.  1.100\n",
      "  libswresample   4. 10.100 /  4. 10.100\n",
      "  libpostproc    57.  1.100 / 57.  1.100\n",
      "[mov,mp4,m4a,3gp,3g2,mj2 @ 0x7fcd3ba25700] Auto-inserting h264_mp4toannexb bitstream filter\n",
      "Input #0, concat, from 'dummy.txt':\n",
      "  Duration: N/A, start: 0.000000, bitrate: 5105 kb/s\n",
      "  Stream #0:0(und): Video: h264 (High) (avc1 / 0x31637661), yuv420p(tv, bt709, progressive), 1920x1080 [SAR 1:1 DAR 16:9], 4913 kb/s, 30 fps, 30 tbr, 15360 tbn\n",
      "    Metadata:\n",
      "      handler_name    : VideoHandler\n",
      "      vendor_id       : [0][0][0][0]\n",
      "      encoder         : Lavc60.3.100 libx264\n",
      "  Stream #0:1(und): Audio: aac (LC) (mp4a / 0x6134706D), 48000 Hz, stereo, fltp, 191 kb/s\n",
      "    Metadata:\n",
      "      handler_name    : SoundHandler\n",
      "      vendor_id       : [0][0][0][0]\n",
      "Output #0, mp4, to 'ELR_Geradengleichung_standbild_endprodukt.mp4':\n",
      "  Metadata:\n",
      "    encoder         : Lavf60.3.100\n",
      "  Stream #0:0(und): Video: h264 (High) (avc1 / 0x31637661), yuv420p(tv, bt709, progressive), 1920x1080 [SAR 1:1 DAR 16:9], q=2-31, 4913 kb/s, 30 fps, 30 tbr, 15360 tbn\n",
      "    Metadata:\n",
      "      handler_name    : VideoHandler\n",
      "      vendor_id       : [0][0][0][0]\n",
      "      encoder         : Lavc60.3.100 libx264\n",
      "  Stream #0:1(und): Audio: aac (LC) (mp4a / 0x6134706D), 48000 Hz, stereo, fltp, 191 kb/s\n",
      "    Metadata:\n",
      "      handler_name    : SoundHandler\n",
      "      vendor_id       : [0][0][0][0]\n",
      "Stream mapping:\n",
      "  Stream #0:0 -> #0:0 (copy)\n",
      "  Stream #0:1 -> #0:1 (copy)\n",
      "Press [q] to stop, [?] for help\n",
      "[mov,mp4,m4a,3gp,3g2,mj2 @ 0x7fcd3ba38040] Could not find codec parameters for stream 0 (Video: h264 (avc1 / 0x31637661), none(tv, bt709), 1920x1080, 63 kb/s): unspecified pixel format\n",
      "Consider increasing the value for the 'analyzeduration' (0) and 'probesize' (5000000) options\n",
      "[mov,mp4,m4a,3gp,3g2,mj2 @ 0x7fcd3ba38040] Auto-inserting h264_mp4toannexb bitstream filter\n",
      "frame=22688 fps=17889 q=-1.0 Lsize=   27372kB time=00:14:42.87 bitrate= 254.0kbits/s speed= 696x    \n",
      "video:5841kB audio:20692kB subtitle:0kB other streams:0kB global headers:0kB muxing overhead: 3.159979%\n",
      "ffmpeg version 6.0 Copyright (c) 2000-2023 the FFmpeg developers\n",
      "  built with Apple clang version 14.0.0 (clang-1400.0.29.202)\n",
      "  configuration: --prefix=/usr/local/Cellar/ffmpeg/6.0_1 --enable-shared --enable-pthreads --enable-version3 --cc=clang --host-cflags= --host-ldflags= --enable-ffplay --enable-gnutls --enable-gpl --enable-libaom --enable-libaribb24 --enable-libbluray --enable-libdav1d --enable-libjxl --enable-libmp3lame --enable-libopus --enable-librav1e --enable-librist --enable-librubberband --enable-libsnappy --enable-libsrt --enable-libsvtav1 --enable-libtesseract --enable-libtheora --enable-libvidstab --enable-libvmaf --enable-libvorbis --enable-libvpx --enable-libwebp --enable-libx264 --enable-libx265 --enable-libxml2 --enable-libxvid --enable-lzma --enable-libfontconfig --enable-libfreetype --enable-frei0r --enable-libass --enable-libopencore-amrnb --enable-libopencore-amrwb --enable-libopenjpeg --enable-libspeex --enable-libsoxr --enable-libzmq --enable-libzimg --disable-libjack --disable-indev=jack --enable-videotoolbox --enable-audiotoolbox\n",
      "  libavutil      58.  2.100 / 58.  2.100\n",
      "  libavcodec     60.  3.100 / 60.  3.100\n",
      "  libavformat    60.  3.100 / 60.  3.100\n",
      "  libavdevice    60.  1.100 / 60.  1.100\n",
      "  libavfilter     9.  3.100 /  9.  3.100\n",
      "  libswscale      7.  1.100 /  7.  1.100\n",
      "  libswresample   4. 10.100 /  4. 10.100\n",
      "  libpostproc    57.  1.100 / 57.  1.100\n",
      "[mov,mp4,m4a,3gp,3g2,mj2 @ 0x7ff784f12c00] Auto-inserting h264_mp4toannexb bitstream filter\n",
      "Input #0, concat, from 'dummy.txt':\n",
      "  Duration: N/A, start: 0.000000, bitrate: 7451 kb/s\n",
      "  Stream #0:0(und): Video: h264 (High) (avc1 / 0x31637661), yuv420p(tv, bt709, progressive), 1920x1080 [SAR 1:1 DAR 16:9], 7260 kb/s, 30 fps, 30 tbr, 15360 tbn\n",
      "    Metadata:\n",
      "      handler_name    : VideoHandler\n",
      "      vendor_id       : [0][0][0][0]\n",
      "      encoder         : Lavc60.3.100 libx264\n",
      "  Stream #0:1(und): Audio: aac (LC) (mp4a / 0x6134706D), 48000 Hz, stereo, fltp, 191 kb/s\n",
      "    Metadata:\n",
      "      handler_name    : SoundHandler\n",
      "      vendor_id       : [0][0][0][0]\n",
      "Output #0, mp4, to 'ELR_Geradengleichung_Einleitung_standbild_endprodukt.mp4':\n",
      "  Metadata:\n",
      "    encoder         : Lavf60.3.100\n",
      "  Stream #0:0(und): Video: h264 (High) (avc1 / 0x31637661), yuv420p(tv, bt709, progressive), 1920x1080 [SAR 1:1 DAR 16:9], q=2-31, 7260 kb/s, 30 fps, 30 tbr, 15360 tbn\n",
      "    Metadata:\n",
      "      handler_name    : VideoHandler\n",
      "      vendor_id       : [0][0][0][0]\n",
      "      encoder         : Lavc60.3.100 libx264\n",
      "  Stream #0:1(und): Audio: aac (LC) (mp4a / 0x6134706D), 48000 Hz, stereo, fltp, 191 kb/s\n",
      "    Metadata:\n",
      "      handler_name    : SoundHandler\n",
      "      vendor_id       : [0][0][0][0]\n",
      "Stream mapping:\n",
      "  Stream #0:0 -> #0:0 (copy)\n",
      "  Stream #0:1 -> #0:1 (copy)\n",
      "Press [q] to stop, [?] for help\n",
      "frame=    1 fps=0.0 q=-1.0 size=       0kB time=00:00:00.00 bitrate=N/A speed=N/A    \r"
     ]
    },
    {
     "name": "stdout",
     "output_type": "stream",
     "text": [
      "file content: file 'ELR_Geradengleichung_Einleitung_merged_start.mp4'\n",
      "file 'ELR_Geradengleichung_Einleitung_ohne_start_standbild.mp4'\n"
     ]
    },
    {
     "name": "stderr",
     "output_type": "stream",
     "text": [
      "[mov,mp4,m4a,3gp,3g2,mj2 @ 0x7ff78580fb00] Could not find codec parameters for stream 0 (Video: h264 (avc1 / 0x31637661), none(tv, bt709), 1920x1080, 197 kb/s): unspecified pixel format\n",
      "Consider increasing the value for the 'analyzeduration' (0) and 'probesize' (5000000) options\n",
      "[mov,mp4,m4a,3gp,3g2,mj2 @ 0x7ff78580fb00] Auto-inserting h264_mp4toannexb bitstream filter\n",
      "frame=24510 fps=18712 q=-1.0 Lsize=   41286kB time=00:14:42.85 bitrate= 383.1kbits/s speed= 674x    \n",
      "video:19701kB audio:20692kB subtitle:0kB other streams:0kB global headers:0kB muxing overhead: 2.209858%\n"
     ]
    }
   ],
   "source": [
    "try:\n",
    "    for idx, video_name in video_schnitt_df[\"dateiname\"].items():\n",
    "\n",
    "        if video_schnitt_df[\"standbild_bis\"][idx] == \"nan\":\n",
    "            continue\n",
    "        \n",
    "        #define input for the text file with the videos we want to concat\n",
    "        video1 = f\"{video_name.split('.')[0]}_merged_start.mp4\"\n",
    "        video2 = f\"{video_name.split('.')[0]}_ohne_start_standbild.mp4\"\n",
    "        textfile_content = f\"file '{video1}'\\nfile '{video2}'\"\n",
    "\n",
    "        #create the file with content\n",
    "        with open('dummy.txt', 'w') as textfile:\n",
    "            textfile.write(textfile_content)\n",
    "\n",
    "        #define parameters for concat function\n",
    "        output_file = f\"{video_name.split('.')[0]}_standbild_endprodukt.mp4\"\n",
    "        textfile_name = \"dummy.txt\"\n",
    "        print(\"file content:\", textfile_content)\n",
    "        concatenate_videos(textfile_name,output_file)\n",
    "        \n",
    "except Exception as error:\n",
    "    print(\"An error occured:\", error)"
   ]
  },
  {
   "cell_type": "markdown",
   "metadata": {},
   "source": [
    "# Create folder and move files"
   ]
  },
  {
   "cell_type": "code",
   "execution_count": 482,
   "metadata": {},
   "outputs": [
    {
     "name": "stdout",
     "output_type": "stream",
     "text": [
      "Folder 'endprodukte' already exists.\n",
      "Folder 'script_output' already exists.\n"
     ]
    }
   ],
   "source": [
    "path_folder_endprodukte = \"endprodukte\"\n",
    "create_folder(path_folder_endprodukte)\n",
    "\n",
    "path_folder_script_output = \"script_output\"\n",
    "create_folder(path_folder_script_output)"
   ]
  },
  {
   "cell_type": "code",
   "execution_count": 470,
   "metadata": {},
   "outputs": [],
   "source": [
    "original_video_names = list()\n",
    "\n",
    "for video_name in video_schnitt_df[\"dateiname\"]:\n",
    "    if video_name != \"nan\":\n",
    "        original_video_names.append(video_name)"
   ]
  },
  {
   "cell_type": "code",
   "execution_count": 471,
   "metadata": {},
   "outputs": [],
   "source": [
    "for filename in os.listdir():\n",
    "    if filename.endswith(\"endprodukt.mp4\"):\n",
    "        shutil.move(filename,path_folder_endprodukte)\n",
    "    elif filename.endswith(\"mp4\") and filename not in original_video_names:\n",
    "        shutil.move(filename,path_folder_script_output)"
   ]
  },
  {
   "cell_type": "markdown",
   "metadata": {},
   "source": [
    "# Start to cut things out"
   ]
  },
  {
   "cell_type": "code",
   "execution_count": 33,
   "metadata": {},
   "outputs": [
    {
     "name": "stdout",
     "output_type": "stream",
     "text": [
      "Video Name to cut: Normalverteilung.mp4\n",
      "index: 0 Column: rausschneiden1_ab\n",
      "Timestamps before changing: 00:03:00 00:05:00\n",
      "Skipped because of special case\n",
      "index: 1 Column: rausschneiden1_bis\n",
      "Timestamps before changing: 00:05:00 nan\n",
      "end reached\n",
      "Timestamps after changing: 00:05:00 00:50:46.08\n",
      "index: 2 Column: rausschneiden2_ab\n",
      "Timestamps before changing: nan nan\n",
      "Break used\n",
      "Video Name to cut: ELR_Geradengleichung.mp4\n",
      "index: 0 Column: rausschneiden1_ab\n",
      "Timestamps before changing: nan 00:01:44.000\n",
      "cut_head ersetzt\n",
      "Timestamps after changing: 00:00:00 00:01:44.000\n",
      "index: 1 Column: rausschneiden1_bis\n",
      "Timestamps before changing: 00:01:44.000 00:02:04.000\n",
      "Timestamps after changing: 00:01:44.000 00:02:04.000\n",
      "index: 2 Column: rausschneiden2_ab\n",
      "Timestamps before changing: 00:02:04.000 00:02:08.000\n",
      "Timestamps after changing: 00:02:04.000 00:02:08.000\n",
      "index: 3 Column: rausschneiden2_bis\n",
      "Timestamps before changing: 00:02:08.000 00:10:35.500\n",
      "Timestamps after changing: 00:02:08.000 00:10:35.500\n",
      "file 'ELR_Geradengleichung_part1.mp4'\n",
      "file 'ELR_Geradengleichung_part3.mp4' output: ELR_Geradengleichung_concatted3.mp4\n",
      "index: 4 Column: rausschneiden3_ab\n",
      "Timestamps before changing: 00:10:35.500 00:10:39.500\n",
      "Timestamps after changing: 00:10:35.500 00:10:39.500\n",
      "index: 5 Column: rausschneiden3_bis\n",
      "Timestamps before changing: 00:10:39.500 nan\n",
      "end reached\n",
      "Timestamps after changing: 00:10:39.500 00:14:42.88\n",
      "file 'ELR_Geradengleichung_concatted3.mp4'\n",
      "file 'ELR_Geradengleichung_part5.mp4' output: ELR_Geradengleichung_concatted5.mp4\n",
      "index: 6 Column: rausschneiden4_ab\n",
      "Timestamps before changing: nan nan\n",
      "Break used\n",
      "ELR_Geradengleichung_Einleitung.mp4 skipped because other video in endprodukte needs to be used\n",
      "Video Name to cut: Normalverteilung2.mp4\n",
      "index: 0 Column: rausschneiden1_ab\n",
      "Timestamps before changing: nan nan\n",
      "Break used\n",
      "Following file does not exist: nan\n"
     ]
    }
   ],
   "source": [
    "# cut all the videos that did not use the standbild ersetzen script\n",
    "try:\n",
    "    # videos need to be in same directory with python script\n",
    "    trash_list = []\n",
    "    for idx, video_name in video_schnitt_df[\"dateiname\"].items():\n",
    "\n",
    "        if not os.path.exists(video_name):\n",
    "            print(\"Following file does not exist:\",video_name)\n",
    "            continue\n",
    "\n",
    "        #check ob video schon standbid ersetzt bekommen, use other videoname\n",
    "        if video_schnitt_df[\"standbild_bis\"][idx] != \"nan\":\n",
    "            print(video_name,\"skipped because other video in endprodukte needs to be used\")\n",
    "            continue\n",
    "\n",
    "        columns_to_cut = get_columns_to_cut(video_schnitt_df)\n",
    "        evens = get_list_of_evens(columns_to_cut)\n",
    "\n",
    "        parts_list = []\n",
    "        video1 = 0\n",
    "        video2 = 0\n",
    "        end_reached = None\n",
    "        print(\"Video Name to cut:\", video_name)\n",
    "\n",
    "        try:\n",
    "            for i,col in enumerate(columns_to_cut):\n",
    "                cut_head = video_schnitt_df[col][idx]\n",
    "                cut_tail = video_schnitt_df[columns_to_cut[i+1]][idx]\n",
    "                print(\"index:\",i,\"Column:\",col)\n",
    "                print(\"Timestamps before changing:\",cut_head,cut_tail)\n",
    "\n",
    "                #logic to handle the nans \n",
    "                \n",
    "                if cut_head != \"nan\" and cut_head != \"00:00:00\" and i == 0:\n",
    "                    print(\"Skipped because of special case\")\n",
    "                    \n",
    "                    break\n",
    "                \n",
    "                if cut_head == \"nan\" and cut_tail == \"nan\":\n",
    "                    print(\"Break used\")\n",
    "                    break\n",
    "                \n",
    "                if end_reached == True:\n",
    "                    break\n",
    "\n",
    "                if  cut_head == \"nan\":\n",
    "                    cut_head = \"00:00:00\"\n",
    "                    print(\"cut_head ersetzt\")\n",
    "\n",
    "                if cut_tail == \"nan\":\n",
    "                    cut_tail = get_video_duration(video_name)\n",
    "                    end_reached = True\n",
    "                    print(\"end reached\")\n",
    "                    \n",
    "                output_file = f\"{video_name.split('.')[0]}_part{i}.mp4\"\n",
    "                print(\"Timestamps after changing:\",cut_head,cut_tail)\n",
    "                #cut_head_tail(video_name, output_file, cut_head, cut_tail)\n",
    "                \n",
    "                if i not in evens:\n",
    "                    parts_list.append(output_file)\n",
    "                else:\n",
    "                    trash_list.append(output_file)\n",
    "\n",
    "                if len(parts_list) == 2:\n",
    "                    video1 = parts_list[0]\n",
    "                    video2 = parts_list[1]\n",
    "                    \n",
    "                    textfile_content = f\"file '{video1}'\\nfile '{video2}'\"\n",
    "\n",
    "                    #create the file with content\n",
    "                    with open('dummy.txt', 'w') as textfile:\n",
    "                        textfile.write(textfile_content)\n",
    "\n",
    "                    #define parameters for concat function\n",
    "                    textfile_name = \"dummy.txt\"\n",
    "\n",
    "                    output_file = f\"{video_name.split('.')[0]}_concatted{i}.mp4\"\n",
    "                    \n",
    "                    parts_list.clear()\n",
    "                    parts_list.append(output_file)\n",
    "                    print(textfile_content, \"output:\", output_file)\n",
    "                    #concatenate_videos(textfile_name,output_file)                \n",
    "\n",
    "        except Exception as e:\n",
    "            print(\"skip to next video because:\",e)\n",
    "\n",
    "except Exception as error:\n",
    "    print(\"An error occured:\", error)   "
   ]
  },
  {
   "cell_type": "markdown",
   "metadata": {},
   "source": [
    "## cut all the videos that did not use the standbild ersetzen script\n"
   ]
  },
  {
   "cell_type": "code",
   "execution_count": 68,
   "metadata": {},
   "outputs": [
    {
     "name": "stdout",
     "output_type": "stream",
     "text": [
      "skipped this Normalverteilung.mp4 because it is already finished\n",
      "skipped this ELR_Geradengleichung.mp4 because it is already finished\n",
      "Video Name to cut: ELR_Geradengleichung_Einleitung.mp4 actual input to cut: endprodukte/ELR_Geradengleichung_Einleitung_standbild_endprodukt.mp4\n",
      "index: 0 Column: rausschneiden1_ab\n",
      "Timestamps before changing: 00:03:00 00:05:00\n",
      "Skipped because of special case\n",
      "Video Name to cut: Normalverteilung2.mp4 actual input to cut: endprodukte/Normalverteilung2_standbild_endprodukt.mp4\n",
      "index: 0 Column: rausschneiden1_ab\n",
      "Timestamps before changing: nan 00:01:44.000\n",
      "cut_head ersetzt\n",
      "Timestamps after changing: 00:00:00 00:01:44.000\n",
      "index: 1 Column: rausschneiden1_bis\n",
      "Timestamps before changing: 00:01:44.000 00:02:04.000\n",
      "Timestamps after changing: 00:01:44.000 00:02:04.000\n",
      "index: 2 Column: rausschneiden2_ab\n",
      "Timestamps before changing: 00:02:04.000 00:02:08.000\n",
      "Timestamps after changing: 00:02:04.000 00:02:08.000\n",
      "index: 3 Column: rausschneiden2_bis\n",
      "Timestamps before changing: 00:02:08.000 nan\n",
      "end reached\n",
      "Timestamps after changing: 00:02:08.000 00:50:46.13\n",
      "file 'Normalverteilung2_part1.mp4'\n",
      "file 'Normalverteilung2_part3.mp4' output: Normalverteilung2_concatted3.mp4\n",
      "index: 4 Column: rausschneiden3_ab\n",
      "Timestamps before changing: nan nan\n",
      "Break used\n",
      "Following file does not exist: nan\n"
     ]
    }
   ],
   "source": [
    "\n",
    "try:\n",
    "    # videos need to be in same directory with python script\n",
    "    trash_list = []\n",
    "    for idx, video_name in video_schnitt_df[\"dateiname\"].items():\n",
    "\n",
    "        if not os.path.exists(video_name):\n",
    "            print(\"Following file does not exist:\",video_name)\n",
    "            continue\n",
    "\n",
    "        #check ob video schon standbid ersetzt bekommen, use other videoname\n",
    "        if video_schnitt_df[\"standbild_bis\"][idx] == \"nan\":\n",
    "            print(f\"skipped this {video_name} because it is already finished\")\n",
    "            continue\n",
    "        \n",
    "        folder_name = \"endprodukte/\"\n",
    "        new_video_name = folder_name + f\"{video_name.split('.')[0]}_standbild_endprodukt.mp4\"\n",
    "\n",
    "        columns_to_cut = get_columns_to_cut(video_schnitt_df)\n",
    "        evens = get_list_of_evens(columns_to_cut)\n",
    "\n",
    "        parts_list = []\n",
    "        video1 = 0\n",
    "        video2 = 0\n",
    "        end_reached = None\n",
    "        print(\"Video Name to cut:\", video_name, \"actual input to cut:\", new_video_name)\n",
    "\n",
    "        try:\n",
    "            for i,col in enumerate(columns_to_cut):\n",
    "                cut_head = video_schnitt_df[col][idx]\n",
    "                cut_tail = video_schnitt_df[columns_to_cut[i+1]][idx]\n",
    "                print(\"index:\",i,\"Column:\",col)\n",
    "                print(\"Timestamps before changing:\",cut_head,cut_tail)\n",
    "\n",
    "                #logic to handle the nans\n",
    "                if cut_head != \"nan\" and cut_head != \"00:00:00\" and i == 0:\n",
    "                    print(\"Skipped because of special case\")\n",
    "                    break\n",
    "                \n",
    "                if cut_head == \"nan\" and cut_tail == \"nan\":\n",
    "                    print(\"Break used\")\n",
    "                    break\n",
    "                \n",
    "                if end_reached == True:\n",
    "                    print(\"Break used\")\n",
    "                    break\n",
    "\n",
    "                if  cut_head == \"nan\":\n",
    "                    cut_head = \"00:00:00\"\n",
    "                    print(\"cut_head ersetzt\")\n",
    "\n",
    "                if cut_tail == \"nan\":\n",
    "                    cut_tail = get_video_duration(video_name)\n",
    "                    end_reached = True\n",
    "                    print(\"end reached\")\n",
    "                    \n",
    "                output_file = f\"{video_name.split('.')[0]}_part{i}.mp4\"\n",
    "                print(\"Timestamps after changing:\",cut_head,cut_tail)\n",
    "                #cut_head_tail(new_video_name, output_file, cut_head, cut_tail)\n",
    "                \n",
    "                if i not in evens:\n",
    "                    parts_list.append(output_file)\n",
    "                else:\n",
    "                    trash_list.append(output_file)\n",
    "\n",
    "                if len(parts_list) == 2:\n",
    "                    video1 = parts_list[0]\n",
    "                    video2 = parts_list[1]\n",
    "                    \n",
    "                    textfile_content = f\"file '{video1}'\\nfile '{video2}'\"\n",
    "\n",
    "                    #create the file with content\n",
    "                    with open('dummy.txt', 'w') as textfile:\n",
    "                        textfile.write(textfile_content)\n",
    "\n",
    "                    #define parameters for concat function\n",
    "                    textfile_name = \"dummy.txt\"\n",
    "\n",
    "                    output_file = f\"{video_name.split('.')[0]}_concatted{i}.mp4\"\n",
    "                    \n",
    "                    parts_list.clear()\n",
    "                    parts_list.append(output_file)\n",
    "                    print(textfile_content, \"output:\", output_file)\n",
    "                    #concatenate_videos(textfile_name,output_file)                \n",
    "\n",
    "        except Exception as e:\n",
    "            print(\"skip to next video because:\",e)\n",
    "\n",
    "except Exception as error:\n",
    "    print(\"An error occured:\", error)   "
   ]
  },
  {
   "cell_type": "markdown",
   "metadata": {},
   "source": [
    "# Rename the right videos to _endprodukt"
   ]
  },
  {
   "cell_type": "code",
   "execution_count": 474,
   "metadata": {},
   "outputs": [
    {
     "name": "stdout",
     "output_type": "stream",
     "text": [
      "All the youngest versions of a video: ['Normalverteilung.mp4', 'ELR_Geradengleichung_concatted5.mp4', 'ELR_Geradengleichung_Einleitung_part1.mp4', 'Normalverteilung2.mp4']\n"
     ]
    }
   ],
   "source": [
    "# create a list with videonames of the youngest version that is not in trash list\n",
    "files = []\n",
    "\n",
    "for video_name in video_schnitt_df[\"dateiname\"]:\n",
    "    original_prefix = video_name.split('.')[0]\n",
    "    youngest_creation_time = None\n",
    "    youngest_video = None \n",
    "\n",
    "    for f in os.listdir():     \n",
    "        if f.endswith(\".mp4\") and f not in trash_list:\n",
    "            if \"_\" in f:\n",
    "                part_prefix = remove_end_in_name(f)\n",
    "            else:\n",
    "                part_prefix = f.split('.')[0]\n",
    "            \n",
    "            if part_prefix == original_prefix:\n",
    "                creation_time = get_creation_time(f)\n",
    "                if youngest_creation_time is None or creation_time > youngest_creation_time:\n",
    "                    youngest_creation_time = creation_time\n",
    "                    youngest_video = f     \n",
    "    if youngest_video is not None:\n",
    "        files.append(youngest_video)    \n",
    "  \n",
    "print(\"All the youngest versions of a video:\",files)"
   ]
  },
  {
   "cell_type": "code",
   "execution_count": 475,
   "metadata": {},
   "outputs": [],
   "source": [
    "# create a list of original video_names\n",
    "original_video_names = list()\n",
    "\n",
    "for video_name in video_schnitt_df[\"dateiname\"]:\n",
    "    if video_name != \"nan\":\n",
    "        original_video_names.append(video_name)"
   ]
  },
  {
   "cell_type": "code",
   "execution_count": 476,
   "metadata": {},
   "outputs": [
    {
     "name": "stdout",
     "output_type": "stream",
     "text": [
      "Files that are gonna be renamed: ['ELR_Geradengleichung_concatted5.mp4', 'ELR_Geradengleichung_Einleitung_part1.mp4']\n"
     ]
    }
   ],
   "source": [
    "#Compare the filenames with the original Videos\n",
    "files_to_reaname = [element for element in files if element not in original_video_names]\n",
    "\n",
    "print(\"Files that are gonna be renamed:\",files_to_reaname)"
   ]
  },
  {
   "cell_type": "code",
   "execution_count": 477,
   "metadata": {},
   "outputs": [
    {
     "name": "stdout",
     "output_type": "stream",
     "text": [
      "ELR_Geradengleichung_concatted5_cut_things_out_endprodukt.mp4\n",
      "ELR_Geradengleichung_Einleitung_part1_cut_things_out_endprodukt.mp4\n"
     ]
    }
   ],
   "source": [
    "# rename the videos\n",
    "try:\n",
    "    for file in files_to_reaname:\n",
    "        new_name = f\"{file.split('.')[0]}_cut_things_out_endprodukt.mp4\"\n",
    "        os.rename(file,new_name)\n",
    "        print(new_name)\n",
    "except Exception as e:\n",
    "    print(\"Error while renaming:\",e)"
   ]
  },
  {
   "cell_type": "markdown",
   "metadata": {},
   "source": [
    "# Move files"
   ]
  },
  {
   "cell_type": "code",
   "execution_count": 478,
   "metadata": {},
   "outputs": [],
   "source": [
    "for filename in os.listdir():\n",
    "    if filename.endswith(\"endprodukt.mp4\"):\n",
    "        shutil.move(filename,path_folder_endprodukte)\n",
    "    elif filename.endswith(\"mp4\") and filename not in original_video_names:\n",
    "        shutil.move(filename,path_folder_script_output)"
   ]
  },
  {
   "cell_type": "markdown",
   "metadata": {},
   "source": [
    "# Delete old endproducts"
   ]
  },
  {
   "cell_type": "code",
   "execution_count": 479,
   "metadata": {},
   "outputs": [
    {
     "name": "stdout",
     "output_type": "stream",
     "text": [
      "All the youngest versions of a video: ['ELR_Geradengleichung_concatted5_cut_things_out_endprodukt.mp4', 'ELR_Geradengleichung_Einleitung_part1_cut_things_out_endprodukt.mp4']\n"
     ]
    }
   ],
   "source": [
    "# create a list with videonames of the youngest version that is not in trash list\n",
    "files = []\n",
    "\n",
    "for video_name in video_schnitt_df[\"dateiname\"]:\n",
    "    original_prefix = video_name.split('.')[0]\n",
    "    youngest_creation_time = None\n",
    "    youngest_video = None \n",
    "    pattern = re.compile(rf'^{original_prefix}_.*$')\n",
    "\n",
    "    for f in os.listdir(\"endprodukte/\"):     \n",
    "        \n",
    "        if pattern.match(f):\n",
    "            creation_time = get_creation_time(\"endprodukte/\"+f)\n",
    "            if youngest_creation_time is None or creation_time > youngest_creation_time:\n",
    "                youngest_creation_time = creation_time\n",
    "                youngest_video = f     \n",
    "    if youngest_video is not None:\n",
    "        files.append(youngest_video)    \n",
    "  \n",
    "print(\"All the youngest versions of a video:\",files)"
   ]
  },
  {
   "cell_type": "code",
   "execution_count": 480,
   "metadata": {},
   "outputs": [
    {
     "name": "stdout",
     "output_type": "stream",
     "text": [
      "['ELR_Geradengleichung_standbild_endprodukt.mp4', 'ELR_Geradengleichung_Einleitung_standbild_endprodukt.mp4']\n"
     ]
    }
   ],
   "source": [
    "remove_list = []\n",
    "\n",
    "for f in os.listdir(\"endprodukte/\"):     \n",
    "    if f not in files:\n",
    "        remove_list.append(f)\n",
    "\n",
    "print(remove_list)"
   ]
  },
  {
   "cell_type": "code",
   "execution_count": 481,
   "metadata": {},
   "outputs": [],
   "source": [
    "for i in remove_list:\n",
    "    os.remove(\"endprodukte/\" + i)"
   ]
  }
 ],
 "metadata": {
  "kernelspec": {
   "display_name": "cut_env",
   "language": "python",
   "name": "python3"
  },
  "language_info": {
   "codemirror_mode": {
    "name": "ipython",
    "version": 3
   },
   "file_extension": ".py",
   "mimetype": "text/x-python",
   "name": "python",
   "nbconvert_exporter": "python",
   "pygments_lexer": "ipython3",
   "version": "3.12.0"
  }
 },
 "nbformat": 4,
 "nbformat_minor": 2
}

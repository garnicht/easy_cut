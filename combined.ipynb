{
 "cells": [
  {
   "cell_type": "markdown",
   "metadata": {},
   "source": [
    "# Import libs and define functions"
   ]
  },
  {
   "cell_type": "code",
   "execution_count": null,
   "metadata": {},
   "outputs": [],
   "source": [
    "import pandas as pd\n",
    "import subprocess\n",
    "import os\n",
    "import shutil\n",
    "import re\n",
    "import sys "
   ]
  },
  {
   "cell_type": "code",
   "execution_count": null,
   "metadata": {},
   "outputs": [],
   "source": [
    "def remove_end_in_name(filename):\n",
    "    splitted = filename.split(\"_\")\n",
    "    splitted.pop()\n",
    "    joined_string = \"_\".join(splitted)\n",
    "    return joined_string"
   ]
  },
  {
   "cell_type": "code",
   "execution_count": null,
   "metadata": {},
   "outputs": [],
   "source": [
    "def get_creation_time(file_path):\n",
    "    try:\n",
    "        creation_time = os.path.getctime(file_path)\n",
    "        return pd.to_datetime(creation_time, unit='s')\n",
    "    except Exception as e:\n",
    "        print(f\"Error getting creation time for {file_path}: {e}\")\n",
    "        return None"
   ]
  },
  {
   "cell_type": "code",
   "execution_count": null,
   "metadata": {},
   "outputs": [],
   "source": [
    "def get_the_table_data():\n",
    "    for f in os.listdir():\n",
    "        if f.endswith(\".csv\"):\n",
    "                video_schnitt_df = pd.read_csv(f)\n",
    "                print(f\"Table {f} loaded succesfully\")\n",
    "                return video_schnitt_df\n",
    "    raise ValueError(\"There is no csv in this directory\")"
   ]
  },
  {
   "cell_type": "code",
   "execution_count": null,
   "metadata": {},
   "outputs": [],
   "source": [
    "def get_video_duration(file_path):\n",
    "    command = ['ffmpeg', '-i', file_path]\n",
    "    result = subprocess.run(command, text=True, capture_output=True)\n",
    "    output_lines = result.stderr.split('\\n')\n",
    "    duration_line = [line for line in output_lines if 'Duration' in line][0]\n",
    "    duration = duration_line.strip().split(\",\")[0].split(\" \")[1]\n",
    "    return duration"
   ]
  },
  {
   "cell_type": "code",
   "execution_count": null,
   "metadata": {},
   "outputs": [],
   "source": [
    "def clean_the_data(df):\n",
    "    df.columns = df.columns.str.lower()\n",
    "    df.columns = df.columns.str.replace(\" \", \"_\")\n",
    "    df.columns = df.columns.str.strip()\n",
    "    df = df.astype(str)\n",
    "    print(\"Table Columns cleaned\")\n",
    "    return df"
   ]
  },
  {
   "cell_type": "code",
   "execution_count": null,
   "metadata": {},
   "outputs": [],
   "source": [
    "def cut_head_tail(original_video,output_file,cut_head=\"00:00:00\",cut_tail=\"00:50:00\"):\n",
    "\n",
    "    # Construct the command\n",
    "    command = [\n",
    "        'ffmpeg',\n",
    "        '-i', original_video,\n",
    "        '-ss', cut_head,\n",
    "        '-to', cut_tail,\n",
    "        '-c:v','copy', #libx264 to encode and copy to test\n",
    "        '-c:a', 'copy',\n",
    "        output_file\n",
    "    ]\n",
    "    \n",
    "     # Run the command\n",
    "    try:\n",
    "        subprocess.run(command, check=True)\n",
    "    except subprocess.CalledProcessError as e:\n",
    "        print(f\"An error occurred: {e}\")"
   ]
  },
  {
   "cell_type": "code",
   "execution_count": null,
   "metadata": {},
   "outputs": [],
   "source": [
    "def create_folder(folder_name):\n",
    "    try:\n",
    "        # Create a new folder in the current working directory\n",
    "        os.mkdir(folder_name)\n",
    "        print(f\"Folder '{folder_name}' created successfully.\")\n",
    "    except FileExistsError:\n",
    "        print(f\"Folder '{folder_name}' already exists.\")"
   ]
  },
  {
   "cell_type": "code",
   "execution_count": null,
   "metadata": {},
   "outputs": [],
   "source": [
    "def get_standbild(input_file,output_file,cut_head):\n",
    "    \n",
    "    #creat timedelta and add 1 miliseconds\n",
    "    time_delta = pd.to_timedelta(cut_head)\n",
    "    new_time_delta = time_delta + pd.Timedelta(milliseconds=1)\n",
    "\n",
    "    #create dummy for calculation to transform data type back to datetype\n",
    "    dummy_date = pd.Timestamp('1900-01-01')\n",
    "    new_timestamp = dummy_date + new_time_delta\n",
    "\n",
    "    #get the new time back to wished str format\n",
    "    cut_tail = new_timestamp.strftime('%H:%M:%S.%f')[:-3]\n",
    "\n",
    "    # Construct the command\n",
    "    command = [\n",
    "        'ffmpeg',\n",
    "        '-i', input_file,\n",
    "        '-ss', cut_head,\n",
    "        '-to', cut_tail,\n",
    "        '-an', #audio no\n",
    "        '-c:v', 'libx264', output_file # libx264 to encode and copy to test (but that didnt work the last time)\n",
    "    ]\n",
    "\n",
    "    # Run the command\n",
    "    try:\n",
    "        subprocess.run(command, check=True)\n",
    "    except subprocess.CalledProcessError as e:\n",
    "        print(f\"An error occurred: {e}\")"
   ]
  },
  {
   "cell_type": "code",
   "execution_count": null,
   "metadata": {},
   "outputs": [],
   "source": [
    "def get_audio(input_file,output_file,cut_head,cut_tail):\n",
    "    \n",
    "    #Construct command\n",
    "    command = ['ffmpeg',\n",
    "               '-i', input_file,\n",
    "               '-ss', cut_head,\n",
    "               '-to', cut_tail,\n",
    "               '-vn',\n",
    "               '-c:a', 'copy', output_file]\n",
    "    \n",
    "    # Run the command\n",
    "    try:\n",
    "        subprocess.run(command, check=True)\n",
    "    except subprocess.CalledProcessError as e:\n",
    "        print(f\"An error occurred: {e}\")"
   ]
  },
  {
   "cell_type": "code",
   "execution_count": null,
   "metadata": {},
   "outputs": [],
   "source": [
    "def merge_audio_and_video(video_file,audio_file,output_file):\n",
    "    #Construct command\n",
    "    command = ['ffmpeg',\n",
    "               '-i', video_file,\n",
    "               '-i', audio_file,\n",
    "               '-c:v', 'copy',\n",
    "               '-c:a', 'copy', output_file\n",
    "               ]\n",
    "    # Run the command\n",
    "    try:\n",
    "        subprocess.run(command, check=True)\n",
    "    except subprocess.CalledProcessError as e:\n",
    "        print(f\"An error occurred: {e}\")"
   ]
  },
  {
   "cell_type": "code",
   "execution_count": null,
   "metadata": {},
   "outputs": [],
   "source": [
    "def get_columns_to_cut(df):\n",
    "    pattern = re.compile(r'^rausschneiden\\d+_[a-z]+$')\n",
    "    dummy = []\n",
    "    for column in df.columns:\n",
    "        if pattern.match(column):\n",
    "            dummy.append(column)\n",
    "    return dummy"
   ]
  },
  {
   "cell_type": "code",
   "execution_count": null,
   "metadata": {},
   "outputs": [],
   "source": [
    "def get_list_of_evens(input_list):\n",
    "    dummy = []\n",
    "    for i in range(len(input_list)):\n",
    "        if i % 2 == 0:\n",
    "            dummy.append(i)\n",
    "    return dummy"
   ]
  },
  {
   "cell_type": "code",
   "execution_count": null,
   "metadata": {},
   "outputs": [],
   "source": [
    "def concatenate_videos(input_file, output_file):\n",
    "    \n",
    "    command = [\n",
    "        'ffmpeg',\n",
    "        '-f', 'concat', \n",
    "        '-i', input_file,\n",
    "         '-c:v', 'copy', #libx264 to encode if needed\n",
    "         '-c:a', 'copy',\n",
    "        output_file\n",
    "    ]\n",
    "\n",
    "    # Run the command\n",
    "    try:\n",
    "        subprocess.run(command, check=True)\n",
    "    except subprocess.CalledProcessError as e:\n",
    "        print(\"An error occured:\", e)"
   ]
  },
  {
   "cell_type": "code",
   "execution_count": null,
   "metadata": {},
   "outputs": [],
   "source": [
    "def check_for_non_zero_digit(string):\n",
    "    # Define a regular expression pattern to match any digit other than 0\n",
    "    pattern = re.compile('[1-9]')\n",
    "\n",
    "    if pattern.search(string):\n",
    "        return True       \n",
    "    else:\n",
    "        return False\n"
   ]
  },
  {
   "cell_type": "code",
   "execution_count": null,
   "metadata": {},
   "outputs": [],
   "source": [
    "def extract_data_from_row(df,row_index,columns):\n",
    "    dic = df.loc[row_index,columns].to_dict()\n",
    "\n",
    "    return dic"
   ]
  },
  {
   "cell_type": "code",
   "execution_count": null,
   "metadata": {},
   "outputs": [],
   "source": [
    "def check_special_case(df):\n",
    "    columns = get_columns_to_cut(video_schnitt_df)\n",
    "    for idx, video_name in df[\"dateiname\"].items():\n",
    "        data = video_schnitt_df[\"rausschneiden1_ab\"][idx]\n",
    "        if check_for_non_zero_digit(data) == True:\n",
    "            dic = extract_data_from_row(df,idx,columns)\n",
    "            counter = 0\n",
    "            for key,value in dic.items():\n",
    "                if value == \"nan\":\n",
    "                    counter += 1\n",
    "            if counter < 2:\n",
    "                print(f\"\"\"Error because in row of {video_name}\n",
    "we need to have at least 2 free 'rausschneiden...' columns \n",
    "to execute the code. Please change the csv as needed and\n",
    "restart the script\"\"\")\n",
    "                sys.exit(\"Script terminated due to error.\")"
   ]
  },
  {
   "cell_type": "markdown",
   "metadata": {},
   "source": [
    "# Get file and clean it"
   ]
  },
  {
   "cell_type": "code",
   "execution_count": null,
   "metadata": {},
   "outputs": [],
   "source": [
    "video_schnitt_df = get_the_table_data()\n",
    "video_schnitt_df = clean_the_data(video_schnitt_df)\n"
   ]
  },
  {
   "cell_type": "markdown",
   "metadata": {},
   "source": [
    "# Check Special Cases and input error"
   ]
  },
  {
   "cell_type": "code",
   "execution_count": null,
   "metadata": {},
   "outputs": [],
   "source": [
    "check_special_case(video_schnitt_df)"
   ]
  },
  {
   "cell_type": "code",
   "execution_count": null,
   "metadata": {},
   "outputs": [],
   "source": [
    "def solve_special_case(df):\n",
    "    \n",
    "    for idx,video_name in df[\"dateiname\"].items():\n",
    "        \n",
    "        if check_for_non_zero_digit(df[\"rausschneiden1_ab\"][idx]) == False:\n",
    "            continue\n",
    "\n",
    "        else:\n",
    "            columns = get_columns_to_cut(df)\n",
    "            dic = extract_data_from_row(df,idx,columns)\n",
    "            dummy = []\n",
    "            counter = 0\n",
    "\n",
    "            # put values from row into list and change first two columns to 000000\n",
    "            for key, value in dic.items():\n",
    "                if value != \"nan\":\n",
    "                    dummy.append(value)\n",
    "                if counter < 2:\n",
    "                    dic[key] = \"00:00:00\"\n",
    "                    counter += 1\n",
    "\n",
    "        for key, value in dic.items():\n",
    "            if value != \"00:00:00\" and dummy:\n",
    "                dic[key] = dummy.pop(0)\n",
    "        print(dic)\n",
    "      "
   ]
  },
  {
   "cell_type": "code",
   "execution_count": null,
   "metadata": {},
   "outputs": [],
   "source": [
    "solve_special_case(video_schnitt_df)"
   ]
  },
  {
   "cell_type": "code",
   "execution_count": null,
   "metadata": {},
   "outputs": [],
   "source": [
    "for key, value in dic.items():\n",
    "    if value != \"00:00:00\":\n",
    "        try:\n",
    "            dic[key] = dummy.pop(0)\n",
    "        except Exception as error:\n",
    "            print(\"Error occured:\",error)\n",
    "            break\n",
    "print(dic)"
   ]
  },
  {
   "cell_type": "code",
   "execution_count": null,
   "metadata": {},
   "outputs": [],
   "source": [
    "for idx, video_name in video_schnitt_df[\"dateiname\"].items():\n",
    "    data = video_schnitt_df[\"rausschneiden1_ab\"][idx]\n",
    "    if check_for_non_zero_digit(data) == True:\n",
    "        print(video_name,\"neues if statement\")"
   ]
  },
  {
   "cell_type": "markdown",
   "metadata": {},
   "source": [
    "# Get Standbild"
   ]
  },
  {
   "cell_type": "code",
   "execution_count": null,
   "metadata": {},
   "outputs": [],
   "source": [
    "try:\n",
    "    for idx, video_name in video_schnitt_df[\"dateiname\"].items():\n",
    "        output_file = f\"{video_name.split('.')[0]}_standbild.mp4\"\n",
    "        cut_head = video_schnitt_df[\"standbild_bis\"][idx]\n",
    "\n",
    "        #building logic when just to cut head or tail\n",
    "        if cut_head == \"nan\":\n",
    "            continue\n",
    "        print(\"video_name:\",video_name,\"cuttime:\",cut_head,)\n",
    "        get_standbild(video_name,output_file,cut_head)\n",
    "except Exception as error:\n",
    "    print(\"An error occurred:\", error)\n",
    "\n"
   ]
  },
  {
   "cell_type": "markdown",
   "metadata": {},
   "source": [
    "# Get audio"
   ]
  },
  {
   "cell_type": "code",
   "execution_count": null,
   "metadata": {},
   "outputs": [],
   "source": [
    "try:\n",
    "    for idx, video_name in video_schnitt_df[\"dateiname\"].items():\n",
    "        \n",
    "        if video_schnitt_df[\"standbild_bis\"][idx] == \"nan\":\n",
    "            continue\n",
    "\n",
    "        #Define arguments\n",
    "        output_file = f\"{video_name.split('.')[0]}_head_audio.mp4\"\n",
    "        cut_head = \"00:00:00\"\n",
    "        cut_tail = video_schnitt_df[\"standbild_bis\"][idx]\n",
    "\n",
    "        print(\"video_name\",video_name,\"output_file\", output_file,\"cut_head\",cut_head,\"cut_tail:\", cut_tail)\n",
    "        get_audio(video_name,output_file,cut_head,cut_tail)\n",
    "\n",
    "except Exception as error:\n",
    "    print(\"An error occurred:\", error)"
   ]
  },
  {
   "cell_type": "markdown",
   "metadata": {},
   "source": [
    "# Cut head of the original Video"
   ]
  },
  {
   "cell_type": "code",
   "execution_count": null,
   "metadata": {},
   "outputs": [],
   "source": [
    "try:\n",
    "    for idx, video_name in video_schnitt_df[\"dateiname\"].items():\n",
    "\n",
    "        if video_schnitt_df[\"standbild_bis\"][idx] == \"nan\":\n",
    "            continue\n",
    "        \n",
    "        # define arguments\n",
    "        cut_head = video_schnitt_df[\"standbild_bis\"][idx]\n",
    "        cut_tail = get_video_duration(video_name)\n",
    "        output_file = f\"{video_name.split('.')[0]}_ohne_start_standbild.mp4\"\n",
    "    \n",
    "        print(\"input name:\",video_name,\"Schnittpunkte:\", cut_head, cut_tail)\n",
    "        cut_head_tail(video_name, output_file, cut_head, cut_tail)\n",
    "except Exception as error:\n",
    "    print(\"An error occurred:\", error)"
   ]
  },
  {
   "cell_type": "markdown",
   "metadata": {},
   "source": [
    "# Merge audio and video"
   ]
  },
  {
   "cell_type": "code",
   "execution_count": null,
   "metadata": {},
   "outputs": [],
   "source": [
    "try:\n",
    "    for idx, video_name in video_schnitt_df[\"dateiname\"].items():\n",
    "\n",
    "        if video_schnitt_df[\"standbild_bis\"][idx] == \"nan\":\n",
    "            continue\n",
    "        \n",
    "        video_file = f\"{video_name.split('.')[0]}_standbild.mp4\"\n",
    "        audio_file = f\"{video_name.split('.')[0]}_head_audio.mp4\"\n",
    "        output_file = f\"{video_name.split('.')[0]}_merged_start.mp4\"\n",
    "        \n",
    "        print(\"video:\", video_file, \"audio:\", audio_file, \"output\", output_file)\n",
    "        merge_audio_and_video(video_file,audio_file,output_file)\n",
    "\n",
    "except Exception as error:\n",
    "    print(\"An error occured:\", error)"
   ]
  },
  {
   "cell_type": "markdown",
   "metadata": {},
   "source": [
    "# Concat to endproduct"
   ]
  },
  {
   "cell_type": "code",
   "execution_count": null,
   "metadata": {},
   "outputs": [],
   "source": [
    "try:\n",
    "    for idx, video_name in video_schnitt_df[\"dateiname\"].items():\n",
    "\n",
    "        if video_schnitt_df[\"standbild_bis\"][idx] == \"nan\":\n",
    "            continue\n",
    "        \n",
    "        #define input for the text file with the videos we want to concat\n",
    "        video1 = f\"{video_name.split('.')[0]}_merged_start.mp4\"\n",
    "        video2 = f\"{video_name.split('.')[0]}_ohne_start_standbild.mp4\"\n",
    "        textfile_content = f\"file '{video1}'\\nfile '{video2}'\"\n",
    "\n",
    "        #create the file with content\n",
    "        with open('dummy.txt', 'w') as textfile:\n",
    "            textfile.write(textfile_content)\n",
    "\n",
    "        #define parameters for concat function\n",
    "        output_file = f\"{video_name.split('.')[0]}_standbild_endprodukt.mp4\"\n",
    "        textfile_name = \"dummy.txt\"\n",
    "        print(\"file content:\", textfile_content)\n",
    "        concatenate_videos(textfile_name,output_file)\n",
    "        \n",
    "except Exception as error:\n",
    "    print(\"An error occured:\", error)"
   ]
  },
  {
   "cell_type": "markdown",
   "metadata": {},
   "source": [
    "# Create folder and move files"
   ]
  },
  {
   "cell_type": "code",
   "execution_count": null,
   "metadata": {},
   "outputs": [],
   "source": [
    "path_folder_endprodukte = \"endprodukte\"\n",
    "create_folder(path_folder_endprodukte)\n",
    "\n",
    "path_folder_script_output = \"script_output\"\n",
    "create_folder(path_folder_script_output)"
   ]
  },
  {
   "cell_type": "code",
   "execution_count": null,
   "metadata": {},
   "outputs": [],
   "source": [
    "original_video_names = list()\n",
    "\n",
    "for video_name in video_schnitt_df[\"dateiname\"]:\n",
    "    if video_name != \"nan\":\n",
    "        original_video_names.append(video_name)"
   ]
  },
  {
   "cell_type": "code",
   "execution_count": null,
   "metadata": {},
   "outputs": [],
   "source": [
    "for filename in os.listdir():\n",
    "    if filename.endswith(\"endprodukt.mp4\"):\n",
    "        shutil.move(filename,path_folder_endprodukte)\n",
    "    elif filename.endswith(\"mp4\") and filename not in original_video_names:\n",
    "        shutil.move(filename,path_folder_script_output)"
   ]
  },
  {
   "cell_type": "markdown",
   "metadata": {},
   "source": [
    "# Start to cut things out"
   ]
  },
  {
   "cell_type": "code",
   "execution_count": null,
   "metadata": {},
   "outputs": [],
   "source": [
    "# cut all the videos that did not use the standbild ersetzen script\n",
    "try:\n",
    "    # videos need to be in same directory with python script\n",
    "    trash_list = []\n",
    "    for idx, video_name in video_schnitt_df[\"dateiname\"].items():\n",
    "\n",
    "        if not os.path.exists(video_name):\n",
    "            print(\"Following file does not exist:\",video_name)\n",
    "            continue\n",
    "\n",
    "        #check ob video schon standbid ersetzt bekommen, use other videoname\n",
    "        if video_schnitt_df[\"standbild_bis\"][idx] != \"nan\":\n",
    "            print(video_name,\"skipped because other video in endprodukte needs to be used\")\n",
    "            continue\n",
    "\n",
    "        columns_to_cut = get_columns_to_cut(video_schnitt_df)\n",
    "        evens = get_list_of_evens(columns_to_cut)\n",
    "\n",
    "        parts_list = []\n",
    "        video1 = 0\n",
    "        video2 = 0\n",
    "        end_reached = None\n",
    "        print(\"Video Name to cut:\", video_name)\n",
    "\n",
    "        try:\n",
    "            for i,col in enumerate(columns_to_cut):\n",
    "                cut_head = video_schnitt_df[col][idx]\n",
    "                cut_tail = video_schnitt_df[columns_to_cut[i+1]][idx]\n",
    "                print(\"index:\",i,\"Column:\",col)\n",
    "                print(\"Timestamps before changing:\",cut_head,cut_tail)\n",
    "\n",
    "                #logic to handle the nans \n",
    "                \n",
    "                if cut_head != \"nan\" and cut_head != \"00:00:00\" and i == 0:\n",
    "                    print(\"Skipped because of special case\")\n",
    "                    \n",
    "                    break\n",
    "                \n",
    "                if cut_head == \"nan\" and cut_tail == \"nan\":\n",
    "                    print(\"Break used\")\n",
    "                    break\n",
    "                \n",
    "                if end_reached == True:\n",
    "                    break\n",
    "\n",
    "                if  cut_head == \"nan\":\n",
    "                    cut_head = \"00:00:00\"\n",
    "                    print(\"cut_head ersetzt\")\n",
    "\n",
    "                if cut_tail == \"nan\":\n",
    "                    cut_tail = get_video_duration(video_name)\n",
    "                    end_reached = True\n",
    "                    print(\"end reached\")\n",
    "                    \n",
    "                output_file = f\"{video_name.split('.')[0]}_part{i}.mp4\"\n",
    "                print(\"Timestamps after changing:\",cut_head,cut_tail)\n",
    "                #cut_head_tail(video_name, output_file, cut_head, cut_tail)\n",
    "                \n",
    "                if i not in evens:\n",
    "                    parts_list.append(output_file)\n",
    "                else:\n",
    "                    trash_list.append(output_file)\n",
    "\n",
    "                if len(parts_list) == 2:\n",
    "                    video1 = parts_list[0]\n",
    "                    video2 = parts_list[1]\n",
    "                    \n",
    "                    textfile_content = f\"file '{video1}'\\nfile '{video2}'\"\n",
    "\n",
    "                    #create the file with content\n",
    "                    with open('dummy.txt', 'w') as textfile:\n",
    "                        textfile.write(textfile_content)\n",
    "\n",
    "                    #define parameters for concat function\n",
    "                    textfile_name = \"dummy.txt\"\n",
    "\n",
    "                    output_file = f\"{video_name.split('.')[0]}_concatted{i}.mp4\"\n",
    "                    \n",
    "                    parts_list.clear()\n",
    "                    parts_list.append(output_file)\n",
    "                    print(textfile_content, \"output:\", output_file)\n",
    "                    #concatenate_videos(textfile_name,output_file)                \n",
    "\n",
    "        except Exception as e:\n",
    "            print(\"skip to next video because:\",e)\n",
    "\n",
    "except Exception as error:\n",
    "    print(\"An error occured:\", error)   "
   ]
  },
  {
   "cell_type": "markdown",
   "metadata": {},
   "source": [
    "## cut all the videos that did not use the standbild ersetzen script\n"
   ]
  },
  {
   "cell_type": "code",
   "execution_count": null,
   "metadata": {},
   "outputs": [],
   "source": [
    "\n",
    "try:\n",
    "    # videos need to be in same directory with python script\n",
    "    trash_list = []\n",
    "    for idx, video_name in video_schnitt_df[\"dateiname\"].items():\n",
    "\n",
    "        if not os.path.exists(video_name):\n",
    "            print(\"Following file does not exist:\",video_name)\n",
    "            continue\n",
    "\n",
    "        #check ob video schon standbid ersetzt bekommen, use other videoname\n",
    "        if video_schnitt_df[\"standbild_bis\"][idx] == \"nan\":\n",
    "            print(f\"skipped this {video_name} because it is already finished\")\n",
    "            continue\n",
    "        \n",
    "        folder_name = \"endprodukte/\"\n",
    "        new_video_name = folder_name + f\"{video_name.split('.')[0]}_standbild_endprodukt.mp4\"\n",
    "\n",
    "        columns_to_cut = get_columns_to_cut(video_schnitt_df)\n",
    "        evens = get_list_of_evens(columns_to_cut)\n",
    "\n",
    "        parts_list = []\n",
    "        video1 = 0\n",
    "        video2 = 0\n",
    "        end_reached = None\n",
    "        print(\"Video Name to cut:\", video_name, \"actual input to cut:\", new_video_name)\n",
    "\n",
    "        try:\n",
    "            for i,col in enumerate(columns_to_cut):\n",
    "                cut_head = video_schnitt_df[col][idx]\n",
    "                cut_tail = video_schnitt_df[columns_to_cut[i+1]][idx]\n",
    "                print(\"index:\",i,\"Column:\",col)\n",
    "                print(\"Timestamps before changing:\",cut_head,cut_tail)\n",
    "\n",
    "                #logic to handle the nans\n",
    "                if cut_head != \"nan\" and cut_head != \"00:00:00\" and i == 0:\n",
    "                    print(\"Skipped because of special case\")\n",
    "                    break\n",
    "                \n",
    "                if cut_head == \"nan\" and cut_tail == \"nan\":\n",
    "                    print(\"Break used\")\n",
    "                    break\n",
    "                \n",
    "                if end_reached == True:\n",
    "                    print(\"Break used\")\n",
    "                    break\n",
    "\n",
    "                if  cut_head == \"nan\":\n",
    "                    cut_head = \"00:00:00\"\n",
    "                    print(\"cut_head ersetzt\")\n",
    "\n",
    "                if cut_tail == \"nan\":\n",
    "                    cut_tail = get_video_duration(video_name)\n",
    "                    end_reached = True\n",
    "                    print(\"end reached\")\n",
    "                    \n",
    "                output_file = f\"{video_name.split('.')[0]}_part{i}.mp4\"\n",
    "                print(\"Timestamps after changing:\",cut_head,cut_tail)\n",
    "                #cut_head_tail(new_video_name, output_file, cut_head, cut_tail)\n",
    "                \n",
    "                if i not in evens:\n",
    "                    parts_list.append(output_file)\n",
    "                else:\n",
    "                    trash_list.append(output_file)\n",
    "\n",
    "                if len(parts_list) == 2:\n",
    "                    video1 = parts_list[0]\n",
    "                    video2 = parts_list[1]\n",
    "                    \n",
    "                    textfile_content = f\"file '{video1}'\\nfile '{video2}'\"\n",
    "\n",
    "                    #create the file with content\n",
    "                    with open('dummy.txt', 'w') as textfile:\n",
    "                        textfile.write(textfile_content)\n",
    "\n",
    "                    #define parameters for concat function\n",
    "                    textfile_name = \"dummy.txt\"\n",
    "\n",
    "                    output_file = f\"{video_name.split('.')[0]}_concatted{i}.mp4\"\n",
    "                    \n",
    "                    parts_list.clear()\n",
    "                    parts_list.append(output_file)\n",
    "                    print(textfile_content, \"output:\", output_file)\n",
    "                    #concatenate_videos(textfile_name,output_file)                \n",
    "\n",
    "        except Exception as e:\n",
    "            print(\"skip to next video because:\",e)\n",
    "\n",
    "except Exception as error:\n",
    "    print(\"An error occured:\", error)   "
   ]
  },
  {
   "cell_type": "markdown",
   "metadata": {},
   "source": [
    "# Rename the right videos to _endprodukt"
   ]
  },
  {
   "cell_type": "code",
   "execution_count": null,
   "metadata": {},
   "outputs": [],
   "source": [
    "# create a list with videonames of the youngest version that is not in trash list\n",
    "files = []\n",
    "\n",
    "for video_name in video_schnitt_df[\"dateiname\"]:\n",
    "    original_prefix = video_name.split('.')[0]\n",
    "    youngest_creation_time = None\n",
    "    youngest_video = None \n",
    "\n",
    "    for f in os.listdir():     \n",
    "        if f.endswith(\".mp4\") and f not in trash_list:\n",
    "            if \"_\" in f:\n",
    "                part_prefix = remove_end_in_name(f)\n",
    "            else:\n",
    "                part_prefix = f.split('.')[0]\n",
    "            \n",
    "            if part_prefix == original_prefix:\n",
    "                creation_time = get_creation_time(f)\n",
    "                if youngest_creation_time is None or creation_time > youngest_creation_time:\n",
    "                    youngest_creation_time = creation_time\n",
    "                    youngest_video = f     \n",
    "    if youngest_video is not None:\n",
    "        files.append(youngest_video)    \n",
    "  \n",
    "print(\"All the youngest versions of a video:\",files)"
   ]
  },
  {
   "cell_type": "code",
   "execution_count": null,
   "metadata": {},
   "outputs": [],
   "source": [
    "# create a list of original video_names\n",
    "original_video_names = list()\n",
    "\n",
    "for video_name in video_schnitt_df[\"dateiname\"]:\n",
    "    if video_name != \"nan\":\n",
    "        original_video_names.append(video_name)"
   ]
  },
  {
   "cell_type": "code",
   "execution_count": null,
   "metadata": {},
   "outputs": [],
   "source": [
    "#Compare the filenames with the original Videos\n",
    "files_to_reaname = [element for element in files if element not in original_video_names]\n",
    "\n",
    "print(\"Files that are gonna be renamed:\",files_to_reaname)"
   ]
  },
  {
   "cell_type": "code",
   "execution_count": null,
   "metadata": {},
   "outputs": [],
   "source": [
    "# rename the videos\n",
    "try:\n",
    "    for file in files_to_reaname:\n",
    "        new_name = f\"{file.split('.')[0]}_cut_things_out_endprodukt.mp4\"\n",
    "        os.rename(file,new_name)\n",
    "        print(new_name)\n",
    "except Exception as e:\n",
    "    print(\"Error while renaming:\",e)"
   ]
  },
  {
   "cell_type": "markdown",
   "metadata": {},
   "source": [
    "# Move files"
   ]
  },
  {
   "cell_type": "code",
   "execution_count": null,
   "metadata": {},
   "outputs": [],
   "source": [
    "for filename in os.listdir():\n",
    "    if filename.endswith(\"endprodukt.mp4\"):\n",
    "        shutil.move(filename,path_folder_endprodukte)\n",
    "    elif filename.endswith(\"mp4\") and filename not in original_video_names:\n",
    "        shutil.move(filename,path_folder_script_output)"
   ]
  },
  {
   "cell_type": "markdown",
   "metadata": {},
   "source": [
    "# Delete old endproducts"
   ]
  },
  {
   "cell_type": "code",
   "execution_count": null,
   "metadata": {},
   "outputs": [],
   "source": [
    "# create a list with videonames of the youngest version that is not in trash list\n",
    "files = []\n",
    "\n",
    "for video_name in video_schnitt_df[\"dateiname\"]:\n",
    "    original_prefix = video_name.split('.')[0]\n",
    "    youngest_creation_time = None\n",
    "    youngest_video = None \n",
    "    pattern = re.compile(rf'^{original_prefix}_.*$')\n",
    "\n",
    "    for f in os.listdir(\"endprodukte/\"):     \n",
    "        \n",
    "        if pattern.match(f):\n",
    "            creation_time = get_creation_time(\"endprodukte/\"+f)\n",
    "            if youngest_creation_time is None or creation_time > youngest_creation_time:\n",
    "                youngest_creation_time = creation_time\n",
    "                youngest_video = f     \n",
    "    if youngest_video is not None:\n",
    "        files.append(youngest_video)    \n",
    "  \n",
    "print(\"All the youngest versions of a video:\",files)"
   ]
  },
  {
   "cell_type": "code",
   "execution_count": null,
   "metadata": {},
   "outputs": [],
   "source": [
    "remove_list = []\n",
    "\n",
    "for f in os.listdir(\"endprodukte/\"):     \n",
    "    if f not in files:\n",
    "        remove_list.append(f)\n",
    "\n",
    "print(remove_list)"
   ]
  },
  {
   "cell_type": "code",
   "execution_count": null,
   "metadata": {},
   "outputs": [],
   "source": [
    "for i in remove_list:\n",
    "    os.remove(\"endprodukte/\" + i)"
   ]
  }
 ],
 "metadata": {
  "kernelspec": {
   "display_name": "cut_env",
   "language": "python",
   "name": "python3"
  },
  "language_info": {
   "codemirror_mode": {
    "name": "ipython",
    "version": 3
   },
   "file_extension": ".py",
   "mimetype": "text/x-python",
   "name": "python",
   "nbconvert_exporter": "python",
   "pygments_lexer": "ipython3",
   "version": "3.12.0"
  }
 },
 "nbformat": 4,
 "nbformat_minor": 2
}

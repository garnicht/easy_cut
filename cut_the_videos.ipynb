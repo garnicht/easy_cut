{
 "cells": [
  {
   "cell_type": "code",
   "execution_count": null,
   "metadata": {},
   "outputs": [],
   "source": [
    "import pandas as pd\n",
    "import subprocess"
   ]
  },
  {
   "cell_type": "code",
   "execution_count": null,
   "metadata": {},
   "outputs": [],
   "source": [
    "def get_the_table_data():\n",
    "    while True:\n",
    "        table_path = input(\"What is the table path + name? (.../filename.csv):\")\n",
    "        try:\n",
    "            video_schnitt_df = pd.read_csv(table_path)\n",
    "            print(\"Table loaded succesfully\")\n",
    "            return video_schnitt_df\n",
    "        except Exception as error:\n",
    "            print(\"An error occured:\", error)\n",
    "            continue\n",
    "        break"
   ]
  },
  {
   "cell_type": "code",
   "execution_count": null,
   "metadata": {},
   "outputs": [],
   "source": [
    "def clean_the_data(df):\n",
    "    df.columns = df.columns.str.lower()\n",
    "    df.columns = df.columns.str.replace(\" \", \"_\")\n",
    "    df.columns = df.columns.str.strip()\n",
    "    print(\"Table Columns cleaned\")\n",
    "    return df"
   ]
  },
  {
   "cell_type": "code",
   "execution_count": null,
   "metadata": {},
   "outputs": [],
   "source": [
    "def cut_head_tail(original_video,output_file,cut_head=\"00:00:00\",cut_tail=\"00:50:00\"):\n",
    "\n",
    "    # Construct the command\n",
    "    command = [\n",
    "        'ffmpeg',\n",
    "        '-i', original_video,\n",
    "        '-ss', cut_head,\n",
    "        '-to', cut_tail,\n",
    "        '-c', 'copy',\n",
    "        output_file\n",
    "    ]\n",
    "    \n",
    "     # Run the command\n",
    "    try:\n",
    "        subprocess.run(command, check=True)\n",
    "    except subprocess.CalledProcessError as e:\n",
    "        print(f\"An error occurred: {e}\")"
   ]
  },
  {
   "cell_type": "code",
   "execution_count": null,
   "metadata": {},
   "outputs": [],
   "source": [
    "def get_video_duration(file_path):\n",
    "    command = ['ffmpeg', '-i', file_path]\n",
    "    result = subprocess.run(command, text=True, capture_output=True)\n",
    "    output_lines = result.stderr.split('\\n')\n",
    "    duration_line = [line for line in output_lines if 'Duration' in line][0]\n",
    "    duration = duration_line.strip().split(\",\")[0].split(\" \")[1]\n",
    "    return duration"
   ]
  },
  {
   "cell_type": "code",
   "execution_count": null,
   "metadata": {},
   "outputs": [],
   "source": [
    "def cut_in_pieces(input_file, timestamp, head_output, tail_output):\n",
    "    head_cmd = ['ffmpeg', '-i', input_file, '-to', str(timestamp), '-c', 'copy', head_output]\n",
    "    tail_cmd = ['ffmpeg', '-i', input_file, '-ss', str(timestamp), '-c', 'copy', tail_output]\n",
    "\n",
    "# Execute the commands\n",
    "    try:\n",
    "        subprocess.run(head_cmd, check=True)\n",
    "        subprocess.run(tail_cmd, check=True)\n",
    "    except subprocess.CalledProcessError as e:\n",
    "        print(f\"An error occurred: {e}\")"
   ]
  },
  {
   "cell_type": "code",
   "execution_count": null,
   "metadata": {},
   "outputs": [],
   "source": [
    "def get_standbild(input_file,output_file,cut_head):\n",
    "    \n",
    "    #creat timedelta and add 1 miliseconds\n",
    "    time_delta = pd.to_timedelta(cut_head)\n",
    "    new_time_delta = time_delta + pd.Timedelta(milliseconds=1)\n",
    "\n",
    "    #create dummy for calculation to transform data type back to datetype\n",
    "    dummy_date = pd.Timestamp('1900-01-01')\n",
    "    new_timestamp = dummy_date + new_time_delta\n",
    "\n",
    "    #get the new time back to wished str format\n",
    "    cut_tail = new_timestamp.strftime('%H:%M:%S.%f')[:-3]\n",
    "\n",
    "    # Construct the command\n",
    "    command = [\n",
    "        'ffmpeg',\n",
    "        '-i', input_file,\n",
    "        '-ss', cut_head,\n",
    "        '-to', cut_tail,\n",
    "        '-an', #audio no\n",
    "        '-c:v', 'copy', output_file\n",
    "    ]\n",
    "\n",
    "    # Run the command\n",
    "    try:\n",
    "        subprocess.run(command, check=True)\n",
    "    except subprocess.CalledProcessError as e:\n",
    "        print(f\"An error occurred: {e}\")"
   ]
  },
  {
   "cell_type": "code",
   "execution_count": null,
   "metadata": {},
   "outputs": [],
   "source": [
    "def merge_audio_and_video(video_file,audio_file,output_file):\n",
    "    #Construct command\n",
    "    command = ['ffmpeg',\n",
    "               '-i', video_file,\n",
    "               '-i', audio_file,\n",
    "               '-c:v', 'copy',\n",
    "               '-c:a', 'aac', output_file\n",
    "               ]\n",
    "    # Run the command\n",
    "    try:\n",
    "        subprocess.run(command, check=True)\n",
    "    except subprocess.CalledProcessError as e:\n",
    "        print(f\"An error occurred: {e}\")"
   ]
  },
  {
   "cell_type": "code",
   "execution_count": null,
   "metadata": {},
   "outputs": [],
   "source": [
    "def concatenate_videos(input_file, output_file):\n",
    "    \n",
    "    command = [\n",
    "        'ffmpeg',\n",
    "        '-f', 'concat', \n",
    "        '-i', input_file,\n",
    "         '-c:v', 'copy',\n",
    "         '-c:a', 'copy',\n",
    "        output_file\n",
    "    ]\n",
    "\n",
    "    # Run the command\n",
    "    try:\n",
    "        subprocess.run(command, check=True)\n",
    "    except subprocess.CalledProcessError as e:\n",
    "        print(\"An error occured:\", e)"
   ]
  },
  {
   "cell_type": "code",
   "execution_count": null,
   "metadata": {},
   "outputs": [],
   "source": [
    "def get_audio(input_file,output_file,cut_head,cut_tail):\n",
    "    \n",
    "    #Construct command\n",
    "    command = ['ffmpeg',\n",
    "               '-i', input_file,\n",
    "               '-ss', cut_head,\n",
    "               '-to', cut_tail,\n",
    "               '-vn','-c:a', 'copy', output_file]\n",
    "    \n",
    "    # Run the command\n",
    "    try:\n",
    "        subprocess.run(command, check=True)\n",
    "    except subprocess.CalledProcessError as e:\n",
    "        print(f\"An error occurred: {e}\")"
   ]
  },
  {
   "cell_type": "markdown",
   "metadata": {},
   "source": [
    "# Get the file and clean it"
   ]
  },
  {
   "cell_type": "code",
   "execution_count": null,
   "metadata": {},
   "outputs": [],
   "source": [
    "video_schnitt_df = get_the_table_data()\n",
    "video_schnitt_df = clean_the_data(video_schnitt_df)"
   ]
  },
  {
   "cell_type": "markdown",
   "metadata": {},
   "source": [
    "# Cut head and tail"
   ]
  },
  {
   "cell_type": "code",
   "execution_count": null,
   "metadata": {},
   "outputs": [],
   "source": [
    "# videos need to be in same directory with python script\n",
    "try:\n",
    "    for idx, video_name in video_schnitt_df[\"dateiname\"].items():\n",
    "        output_file = f\"{video_name.split(\".\")[0]}_ohne_start_ende.mp4\"\n",
    "        cut_head = video_schnitt_df[\"vorne_abschneiden_bis\"][idx]\n",
    "        cut_tail = video_schnitt_df[\"hinten_abschneiden_ab\"][idx]\n",
    "\n",
    "        #building logic when just to cut head or tail\n",
    "        if str(cut_head) == \"nan\":\n",
    "            cut_head = \"00:00:00\"\n",
    "        if str(cut_tail) == \"nan\":\n",
    "            cut_tail = \"00:50:00\"\n",
    "\n",
    "        cut_head_tail(video_name, output_file, cut_head, cut_tail)\n",
    "except Exception as error:\n",
    "    print(\"An error occurred:\", error)"
   ]
  },
  {
   "cell_type": "markdown",
   "metadata": {},
   "source": [
    "# Get Standbild"
   ]
  },
  {
   "cell_type": "code",
   "execution_count": null,
   "metadata": {},
   "outputs": [],
   "source": [
    "# videos need to be in same directory with python script\n",
    "try:\n",
    "    for idx, video_name in video_schnitt_df[\"dateiname\"].items():\n",
    "        output_file = f\"{video_name.split(\".\")[0]}_standbild.mp4\"\n",
    "        cut_head = video_schnitt_df[\"vorne_bild_durch_standbild_ersetzen_bis\"][idx]\n",
    "\n",
    "        #building logic when just to cut head or tail\n",
    "        if str(cut_head) == \"nan\":\n",
    "            continue\n",
    "        \n",
    "        get_standbild(video_name,output_file,cut_head)\n",
    "except Exception as error:\n",
    "    print(\"An error occurred:\", error)"
   ]
  },
  {
   "cell_type": "markdown",
   "metadata": {},
   "source": [
    "# Get audio"
   ]
  },
  {
   "cell_type": "code",
   "execution_count": null,
   "metadata": {},
   "outputs": [],
   "source": [
    "try:\n",
    "    for idx, video_name in video_schnitt_df[\"dateiname\"].items():\n",
    "    \n",
    "        # timedelta = cut_tail - pd.to_timedelta(cut_head)\n",
    "        # dummy_date = pd.Timestamp('1900-01-01')\n",
    "        # new_timestamp = dummy_date + timedelta\n",
    "        # cut_tail = new_timestamp.strftime('%H:%M:%S.%f')[:-3]\n",
    "\n",
    "        #Define arguments\n",
    "        output_file = f\"{video_name.split(\".\")[0]}_head_audio.mp4\"\n",
    "        cut_head = video_schnitt_df[\"vorne_abschneiden_bis\"][idx]\n",
    "        cut_tail = video_schnitt_df[\"vorne_bild_durch_standbild_ersetzen_bis\"][idx]\n",
    "\n",
    "        if cut_head == \"nan\":\n",
    "            cut_head = \"00:00:00\"\n",
    "\n",
    "        get_audio(video_name,output_file,cut_head,cut_tail)\n",
    "\n",
    "except Exception as error:\n",
    "    print(\"An error occurred:\", error)"
   ]
  },
  {
   "cell_type": "markdown",
   "metadata": {},
   "source": [
    "# Merge audio and video"
   ]
  },
  {
   "cell_type": "code",
   "execution_count": null,
   "metadata": {},
   "outputs": [],
   "source": [
    "try:\n",
    "    for idx, video_name in video_schnitt_df[\"dateiname\"].items():\n",
    "\n",
    "        if video_schnitt_df[\"vorne_bild_durch_standbild_ersetzen_bis\"][idx] == \"nan\":\n",
    "            continue\n",
    "        video_file = f\"{video_name.split(\".\")[0]}_standbild.mp4\"\n",
    "        audio_file = f\"{video_name.split(\".\")[0]}_head_audio.mp4\"\n",
    "        output_file = f\"{video_name.split(\".\")[0]}_merged_start.mp4\"\n",
    "        \n",
    "        merge_audio_and_video(video_file,audio_file,output_file)\n",
    "\n",
    "except Exception as error:\n",
    "    print(\"An error occured:\", error)"
   ]
  },
  {
   "cell_type": "markdown",
   "metadata": {},
   "source": [
    "# Concatenate videos to end product"
   ]
  },
  {
   "cell_type": "code",
   "execution_count": null,
   "metadata": {},
   "outputs": [],
   "source": [
    "try:\n",
    "    for idx, video_name in video_schnitt_df[\"dateiname\"].items():\n",
    "\n",
    "        #define input for the text file with the videos we want to concat\n",
    "        video1 = f\"{video_name.split(\".\")[0]}_merged_start.mp4\"\n",
    "        video2 = video_name\n",
    "        textfile_content = f\"file '{video1}'\\nfile '{video2}'\"\n",
    "\n",
    "        #create the file with content\n",
    "        with open('dummy.txt', 'w') as textfile:\n",
    "            textfile.write(textfile_content)\n",
    "\n",
    "        #define parameters for concat function\n",
    "        output_file = f\"{video_name.split(\".\")[0]}_endprodukt.mp4\"\n",
    "        textfile_name = \"dummy.txt\"\n",
    "\n",
    "        concatenate_videos(textfile_name,output_file)\n",
    "        \n",
    "except Exception as error:\n",
    "    print(\"An error occured:\", error)"
   ]
  },
  {
   "cell_type": "markdown",
   "metadata": {},
   "source": [
    "# Cut in pieces"
   ]
  },
  {
   "cell_type": "code",
   "execution_count": null,
   "metadata": {},
   "outputs": [],
   "source": [
    "for idx, video_name in video_schnitt_df[\"dateiname\"].items():\n",
    "    cut_time = video_schnitt_df[\"schnitt_setzen_bei\"][idx]\n",
    "    head_output = f\"{video_name}_head_piece.mp4\"\n",
    "    tail_output = f\"{video_name}_tail_piece.mp4\"\n",
    "    cut_in_pieces(video_name,cut_time,head_output,tail_output)"
   ]
  },
  {
   "cell_type": "code",
   "execution_count": null,
   "metadata": {},
   "outputs": [],
   "source": [
    "# videos need to be in same directory with python script\n",
    "for idx, video_name in video_schnitt_df[\"dateiname\"].items():\n",
    "    output_file = f\"{video_name}_standbild.mp4\"\n",
    "    cut_time = video_schnitt_df[\"vorne_bild_durch_standbild_ersetzen_bis\"][idx]"
   ]
  },
  {
   "cell_type": "code",
   "execution_count": null,
   "metadata": {},
   "outputs": [],
   "source": [
    "\n",
    "# Your time string\n",
    "time_str = \"00:00:00.000\"\n",
    "\n",
    "# Convert to Pandas Timedelta\n",
    "time_delta = pd.to_timedelta(time_str)\n",
    "\n",
    "# Add one millisecond\n",
    "new_time_delta = time_delta + pd.Timedelta(milliseconds=1)\n",
    "\n",
    "# Convert Timedelta to Timestamp for formatting (using a dummy date)\n",
    "dummy_date = pd.Timestamp('1900-01-01')\n",
    "new_timestamp = dummy_date + new_time_delta\n",
    "\n",
    "# Format to \"HH:MM:SS.fff\"\n",
    "new_time_str = new_timestamp.strftime('%H:%M:%S.%f')[:-3]\n",
    "\n",
    "new_time_str\n"
   ]
  },
  {
   "cell_type": "code",
   "execution_count": null,
   "metadata": {},
   "outputs": [],
   "source": [
    "video_schnitt_df[\"vorne_bild_durch_standbild_ersetzen_bis\"][0]\n"
   ]
  },
  {
   "cell_type": "code",
   "execution_count": null,
   "metadata": {},
   "outputs": [],
   "source": [
    "duration = pd.to_datetime(get_video_duration(\"Video.mp4\")).strftime('%H:%M:%S.%f')[:-3]\n",
    "duration = duration + duration"
   ]
  },
  {
   "cell_type": "code",
   "execution_count": null,
   "metadata": {},
   "outputs": [],
   "source": [
    "start_time = pd.to_datetime(\"00:00:10\").strftime('%H:%M:%S.%f')[:-3]\n",
    "end_time = pd.to_datetime(\"00:00:15\").strftime('%H:%M:%S.%f')[:-3]"
   ]
  },
  {
   "cell_type": "code",
   "execution_count": null,
   "metadata": {},
   "outputs": [],
   "source": [
    "start_time = pd.to_datetime(\"00:00:10\").strftime('%H:%M:%S.%f')[:-3]\n",
    "end_time = pd.to_datetime(\"00:00:15\").strftime('%H:%M:%S.%f')[:-3]\n",
    "result = start_time + pd.to_timedelta(end_time) "
   ]
  },
  {
   "cell_type": "code",
   "execution_count": null,
   "metadata": {},
   "outputs": [],
   "source": [
    "get_video_duration(\"Video.mp4\")"
   ]
  }
 ],
 "metadata": {
  "kernelspec": {
   "display_name": "cut_env",
   "language": "python",
   "name": "python3"
  },
  "language_info": {
   "codemirror_mode": {
    "name": "ipython",
    "version": 3
   },
   "file_extension": ".py",
   "mimetype": "text/x-python",
   "name": "python",
   "nbconvert_exporter": "python",
   "pygments_lexer": "ipython3",
   "version": "3.12.0"
  }
 },
 "nbformat": 4,
 "nbformat_minor": 2
}

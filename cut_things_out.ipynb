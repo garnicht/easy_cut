{
 "cells": [
  {
   "cell_type": "code",
   "execution_count": null,
   "metadata": {},
   "outputs": [],
   "source": [
    "import pandas as pd\n",
    "import subprocess\n",
    "import os\n",
    "import shutil"
   ]
  },
  {
   "cell_type": "code",
   "execution_count": null,
   "metadata": {},
   "outputs": [],
   "source": [
    "def get_video_duration(file_path):\n",
    "    command = ['ffmpeg', '-i', file_path]\n",
    "    result = subprocess.run(command, text=True, capture_output=True)\n",
    "    output_lines = result.stderr.split('\\n')\n",
    "    duration_line = [line for line in output_lines if 'Duration' in line][0]\n",
    "    duration = duration_line.strip().split(\",\")[0].split(\" \")[1]\n",
    "    return duration"
   ]
  },
  {
   "cell_type": "code",
   "execution_count": null,
   "metadata": {},
   "outputs": [],
   "source": [
    "def create_folder(folder_name):\n",
    "    try:\n",
    "        # Create a new folder in the current working directory\n",
    "        os.mkdir(folder_name)\n",
    "        print(f\"Folder '{folder_name}' created successfully.\")\n",
    "    except FileExistsError:\n",
    "        print(f\"Folder '{folder_name}' already exists.\")"
   ]
  },
  {
   "cell_type": "code",
   "execution_count": null,
   "metadata": {},
   "outputs": [],
   "source": [
    "def get_the_table_data():\n",
    "    while True:\n",
    "        table_path = input(\"What is the table path + name? (.../filename.csv):\")\n",
    "        try:\n",
    "            video_schnitt_df = pd.read_csv(table_path)\n",
    "            print(\"Table loaded succesfully\")\n",
    "            return video_schnitt_df\n",
    "        except Exception as error:\n",
    "            print(\"An error occured:\", error)\n",
    "            continue\n",
    "        break"
   ]
  },
  {
   "cell_type": "code",
   "execution_count": null,
   "metadata": {},
   "outputs": [],
   "source": [
    "def clean_the_data(df):\n",
    "    df.columns = df.columns.str.lower()\n",
    "    df.columns = df.columns.str.replace(\" \", \"_\")\n",
    "    df.columns = df.columns.str.strip()\n",
    "    df = df.astype(str)\n",
    "    print(\"Table Columns cleaned\")\n",
    "    return df"
   ]
  },
  {
   "cell_type": "code",
   "execution_count": null,
   "metadata": {},
   "outputs": [],
   "source": [
    "def cut_head_tail(original_video,output_file,cut_head=\"00:00:00\",cut_tail=\"00:50:00\"):\n",
    "\n",
    "    # Construct the command\n",
    "    command = [\n",
    "        'ffmpeg',\n",
    "        '-i', original_video,\n",
    "        '-ss', cut_head,\n",
    "        '-to', cut_tail,\n",
    "        '-c:v','libx264',\n",
    "         '-c:a', 'copy',\n",
    "        output_file\n",
    "    ]\n",
    "    \n",
    "     # Run the command\n",
    "    try:\n",
    "        subprocess.run(command, check=True)\n",
    "    except subprocess.CalledProcessError as e:\n",
    "        print(f\"An error occurred: {e}\")"
   ]
  },
  {
   "cell_type": "code",
   "execution_count": null,
   "metadata": {},
   "outputs": [],
   "source": [
    "def concatenate_videos(input_file, output_file):\n",
    "    \n",
    "    command = [\n",
    "        'ffmpeg',\n",
    "        '-f', 'concat', \n",
    "        '-i', input_file,\n",
    "         '-c:v', 'copy',\n",
    "         '-c:a', 'copy',\n",
    "        output_file\n",
    "    ]\n",
    "\n",
    "    # Run the command\n",
    "    try:\n",
    "        subprocess.run(command, check=True)\n",
    "    except subprocess.CalledProcessError as e:\n",
    "        print(\"An error occured:\", e)"
   ]
  },
  {
   "cell_type": "markdown",
   "metadata": {},
   "source": [
    "# Get the file and clean it"
   ]
  },
  {
   "cell_type": "code",
   "execution_count": null,
   "metadata": {},
   "outputs": [],
   "source": [
    "video_schnitt_df = get_the_table_data()\n",
    "video_schnitt_df = clean_the_data(video_schnitt_df)"
   ]
  },
  {
   "cell_type": "markdown",
   "metadata": {},
   "source": [
    "# remove more slices in a video"
   ]
  },
  {
   "cell_type": "code",
   "execution_count": null,
   "metadata": {},
   "outputs": [],
   "source": [
    "try:\n",
    "    # videos need to be in same directory with python script\n",
    "    for idx, video_name in video_schnitt_df[\"dateiname\"].items():\n",
    "        if video_schnitt_df[\"cut2_ab\"][idx] == \"nan\":\n",
    "            continue\n",
    "        \n",
    "        columns_to_cut = [\"vorne_abschneiden_bis\",\"rausschneiden_ab\",\"rausschneiden_bis\",\"cut2_ab\",\"cut2_bis\",\"cut3_ab\",\"cut3_bis\",\"cut4_ab\",\"cut4_bis\",\"cut5_ab\",\"cut5_bis\"]\n",
    "        try:\n",
    "            for i,col in enumerate(columns_to_cut):\n",
    "                cut_head = video_schnitt_df[col][idx]\n",
    "                cut_tail = video_schnitt_df[columns_to_cut[i+1]][idx]\n",
    "\n",
    "                # logic to handle the nans\n",
    "                if cut_head == \"nan\" and cut_tail == \"nan\":\n",
    "                    break\n",
    "                elif cut_head == \"nan\":\n",
    "                    cut_head = \"00:00:00\"\n",
    "                elif cut_tail == \"nan\":\n",
    "                    cut_tail = get_video_duration(video_name)\n",
    "\n",
    "                output_file = f\"{video_name.split('.')[0]}_part{i}.mp4\"\n",
    "                \n",
    "                print(\"video name:\",video_name,\"column:\",col,\"schnittpunkte:\",cut_head,cut_tail,\"output:\",output_file)\n",
    "                cut_head_tail(video_name, output_file, cut_head, cut_tail)\n",
    "        except:\n",
    "            print(\"skip to next video\")\n",
    "\n",
    "except Exception as error:\n",
    "    print(\"An error occured:\", error)   "
   ]
  },
  {
   "cell_type": "code",
   "execution_count": null,
   "metadata": {},
   "outputs": [],
   "source": [
    "path_script_output = \"script_output\"\n",
    "create_folder(path_script_output)\n",
    "\n",
    "path_folder_parts = \"script_output/parts\"\n",
    "create_folder(path_folder_parts)"
   ]
  },
  {
   "cell_type": "code",
   "execution_count": null,
   "metadata": {},
   "outputs": [],
   "source": [
    "original_video_names = list()\n",
    "\n",
    "for video_name in video_schnitt_df[\"dateiname\"]:\n",
    "    if video_name != \"nan\":\n",
    "        original_video_names.append(video_name)"
   ]
  },
  {
   "cell_type": "code",
   "execution_count": null,
   "metadata": {},
   "outputs": [],
   "source": [
    "for filename in os.listdir():\n",
    "    if filename.endswith(\".mp4\") and filename not in original_video_names:\n",
    "        shutil.move(filename,path_script_output)"
   ]
  },
  {
   "cell_type": "code",
   "execution_count": null,
   "metadata": {},
   "outputs": [],
   "source": [
    "for filename in os.listdir(path_script_output):\n",
    "    if filename.find or filename.find(\"part\"):\n",
    "        src = f\"script_output/{filename}\"\n",
    "        shutil.move(src,path_folder_parts)"
   ]
  }
 ],
 "metadata": {
  "kernelspec": {
   "display_name": "cut_env",
   "language": "python",
   "name": "python3"
  },
  "language_info": {
   "codemirror_mode": {
    "name": "ipython",
    "version": 3
   },
   "file_extension": ".py",
   "mimetype": "text/x-python",
   "name": "python",
   "nbconvert_exporter": "python",
   "pygments_lexer": "ipython3",
   "version": "3.12.0"
  }
 },
 "nbformat": 4,
 "nbformat_minor": 2
}

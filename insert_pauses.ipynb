{
 "cells": [
  {
   "cell_type": "code",
   "execution_count": null,
   "metadata": {},
   "outputs": [],
   "source": [
    "import pandas as pd\n",
    "import os\n",
    "import subprocess\n",
    "import re"
   ]
  },
  {
   "cell_type": "code",
   "execution_count": null,
   "metadata": {},
   "outputs": [],
   "source": [
    "def get_columns_to_pause(df):\n",
    "    pattern = re.compile(r'^pause\\d+_[a-z]+$')\n",
    "    dummy = []\n",
    "    for column in df.columns:\n",
    "        if pattern.match(column):\n",
    "            dummy.append(column)\n",
    "    return dummy"
   ]
  },
  {
   "cell_type": "code",
   "execution_count": null,
   "metadata": {},
   "outputs": [],
   "source": [
    "def create_silent_audio(duration, output_file):\n",
    "    # Command to create silent audio with ffmpeg\n",
    "    command = [\n",
    "        'ffmpeg',\n",
    "        '-f', 'lavfi',\n",
    "        '-i', 'anullsrc=channel_layout=stereo:sample_rate=48000',\n",
    "        '-t', duration,\n",
    "        '-c:a', 'aac',\n",
    "        '-b:a', '191k',\n",
    "        output_file\n",
    "    ]\n",
    "\n",
    "    try:\n",
    "        subprocess.run(command, check=True)\n",
    "        print(f\"Silent audio file {output_file} created successfully.\")\n",
    "        \n",
    "    except subprocess.CalledProcessError as e:\n",
    "        print(f\"Error creating silent audio file: {e}\")"
   ]
  },
  {
   "cell_type": "code",
   "execution_count": null,
   "metadata": {},
   "outputs": [],
   "source": [
    "def merge_audio_and_video(video_file,audio_file,output_file):\n",
    "    #Construct command\n",
    "    command = ['ffmpeg',\n",
    "               '-i', video_file,\n",
    "               '-i', audio_file,\n",
    "               '-c:v', 'libx264', # needs to stay libx264\n",
    "               '-c:a', 'copy', output_file\n",
    "               ]\n",
    "    # Run the command\n",
    "    try:\n",
    "        subprocess.run(command, check=True)\n",
    "    except subprocess.CalledProcessError as e:\n",
    "        print(f\"An error occurred: {e}\")"
   ]
  },
  {
   "cell_type": "code",
   "execution_count": null,
   "metadata": {},
   "outputs": [],
   "source": [
    "def get_the_table_data():\n",
    "    for f in os.listdir():\n",
    "        if f.endswith(\".csv\"):\n",
    "                video_schnitt_df = pd.read_csv(f)\n",
    "                print(f\"Table {f} loaded succesfully\")\n",
    "                return video_schnitt_df\n",
    "    raise ValueError(\"There is no csv in this directory\")"
   ]
  },
  {
   "cell_type": "code",
   "execution_count": null,
   "metadata": {},
   "outputs": [],
   "source": [
    "def clean_the_data(df):\n",
    "    df.columns = df.columns.str.lower()\n",
    "    df.columns = df.columns.str.replace(\" \", \"_\")\n",
    "    df.columns = df.columns.str.strip()\n",
    "    df = df.astype(str)\n",
    "    print(\"Table Columns cleaned\")\n",
    "    return df"
   ]
  },
  {
   "cell_type": "code",
   "execution_count": null,
   "metadata": {},
   "outputs": [],
   "source": [
    "def get_standbild(input_file,output_file,cut_head):\n",
    "    \n",
    "    #creat timedelta and add 1 miliseconds\n",
    "    time_delta = pd.to_timedelta(cut_head)\n",
    "    new_time_delta = time_delta + pd.Timedelta(milliseconds=1)\n",
    "\n",
    "    #create dummy for calculation to transform data type back to datetype\n",
    "    dummy_date = pd.Timestamp('1900-01-01')\n",
    "    new_timestamp = dummy_date + new_time_delta\n",
    "\n",
    "    #get the new time back to wished str format\n",
    "    cut_tail = new_timestamp.strftime('%H:%M:%S.%f')[:-3]\n",
    "\n",
    "    # Construct the command\n",
    "    command = [\n",
    "        'ffmpeg',\n",
    "        '-i', input_file,\n",
    "        '-ss', cut_head,\n",
    "        '-to', cut_tail,\n",
    "        '-an', #audio no\n",
    "        '-c:v', 'libx264', output_file # libx264 to encode and copy to test (but that didnt work the last time)\n",
    "    ]\n",
    "\n",
    "    # Run the command\n",
    "    try:\n",
    "        subprocess.run(command, check=True)\n",
    "    except subprocess.CalledProcessError as e:\n",
    "        print(f\"An error occurred: {e}\")"
   ]
  },
  {
   "cell_type": "markdown",
   "metadata": {},
   "source": [
    "# Get file and clean it"
   ]
  },
  {
   "cell_type": "code",
   "execution_count": null,
   "metadata": {},
   "outputs": [],
   "source": [
    "video_schnitt_df = get_the_table_data()\n",
    "video_schnitt_df = clean_the_data(video_schnitt_df)             "
   ]
  },
  {
   "cell_type": "code",
   "execution_count": null,
   "metadata": {},
   "outputs": [],
   "source": [
    "video_schnitt_df"
   ]
  },
  {
   "cell_type": "code",
   "execution_count": null,
   "metadata": {},
   "outputs": [],
   "source": [
    "# for loop trough columns and rows\n",
    "#   get timestamp pause1_bei\n",
    "#   create standbild\n",
    "#   get timestamp pause1_duration\n",
    "#   create silent audio in right duration\n",
    "#   merge audio with standbild\n",
    "# add pause into the video before cut and keep."
   ]
  },
  {
   "cell_type": "code",
   "execution_count": null,
   "metadata": {},
   "outputs": [],
   "source": [
    "columns_to_pause = get_columns_to_pause(video_schnitt_df)\n"
   ]
  },
  {
   "cell_type": "code",
   "execution_count": null,
   "metadata": {},
   "outputs": [],
   "source": [
    "# get stanbilder\n",
    "for row, video_name in video_schnitt_df[[\"dateiname\"] + columns_to_pause].query(\"pause1_bei != 'nan'\")[\"dateiname\"].items():\n",
    "    counter = 1\n",
    "    \n",
    "    for idx, col in enumerate(columns_to_pause):\n",
    "        if video_schnitt_df[col][row] == \"nan\" or \"dauer\" in col:\n",
    "            continue\n",
    "        output = f\"{video_name.split('.')[0]}_stanbild{counter}.mp4\"\n",
    "        timestamp = video_schnitt_df[col][row]\n",
    "\n",
    "        try:\n",
    "            print(video_name, \"standbild bei:\", timestamp, \"output:\", output)\n",
    "            get_standbild(video_name,output,timestamp)\n",
    "        except Exception as e:\n",
    "            print(e)\n",
    "        \n",
    "        counter += 1"
   ]
  },
  {
   "cell_type": "code",
   "execution_count": null,
   "metadata": {},
   "outputs": [],
   "source": [
    "# get audios with silence for duration\n",
    "for row, video_name in video_schnitt_df[[\"dateiname\"] + columns_to_pause].query(\"pause1_bei != 'nan'\")[\"dateiname\"].items():\n",
    "    counter = 1\n",
    "    \n",
    "    for idx, col in enumerate(columns_to_pause):\n",
    "        if video_schnitt_df[col][row] == \"nan\" or \"bei\" in col:\n",
    "            continue\n",
    "        \n",
    "        output = f\"{video_name.split('.')[0]}_audio{counter}.mp4\"\n",
    "        timestamp = video_schnitt_df[col][row]\n",
    "        \n",
    "        try:\n",
    "            print(video_name, \"silence for:\", timestamp, \"output:\", output)\n",
    "            create_silent_audio(timestamp,output)\n",
    "        except Exception as e:\n",
    "            print(e)\n",
    "\n",
    "        counter += 1"
   ]
  },
  {
   "cell_type": "code",
   "execution_count": null,
   "metadata": {},
   "outputs": [],
   "source": [
    "# merge all the files\n",
    "for row, video_name in video_schnitt_df[[\"dateiname\"] + columns_to_pause].query(\"pause1_bei != 'nan'\")[\"dateiname\"].items():\n",
    "    counter = 1\n",
    "    \n",
    "    for idx, col in enumerate(columns_to_pause):\n",
    "        if video_schnitt_df[col][row] == \"nan\" or \"bei\" in col:\n",
    "            continue\n",
    "        \n",
    "        video_file = f\"{video_name.split('.')[0]}_stanbild{counter}.mp4\"\n",
    "        audio_file = f\"{video_name.split('.')[0]}_audio{counter}.mp4\"\n",
    "        output_file = f\"{video_name.split('.')[0]}_merged{counter}.mp4\"\n",
    "        try :\n",
    "            print(video_name,audio_file,output_file)\n",
    "            merge_audio_and_video(video_file,audio_file,output_file)\n",
    "        except Exception as e:\n",
    "            print(e)\n",
    "            \n",
    "        counter += 1"
   ]
  }
 ],
 "metadata": {
  "kernelspec": {
   "display_name": "cut_env",
   "language": "python",
   "name": "python3"
  },
  "language_info": {
   "codemirror_mode": {
    "name": "ipython",
    "version": 3
   },
   "file_extension": ".py",
   "mimetype": "text/x-python",
   "name": "python",
   "nbconvert_exporter": "python",
   "pygments_lexer": "ipython3",
   "version": "3.12.0"
  }
 },
 "nbformat": 4,
 "nbformat_minor": 2
}

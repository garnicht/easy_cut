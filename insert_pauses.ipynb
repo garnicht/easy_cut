{
 "cells": [
  {
   "cell_type": "code",
   "execution_count": null,
   "metadata": {},
   "outputs": [],
   "source": [
    "import pandas as pd\n",
    "import os\n",
    "import subprocess\n",
    "import re\n",
    "import shutil"
   ]
  },
  {
   "cell_type": "code",
   "execution_count": null,
   "metadata": {},
   "outputs": [],
   "source": [
    "def concatenate_videos(input_file, output_file):\n",
    "    \n",
    "    command = [\n",
    "        'ffmpeg',\n",
    "        '-f', 'concat', \n",
    "        '-i', input_file,\n",
    "         '-c:v', 'copy', #libx264 to encode if needed\n",
    "         '-c:a', 'copy',\n",
    "        output_file\n",
    "    ]\n",
    "\n",
    "    # Run the command\n",
    "    try:\n",
    "        subprocess.run(command, check=True)\n",
    "    except subprocess.CalledProcessError as e:\n",
    "        print(\"An error occured:\", e)"
   ]
  },
  {
   "cell_type": "code",
   "execution_count": null,
   "metadata": {},
   "outputs": [],
   "source": [
    "def get_columns_to_cut(df):\n",
    "    pattern = re.compile(r'^rausschneiden\\d+_[a-z]+$')\n",
    "    dummy = []\n",
    "    for column in df.columns:\n",
    "        if pattern.match(column):\n",
    "            dummy.append(column)\n",
    "    return dummy"
   ]
  },
  {
   "cell_type": "code",
   "execution_count": null,
   "metadata": {},
   "outputs": [],
   "source": [
    "def calculate_time(*timestamps,kind=\"addition\"):\n",
    "    \"\"\"\n",
    "    Calculate time based on the given timestamps and operation type.\n",
    "\n",
    "    Parameters:\n",
    "    - timestamps (str): Variable number of timestamps.\n",
    "    - kind (str): The operation type. Allowed values are 'addition' and 'subtraction'.\n",
    "    \"\"\"\n",
    "    \n",
    "    #addition\n",
    "    if kind == \"addition\":\n",
    "        stamp1 = None\n",
    "        for timestamp in timestamps:\n",
    "            if timestamp == \"nan\":\n",
    "                timestamp = \"00:00:00\"\n",
    "        \n",
    "        # calculate timestamp\n",
    "            if stamp1 is None:\n",
    "                stamp1 = timestamp\n",
    "\n",
    "            else:\n",
    "                timedelta = stamp1 + pd.to_timedelta(timestamp)\n",
    "                dummy_date = pd.Timestamp('1900-01-01')\n",
    "                new_timestamp = dummy_date + timedelta\n",
    "                timestamp = new_timestamp.strftime('%H:%M:%S.%f')[:-3]\n",
    "                return timestamp\n",
    "    \n",
    "    #subtraction\n",
    "    elif kind == \"subtraction\":\n",
    "        stamp1 = None\n",
    "        for timestamp in timestamps:\n",
    "            if timestamp == \"nan\":\n",
    "                timestamp = \"00:00:00\"        \n",
    "\n",
    "        # calculate timestamp\n",
    "            if stamp1 is None:\n",
    "                stamp1 = timestamp\n",
    "\n",
    "            else:\n",
    "                timedelta = stamp1 - pd.to_timedelta(timestamp)\n",
    "                dummy_date = pd.Timestamp('1900-01-01')\n",
    "                new_timestamp = dummy_date + timedelta\n",
    "                timestamp = new_timestamp.strftime('%H:%M:%S.%f')[:-3]\n",
    "                return timestamp  "
   ]
  },
  {
   "cell_type": "code",
   "execution_count": null,
   "metadata": {},
   "outputs": [],
   "source": [
    "def calculate_timestamp(input_timestamp,row_number):\n",
    "    columns_to_cut = get_columns_to_cut(video_schnitt_df)\n",
    "    pattern = re.compile(r'^rausschneiden\\d+_bis$')\n",
    "    result = \"00:00:00\"\n",
    "\n",
    "    for col_num,col in enumerate(video_schnitt_df[columns_to_cut]):\n",
    "        \n",
    "        ab_timestamp = video_schnitt_df[columns_to_cut].iloc[row_number, col_num-1]\n",
    "        bis_timestamp = video_schnitt_df[col][row_number]\n",
    "\n",
    "        # check wether the timestamp in 'rausschneidenX_bis' is smaller than input\n",
    "        if pattern.match(col):\n",
    "            if bis_timestamp != \"nan\" and bis_timestamp < input_timestamp:\n",
    "                # print(video_name, \"col name:\", col)\n",
    "                # print(\"bis timestamp:\", bis_timestamp, \"ist kleiner als input Tiestamp:\",input_timestamp)\n",
    "                # print(\"ab Timestamp ist:\", ab_timestamp)\n",
    "                # print(\"bis Timestamp:\",bis_timestamp,\"minus\",ab_timestamp)\n",
    "                diff = calculate_time(bis_timestamp,ab_timestamp,kind=\"subtraction\")\n",
    "                result = calculate_time(result,diff,kind=\"addition\")\n",
    "                # print(\"Differenz:\",diff,\"Summe:\",result)\n",
    "                \n",
    "    new_timestamp = calculate_time(input_timestamp,result,kind=\"subtraction\")\n",
    "    # print(\"neuer Teimestamp:\",new_timestamp)\n",
    "    result = \"00:00:00\"\n",
    "\n",
    "    return new_timestamp"
   ]
  },
  {
   "cell_type": "code",
   "execution_count": null,
   "metadata": {},
   "outputs": [],
   "source": [
    "def cut_in_2_pieces(input_file, timestamp, head_output, tail_output):\n",
    "    \n",
    "    # -ss = ab dort; -to = bis dort\n",
    "    head_cmd = ['ffmpeg', '-i', input_file, '-to', timestamp, '-c:v', 'copy', '-c:a', 'copy', head_output] # \"-c:v\" -> \"libx264\" to encrypt or \"copy\" to test\n",
    "    tail_cmd = ['ffmpeg', '-i', input_file, '-ss', timestamp, '-c:v', 'copy', '-c:a', 'copy', tail_output] # \"-c:v\" -> \"libx264\" to encrypt or \"copy\" to test\n",
    "\n",
    "# Execute the commands\n",
    "    try:\n",
    "        subprocess.run(head_cmd, check=True)\n",
    "        subprocess.run(tail_cmd, check=True)\n",
    "    except subprocess.CalledProcessError as e:\n",
    "        print(f\"An error occurred: {e}\")"
   ]
  },
  {
   "cell_type": "code",
   "execution_count": null,
   "metadata": {},
   "outputs": [],
   "source": [
    "def create_folder(folder_name):\n",
    "    try:\n",
    "        # Create a new folder in the current working directory\n",
    "        os.mkdir(folder_name)\n",
    "        print(f\"Folder '{folder_name}' created successfully.\")\n",
    "    except FileExistsError:\n",
    "        print(f\"Folder '{folder_name}' already exists.\")"
   ]
  },
  {
   "cell_type": "code",
   "execution_count": null,
   "metadata": {},
   "outputs": [],
   "source": [
    "def get_columns_to_pause(df):\n",
    "    pattern = re.compile(r'^pause\\d+_[a-z]+$')\n",
    "    dummy = []\n",
    "    for column in df.columns:\n",
    "        if pattern.match(column):\n",
    "            dummy.append(column)\n",
    "    return dummy"
   ]
  },
  {
   "cell_type": "code",
   "execution_count": null,
   "metadata": {},
   "outputs": [],
   "source": [
    "def create_silent_audio(duration, output_file):\n",
    "    # Command to create silent audio with ffmpeg\n",
    "    command = [\n",
    "        'ffmpeg',\n",
    "        '-f', 'lavfi',\n",
    "        '-i', 'anullsrc=channel_layout=stereo:sample_rate=48000',\n",
    "        '-t', duration,\n",
    "        '-c:a', 'aac',\n",
    "        '-b:a', '191k',\n",
    "        output_file\n",
    "    ]\n",
    "\n",
    "    try:\n",
    "        subprocess.run(command, check=True)\n",
    "        print(f\"Silent audio file {output_file} created successfully.\")\n",
    "        \n",
    "    except subprocess.CalledProcessError as e:\n",
    "        print(f\"Error creating silent audio file: {e}\")"
   ]
  },
  {
   "cell_type": "code",
   "execution_count": null,
   "metadata": {},
   "outputs": [],
   "source": [
    "def merge_audio_and_video(video_file,audio_file,output_file):\n",
    "    #Construct command\n",
    "    command = ['ffmpeg',\n",
    "               '-i', video_file,\n",
    "               '-i', audio_file,\n",
    "               '-c:v', 'libx264', # needs to stay libx264\n",
    "               '-c:a', 'copy', output_file\n",
    "               ]\n",
    "    # Run the command\n",
    "    try:\n",
    "        subprocess.run(command, check=True)\n",
    "    except subprocess.CalledProcessError as e:\n",
    "        print(f\"An error occurred: {e}\")"
   ]
  },
  {
   "cell_type": "code",
   "execution_count": null,
   "metadata": {},
   "outputs": [],
   "source": [
    "def get_the_table_data():\n",
    "    for f in os.listdir():\n",
    "        if f.endswith(\".csv\"):\n",
    "                video_schnitt_df = pd.read_csv(f)\n",
    "                print(f\"Table {f} loaded succesfully\")\n",
    "                return video_schnitt_df\n",
    "    raise ValueError(\"There is no csv in this directory\")"
   ]
  },
  {
   "cell_type": "code",
   "execution_count": null,
   "metadata": {},
   "outputs": [],
   "source": [
    "def clean_the_data(df):\n",
    "    df.columns = df.columns.str.lower()\n",
    "    df.columns = df.columns.str.replace(\" \", \"_\")\n",
    "    df.columns = df.columns.str.strip()\n",
    "    df = df.astype(str)\n",
    "    print(\"Table Columns cleaned\")\n",
    "    return df"
   ]
  },
  {
   "cell_type": "code",
   "execution_count": null,
   "metadata": {},
   "outputs": [],
   "source": [
    "def get_standbild(input_file,output_file,cut_head):\n",
    "    \n",
    "    #creat timedelta and add 1 miliseconds\n",
    "    time_delta = pd.to_timedelta(cut_head)\n",
    "    new_time_delta = time_delta + pd.Timedelta(milliseconds=1)\n",
    "\n",
    "    #create dummy for calculation to transform data type back to datetype\n",
    "    dummy_date = pd.Timestamp('1900-01-01')\n",
    "    new_timestamp = dummy_date + new_time_delta\n",
    "\n",
    "    #get the new time back to wished str format\n",
    "    cut_tail = new_timestamp.strftime('%H:%M:%S.%f')[:-3]\n",
    "\n",
    "    # Construct the command\n",
    "    command = [\n",
    "        'ffmpeg',\n",
    "        '-i', input_file,\n",
    "        '-ss', cut_head,\n",
    "        '-to', cut_tail,\n",
    "        '-an', #audio no\n",
    "        '-c:v', 'libx264', output_file # libx264 to encode and copy to test (but that didnt work the last time)\n",
    "    ]\n",
    "\n",
    "    # Run the command\n",
    "    try:\n",
    "        subprocess.run(command, check=True)\n",
    "    except subprocess.CalledProcessError as e:\n",
    "        print(f\"An error occurred: {e}\")"
   ]
  },
  {
   "cell_type": "markdown",
   "metadata": {},
   "source": [
    "# Get file and clean it"
   ]
  },
  {
   "cell_type": "code",
   "execution_count": null,
   "metadata": {},
   "outputs": [],
   "source": [
    "video_schnitt_df = get_the_table_data()\n",
    "video_schnitt_df = clean_the_data(video_schnitt_df)             "
   ]
  },
  {
   "cell_type": "code",
   "execution_count": null,
   "metadata": {},
   "outputs": [],
   "source": [
    "video_schnitt_df"
   ]
  },
  {
   "cell_type": "markdown",
   "metadata": {},
   "source": [
    "# Create pauses"
   ]
  },
  {
   "cell_type": "code",
   "execution_count": null,
   "metadata": {},
   "outputs": [],
   "source": [
    "columns_to_pause = get_columns_to_pause(video_schnitt_df)\n"
   ]
  },
  {
   "cell_type": "code",
   "execution_count": null,
   "metadata": {},
   "outputs": [],
   "source": [
    "# get stanbilder\n",
    "for row, video_name in video_schnitt_df[[\"dateiname\"] + columns_to_pause].query(\"pause1_bei != 'nan'\")[\"dateiname\"].items():\n",
    "    counter = 1\n",
    "    \n",
    "    for idx, col in enumerate(columns_to_pause):\n",
    "        if video_schnitt_df[col][row] == \"nan\" or \"dauer\" in col:\n",
    "            continue\n",
    "        output = f\"{video_name.split('.')[0]}_stanbild{counter}.mp4\"\n",
    "        timestamp = video_schnitt_df[col][row]\n",
    "\n",
    "        try:\n",
    "            print(video_name, \"standbild bei:\", timestamp, \"output:\", output)\n",
    "            get_standbild(video_name,output,timestamp)\n",
    "        except Exception as e:\n",
    "            print(e)\n",
    "        \n",
    "        counter += 1"
   ]
  },
  {
   "cell_type": "code",
   "execution_count": null,
   "metadata": {},
   "outputs": [],
   "source": [
    "# get audios with silence for duration\n",
    "for row, video_name in video_schnitt_df[[\"dateiname\"] + columns_to_pause].query(\"pause1_bei != 'nan'\")[\"dateiname\"].items():\n",
    "    counter = 1\n",
    "    \n",
    "    for idx, col in enumerate(columns_to_pause):\n",
    "        if video_schnitt_df[col][row] == \"nan\" or \"bei\" in col:\n",
    "            continue\n",
    "        \n",
    "        output = f\"{video_name.split('.')[0]}_audio{counter}.mp4\"\n",
    "        timestamp = video_schnitt_df[col][row]\n",
    "        \n",
    "        try:\n",
    "            print(video_name, \"silence for:\", timestamp, \"output:\", output)\n",
    "            create_silent_audio(timestamp,output)\n",
    "        except Exception as e:\n",
    "            print(e)\n",
    "\n",
    "        counter += 1"
   ]
  },
  {
   "cell_type": "code",
   "execution_count": null,
   "metadata": {},
   "outputs": [],
   "source": [
    "# merge all the files\n",
    "for row, video_name in video_schnitt_df[[\"dateiname\"] + columns_to_pause].query(\"pause1_bei != 'nan'\")[\"dateiname\"].items():\n",
    "    counter = 1\n",
    "    \n",
    "    for idx, col in enumerate(columns_to_pause):\n",
    "        if video_schnitt_df[col][row] == \"nan\" or \"bei\" in col:\n",
    "            continue\n",
    "        \n",
    "        video_file = f\"{video_name.split('.')[0]}_stanbild{counter}.mp4\"\n",
    "        audio_file = f\"{video_name.split('.')[0]}_audio{counter}.mp4\"\n",
    "        output_file = f\"{video_name.split('.')[0]}_pause{counter}.mp4\"\n",
    "        try :\n",
    "            print(video_name,audio_file,output_file)\n",
    "            merge_audio_and_video(video_file,audio_file,output_file)\n",
    "        except Exception as e:\n",
    "            print(e)\n",
    "            \n",
    "        counter += 1"
   ]
  },
  {
   "cell_type": "markdown",
   "metadata": {},
   "source": [
    "# Handle output"
   ]
  },
  {
   "cell_type": "code",
   "execution_count": null,
   "metadata": {},
   "outputs": [],
   "source": [
    "path_folder_endprodukte = \"endprodukte\"\n",
    "create_folder(path_folder_endprodukte)\n",
    "\n",
    "path_folder_script_output = \"script_output\"\n",
    "create_folder(path_folder_script_output)"
   ]
  },
  {
   "cell_type": "code",
   "execution_count": null,
   "metadata": {},
   "outputs": [],
   "source": [
    "original_video_names = list()\n",
    "\n",
    "for video_name in video_schnitt_df[\"dateiname\"]:\n",
    "    if video_name != \"nan\":\n",
    "        original_video_names.append(video_name)"
   ]
  },
  {
   "cell_type": "code",
   "execution_count": null,
   "metadata": {},
   "outputs": [],
   "source": [
    "# move pauses\n",
    "try:\n",
    "    for video_name in video_schnitt_df[\"dateiname\"]:\n",
    "        original_prefix = video_name.split('.')[0]\n",
    "        pattern = re.compile(rf'^{re.escape(original_prefix)}_pause\\d+.*$')\n",
    "        \n",
    "        for f in os.listdir():\n",
    "            if pattern.match(f):\n",
    "                print(f)\n",
    "                shutil.move(f,path_folder_endprodukte)\n",
    "            #elif f.endswith(\".mp4\") and f not in original_video_names:\n",
    "                #os.remove(f)\n",
    "\n",
    "except Exception as e:\n",
    "    print(e, \"or this file already has been removed\")"
   ]
  },
  {
   "cell_type": "code",
   "execution_count": null,
   "metadata": {},
   "outputs": [],
   "source": [
    "# delete byproducts\n",
    "try:\n",
    "    for video_name in video_schnitt_df[\"dateiname\"]:\n",
    "        \n",
    "        for f in os.listdir():\n",
    "            if f.endswith(\".mp4\") and f not in original_video_names:\n",
    "                os.remove(f)\n",
    "\n",
    "except Exception as e:\n",
    "    print(e, \"or this file already has been removed\")"
   ]
  },
  {
   "cell_type": "markdown",
   "metadata": {},
   "source": [
    "## Cut_and_keep videos at specified pause-timestamps"
   ]
  },
  {
   "cell_type": "code",
   "execution_count": null,
   "metadata": {},
   "outputs": [],
   "source": [
    "folder_path = \"endprodukte/\"\n",
    "versions_to_concat = {}\n",
    "\n",
    "try:\n",
    "    for row, video_name in video_schnitt_df[[\"dateiname\"] + columns_to_pause].query(\"pause1_bei != 'nan'\")[\"dateiname\"].items():\n",
    "        counter = 1\n",
    "        columns_to_pause = get_columns_to_pause(video_schnitt_df)\n",
    "        for col_num, col in enumerate(video_schnitt_df[columns_to_pause]):\n",
    "            \n",
    "            if \"bei\" in col and video_schnitt_df[col][row] != \"nan\":\n",
    "                \n",
    "                # Start bei mindestens einer Teilung\n",
    "                if counter == 1:\n",
    "\n",
    "                    # define all variables needed\n",
    "                    if os.path.exists(video_name):\n",
    "                        input_file = video_name\n",
    "                    else:\n",
    "                        input_file = folder_path + video_name\n",
    "\n",
    "                    # timestamp                \n",
    "                    timestamp = video_schnitt_df[col][row]\n",
    "                    # print(\"input timestamp:\",timestamp)\n",
    "                    timestamp = calculate_timestamp(timestamp,row)\n",
    "                    # print(\"output timestamp:\",timestamp)\n",
    "                    \n",
    "                    head_output = f\"{video_name.split('.')[0]}_head{counter}.mp4\"\n",
    "                    tail_output = f\"{video_name.split('.')[0]}_tail{counter}.mp4\"\n",
    "                    \n",
    "                    print(\"all variables:\",input_file,timestamp,head_output,tail_output)\n",
    "\n",
    "                    #start separation\n",
    "                    cut_in_2_pieces(input_file,timestamp,head_output,tail_output)\n",
    "                    \n",
    "                    versions_to_concat[video_name] = [head_output,f\"{folder_path}{video_name.split('.')[0]}_pause{counter}.mp4\",tail_output]\n",
    "                    \n",
    "                    counter += 1\n",
    "                \n",
    "                else:\n",
    "\n",
    "                    # define alle the vars\n",
    "                    input_file = f\"{video_name.split('.')[0]}_tail{counter-1}.mp4\"\n",
    "\n",
    "                    # timestamp\n",
    "                    timestamp1 = video_schnitt_df[columns_to_pause[col_num -2]][row]\n",
    "                    timestamp1 = calculate_timestamp(timestamp1,row)\n",
    "\n",
    "                    timestamp2 = video_schnitt_df[col][row]\n",
    "                    timestamp2 = calculate_timestamp(timestamp2,row)\n",
    "\n",
    "                    timestamp = calculate_time(timestamp2,timestamp1,kind=\"subtraction\")\n",
    "\n",
    "\n",
    "                    head_output = f\"{video_name.split('.')[0]}_mitte{counter-1}.mp4\"\n",
    "                    tail_output = f\"{video_name.split('.')[0]}_tail{counter}.mp4\"\n",
    "                    print(\"PRINT: timestamps before calculation:\",timestamp1,timestamp2)\n",
    "                    print(\"PRINT: all Variables further cut:\",input_file,timestamp,head_output,tail_output)\n",
    "\n",
    "                    cut_in_2_pieces(input_file,timestamp,head_output,tail_output)\n",
    "                    os.remove(input_file)\n",
    "\n",
    "                    versions_to_concat[video_name].pop()\n",
    "                    versions_to_concat[video_name].append(head_output)\n",
    "                    versions_to_concat[video_name].append(f\"{folder_path}{video_name.split('.')[0]}_pause{counter}.mp4\")\n",
    "                    versions_to_concat[video_name].append(tail_output)\n",
    "\n",
    "                    counter += 1\n",
    "        \n",
    "            \n",
    "except Exception as e:\n",
    "    print(\"Error in insert_pause part:\", e)"
   ]
  },
  {
   "cell_type": "markdown",
   "metadata": {},
   "source": [
    "## Concat pauses with the videosnippets"
   ]
  },
  {
   "cell_type": "code",
   "execution_count": null,
   "metadata": {},
   "outputs": [],
   "source": [
    "try:\n",
    "    for key, values in versions_to_concat.items():\n",
    "        textfile_content = \"\"\n",
    "        output = f\"{key.split('.')[0]}_endprodukt.mp4\"\n",
    "\n",
    "        for value in values:\n",
    "            dummy_string = f\"file '{value}'\\n\"\n",
    "            textfile_content = textfile_content + dummy_string\n",
    "\n",
    "        # Create textfile with content\n",
    "        textfile_name = \"dummy.txt\"\n",
    "        with open(textfile_name, 'w') as textfile:\n",
    "            textfile.write(textfile_content.rstrip())\n",
    "            \n",
    "        # Concat the videos\n",
    "        print(\"key:\",key,\"ouput:\",output,\"textfile_content:\", textfile_content)\n",
    "        concatenate_videos(textfile_name, output)\n",
    "\n",
    "except Exception as e:\n",
    "    print(e)"
   ]
  },
  {
   "cell_type": "code",
   "execution_count": null,
   "metadata": {},
   "outputs": [],
   "source": [
    "# delete byproducts\n",
    "for key, values in versions_to_concat.items():\n",
    "\n",
    "    for value in values:\n",
    "        os.remove(value)"
   ]
  }
 ],
 "metadata": {
  "kernelspec": {
   "display_name": "cut_env",
   "language": "python",
   "name": "python3"
  },
  "language_info": {
   "codemirror_mode": {
    "name": "ipython",
    "version": 3
   },
   "file_extension": ".py",
   "mimetype": "text/x-python",
   "name": "python",
   "nbconvert_exporter": "python",
   "pygments_lexer": "ipython3",
   "version": "3.12.0"
  }
 },
 "nbformat": 4,
 "nbformat_minor": 2
}

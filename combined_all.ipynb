{
 "cells": [
  {
   "cell_type": "markdown",
   "metadata": {},
   "source": [
    "# Import libs and define functions"
   ]
  },
  {
   "cell_type": "code",
   "execution_count": null,
   "metadata": {},
   "outputs": [],
   "source": [
    "import pandas as pd\n",
    "import subprocess\n",
    "import os\n",
    "import shutil\n",
    "import re\n",
    "import sys "
   ]
  },
  {
   "cell_type": "code",
   "execution_count": null,
   "metadata": {},
   "outputs": [],
   "source": [
    "def get_columns_to_pause(df):\n",
    "    pattern = re.compile(r'^pause\\d+_[a-z]+$')\n",
    "    dummy = []\n",
    "    for column in df.columns:\n",
    "        if pattern.match(column):\n",
    "            dummy.append(column)\n",
    "    return dummy"
   ]
  },
  {
   "cell_type": "code",
   "execution_count": null,
   "metadata": {},
   "outputs": [],
   "source": [
    "def create_silent_audio(duration, output_file):\n",
    "    # Command to create silent audio with ffmpeg\n",
    "    command = [\n",
    "        'ffmpeg',\n",
    "        '-f', 'lavfi',\n",
    "        '-i', 'anullsrc=channel_layout=stereo:sample_rate=48000',\n",
    "        '-t', duration,\n",
    "        '-c:a', 'aac',\n",
    "        '-b:a', '191k',\n",
    "        output_file\n",
    "    ]\n",
    "\n",
    "    try:\n",
    "        subprocess.run(command, check=True)\n",
    "        print(f\"Silent audio file {output_file} created successfully.\")\n",
    "        \n",
    "    except subprocess.CalledProcessError as e:\n",
    "        print(f\"Error creating silent audio file: {e}\")"
   ]
  },
  {
   "cell_type": "code",
   "execution_count": null,
   "metadata": {},
   "outputs": [],
   "source": [
    "def remove_end_in_name(filename):\n",
    "    splitted = filename.split(\"_\")\n",
    "    splitted.pop()\n",
    "    joined_string = \"_\".join(splitted)\n",
    "    return joined_string"
   ]
  },
  {
   "cell_type": "code",
   "execution_count": null,
   "metadata": {},
   "outputs": [],
   "source": [
    "def get_creation_time(file_path):\n",
    "    try:\n",
    "        creation_time = os.path.getctime(file_path)\n",
    "        return pd.to_datetime(creation_time, unit='s')\n",
    "    except Exception as e:\n",
    "        print(f\"Error getting creation time for {file_path}: {e}\")\n",
    "        return None"
   ]
  },
  {
   "cell_type": "code",
   "execution_count": null,
   "metadata": {},
   "outputs": [],
   "source": [
    "def get_the_table_data():\n",
    "    for f in os.listdir():\n",
    "        if f.endswith(\".csv\"):\n",
    "                video_schnitt_df = pd.read_csv(f)\n",
    "                print(f\"Table {f} loaded succesfully\")\n",
    "                return video_schnitt_df\n",
    "    raise ValueError(\"There is no csv in this directory\")"
   ]
  },
  {
   "cell_type": "code",
   "execution_count": null,
   "metadata": {},
   "outputs": [],
   "source": [
    "def get_video_duration(file_path):\n",
    "    command = ['ffmpeg', '-i', file_path]\n",
    "    result = subprocess.run(command, text=True, capture_output=True)\n",
    "    output_lines = result.stderr.split('\\n')\n",
    "    duration_line = [line for line in output_lines if 'Duration' in line][0]\n",
    "    duration = duration_line.strip().split(\",\")[0].split(\" \")[1]\n",
    "    return duration"
   ]
  },
  {
   "cell_type": "code",
   "execution_count": null,
   "metadata": {},
   "outputs": [],
   "source": [
    "def clean_the_data(df):\n",
    "    df.columns = df.columns.str.lower()\n",
    "    df.columns = df.columns.str.replace(\" \", \"_\")\n",
    "    df.columns = df.columns.str.strip()\n",
    "    df = df.astype(str)\n",
    "    print(\"Table Columns cleaned\")\n",
    "    return df"
   ]
  },
  {
   "cell_type": "code",
   "execution_count": null,
   "metadata": {},
   "outputs": [],
   "source": [
    "def cut_head_tail(original_video,output_file,cut_head=\"00:00:00\",cut_tail=\"00:50:00\"):\n",
    "\n",
    "    # Construct the command\n",
    "    command = [\n",
    "        'ffmpeg',\n",
    "        '-i', original_video,\n",
    "        '-ss', cut_head,\n",
    "        '-to', cut_tail,\n",
    "        '-c:v','copy', #libx264 to encode and copy to test\n",
    "        '-c:a', 'copy',\n",
    "        output_file\n",
    "    ]\n",
    "    \n",
    "     # Run the command\n",
    "    try:\n",
    "        subprocess.run(command, check=True)\n",
    "    except subprocess.CalledProcessError as e:\n",
    "        print(f\"An error occurred: {e}\")"
   ]
  },
  {
   "cell_type": "code",
   "execution_count": null,
   "metadata": {},
   "outputs": [],
   "source": [
    "def create_folder(folder_name):\n",
    "    try:\n",
    "        # Create a new folder in the current working directory\n",
    "        os.mkdir(folder_name)\n",
    "        print(f\"Folder '{folder_name}' created successfully.\")\n",
    "    except FileExistsError:\n",
    "        print(f\"Folder '{folder_name}' already exists.\")"
   ]
  },
  {
   "cell_type": "code",
   "execution_count": null,
   "metadata": {},
   "outputs": [],
   "source": [
    "def get_standbild(input_file,output_file,cut_head):\n",
    "    \n",
    "    #creat timedelta and add 1 miliseconds\n",
    "    time_delta = pd.to_timedelta(cut_head)\n",
    "    new_time_delta = time_delta + pd.Timedelta(milliseconds=1)\n",
    "\n",
    "    #create dummy for calculation to transform data type back to datetype\n",
    "    dummy_date = pd.Timestamp('1900-01-01')\n",
    "    new_timestamp = dummy_date + new_time_delta\n",
    "\n",
    "    #get the new time back to wished str format\n",
    "    cut_tail = new_timestamp.strftime('%H:%M:%S.%f')[:-3]\n",
    "\n",
    "    # Construct the command\n",
    "    command = [\n",
    "        'ffmpeg',\n",
    "        '-i', input_file,\n",
    "        '-ss', cut_head,\n",
    "        '-to', cut_tail,\n",
    "        '-an', #audio no\n",
    "        '-c:v', 'libx264', output_file # libx264 to encode and copy to test (but that didnt work the last time)\n",
    "    ]\n",
    "\n",
    "    # Run the command\n",
    "    try:\n",
    "        subprocess.run(command, check=True)\n",
    "    except subprocess.CalledProcessError as e:\n",
    "        print(f\"An error occurred: {e}\")"
   ]
  },
  {
   "cell_type": "code",
   "execution_count": null,
   "metadata": {},
   "outputs": [],
   "source": [
    "def get_audio(input_file,output_file,cut_head,cut_tail):\n",
    "    \n",
    "    #Construct command\n",
    "    command = ['ffmpeg',\n",
    "               '-i', input_file,\n",
    "               '-ss', cut_head,\n",
    "               '-to', cut_tail,\n",
    "               '-vn',\n",
    "               '-c:a', 'copy', output_file]\n",
    "    \n",
    "    # Run the command\n",
    "    try:\n",
    "        subprocess.run(command, check=True)\n",
    "    except subprocess.CalledProcessError as e:\n",
    "        print(f\"An error occurred: {e}\")"
   ]
  },
  {
   "cell_type": "code",
   "execution_count": null,
   "metadata": {},
   "outputs": [],
   "source": [
    "def merge_audio_and_video(video_file,audio_file,output_file):\n",
    "    #Construct command\n",
    "    command = ['ffmpeg',\n",
    "               '-i', video_file,\n",
    "               '-i', audio_file,\n",
    "               '-c:v', 'libx264', # needs to stay libx264\n",
    "               '-c:a', 'copy', output_file\n",
    "               ]\n",
    "    # Run the command\n",
    "    try:\n",
    "        subprocess.run(command, check=True)\n",
    "    except subprocess.CalledProcessError as e:\n",
    "        print(f\"An error occurred: {e}\")"
   ]
  },
  {
   "cell_type": "code",
   "execution_count": null,
   "metadata": {},
   "outputs": [],
   "source": [
    "def get_columns_to_cut(df):\n",
    "    pattern = re.compile(r'^rausschneiden\\d+_[a-z]+$')\n",
    "    dummy = []\n",
    "    for column in df.columns:\n",
    "        if pattern.match(column):\n",
    "            dummy.append(column)\n",
    "    return dummy"
   ]
  },
  {
   "cell_type": "code",
   "execution_count": null,
   "metadata": {},
   "outputs": [],
   "source": [
    "def get_list_of_evens(input_list):\n",
    "    dummy = []\n",
    "    for i in range(len(input_list)):\n",
    "        if i % 2 == 0:\n",
    "            dummy.append(i)\n",
    "    return dummy"
   ]
  },
  {
   "cell_type": "code",
   "execution_count": null,
   "metadata": {},
   "outputs": [],
   "source": [
    "def concatenate_videos(input_file, output_file):\n",
    "    \n",
    "    command = [\n",
    "        'ffmpeg',\n",
    "        '-f', 'concat', \n",
    "        '-i', input_file, # txt file\n",
    "         '-c:v', 'copy', #libx264 to encode if needed\n",
    "         '-c:a', 'copy',\n",
    "        output_file\n",
    "    ]\n",
    "\n",
    "    # Run the command\n",
    "    try:\n",
    "        subprocess.run(command, check=True)\n",
    "    except subprocess.CalledProcessError as e:\n",
    "        print(\"An error occured:\", e)"
   ]
  },
  {
   "cell_type": "code",
   "execution_count": null,
   "metadata": {},
   "outputs": [],
   "source": [
    "def check_for_non_zero_digit(string):\n",
    "    # Define a regular expression pattern to match any digit other than 0\n",
    "    pattern = re.compile('[1-9]')\n",
    "\n",
    "    if pattern.search(string):\n",
    "        return True       \n",
    "    else:\n",
    "        return False\n"
   ]
  },
  {
   "cell_type": "code",
   "execution_count": null,
   "metadata": {},
   "outputs": [],
   "source": [
    "def extract_data_from_row(df,row_index,columns):\n",
    "    dic = df.loc[row_index,columns].to_dict()\n",
    "\n",
    "    return dic"
   ]
  },
  {
   "cell_type": "code",
   "execution_count": null,
   "metadata": {},
   "outputs": [],
   "source": [
    "def check_number_of_columns(df):\n",
    "    columns = get_columns_to_cut(df)\n",
    "    for row, video_name in df[\"dateiname\"].items():\n",
    "        data = df[\"rausschneiden1_bis\"][row]\n",
    "        \n",
    "        if data != \"nan\":\n",
    "            dic = extract_data_from_row(df,row,columns)\n",
    "            counter = 0\n",
    "\n",
    "            for key, value in dic.items():\n",
    "                \n",
    "                if (key != \"rausschneiden1_ab\"\n",
    "                        and value == \"nan\"):\n",
    "                    counter += 1\n",
    "            \n",
    "            if counter < 3:\n",
    "                error_message = (\n",
    "                    f\"Error: Insufficient 'rausschneiden...' columns in row of Normalverteilung.mp4.\\n\"\n",
    "                    \"At least 3 free 'rausschneiden...' columns at the end are required to execute the code.\\n\"\n",
    "                    \"Please update the CSV file accordingly and restart the script.\"\n",
    "                )\n",
    "                \n",
    "                print(error_message)\n",
    "                \n",
    "                sys.exit(\"Script terminated due to error.\")\n",
    "\n"
   ]
  },
  {
   "cell_type": "code",
   "execution_count": null,
   "metadata": {},
   "outputs": [],
   "source": [
    "# def check_special_case(df):\n",
    "#     columns = get_columns_to_cut(df)\n",
    "#     for idx, video_name in df[\"dateiname\"].items():\n",
    "#         data = df[\"rausschneiden1_ab\"][idx]\n",
    "#         if check_for_non_zero_digit(data) == True:\n",
    "#             dic = extract_data_from_row(df,idx,columns)\n",
    "#             counter = 0\n",
    "#             for key,value in dic.items():\n",
    "#                 if value == \"nan\":\n",
    "#                     counter += 1\n",
    "#             if counter < 2:\n",
    "#                 print(f\"\"\"Error: Insufficient 'rausschneiden...' columns in row of {video_name}.\\n\n",
    "#                       \"At least 2 free 'rausschneiden...' columns at the end are required to execute the code.\\n\"\n",
    "#                       \"Please update the CSV file accordingly and restart the script.\"\"\")\n",
    "                \n",
    "#                 sys.exit(\"Script terminated due to error.\")"
   ]
  },
  {
   "cell_type": "code",
   "execution_count": null,
   "metadata": {},
   "outputs": [],
   "source": [
    "def solve_special_case(df):\n",
    "    \n",
    "    for idx,video_name in df[\"dateiname\"].items():\n",
    "        \n",
    "        if check_for_non_zero_digit(df[\"rausschneiden1_ab\"][idx]) == False:\n",
    "            continue\n",
    "\n",
    "        else:\n",
    "            columns = get_columns_to_cut(df)\n",
    "            dic = extract_data_from_row(df,idx,columns)\n",
    "            dummy = []\n",
    "            counter = 0\n",
    "\n",
    "            # put values from row into list and change first two columns to 000000\n",
    "            for key, value in dic.items():\n",
    "                if value != \"nan\":\n",
    "                    dummy.append(value)\n",
    "                if counter < 2:\n",
    "                    dic[key] = \"00:00:00\"\n",
    "                    counter += 1\n",
    "        # fülle das jeweilige dic solange mit daten bis liste leer\n",
    "        for key, value in dic.items():\n",
    "            if value != \"00:00:00\" and dummy:\n",
    "                dic[key] = dummy.pop(0)\n",
    "        \n",
    "        for key, value in dic.items():\n",
    "            df.loc[idx, key] = value\n",
    "    \n",
    "    return df"
   ]
  },
  {
   "cell_type": "code",
   "execution_count": null,
   "metadata": {},
   "outputs": [],
   "source": [
    "def convert_timestamp_to_right_format(input):\n",
    "    if input != \"nan\":\n",
    "        input = pd.to_timedelta(input)\n",
    "        dummy_date = pd.Timestamp('1900-01-01')\n",
    "        new_timestamp = dummy_date + input\n",
    "        new_timestamp = new_timestamp.strftime('%H:%M:%S.%f')[:-3]\n",
    "        return str(new_timestamp)"
   ]
  },
  {
   "cell_type": "code",
   "execution_count": null,
   "metadata": {},
   "outputs": [],
   "source": [
    "def get_columns_to_divide(df):\n",
    "    pattern = re.compile(r'^teilen\\d+_[a-z]+$')\n",
    "    dummy = []\n",
    "    for column in df.columns:\n",
    "        if pattern.match(column):\n",
    "            dummy.append(column)\n",
    "    return dummy"
   ]
  },
  {
   "cell_type": "code",
   "execution_count": null,
   "metadata": {},
   "outputs": [],
   "source": [
    "def calculate_time(*timestamps,kind=\"addition\"):\n",
    "    \"\"\"\n",
    "    Calculate time based on the given timestamps and operation type.\n",
    "\n",
    "    Parameters:\n",
    "    - timestamps (str): Variable number of timestamps.\n",
    "    - kind (str): The operation type. Allowed values are 'addition' and 'subtraction'.\n",
    "    \"\"\"\n",
    "    \n",
    "    #addition\n",
    "    if kind == \"addition\":\n",
    "        stamp1 = None\n",
    "        for timestamp in timestamps:\n",
    "            if timestamp == \"nan\":\n",
    "                timestamp = \"00:00:00\"\n",
    "        \n",
    "        # calculate timestamp\n",
    "            if stamp1 is None:\n",
    "                stamp1 = timestamp\n",
    "\n",
    "            else:\n",
    "                timedelta = stamp1 + pd.to_timedelta(timestamp)\n",
    "                dummy_date = pd.Timestamp('1900-01-01')\n",
    "                new_timestamp = dummy_date + timedelta\n",
    "                timestamp = new_timestamp.strftime('%H:%M:%S.%f')[:-3]\n",
    "                return timestamp\n",
    "    \n",
    "    #subtraction\n",
    "    elif kind == \"subtraction\":\n",
    "        stamp1 = None\n",
    "        for timestamp in timestamps:\n",
    "            if timestamp == \"nan\":\n",
    "                timestamp = \"00:00:00\"        \n",
    "\n",
    "        # calculate timestamp\n",
    "            if stamp1 is None:\n",
    "                stamp1 = timestamp\n",
    "\n",
    "            else:\n",
    "                timedelta = stamp1 - pd.to_timedelta(timestamp)\n",
    "                dummy_date = pd.Timestamp('1900-01-01')\n",
    "                new_timestamp = dummy_date + timedelta\n",
    "                new_timestamp = new_timestamp.strftime('%H:%M:%S.%f')[:-3]\n",
    "                if new_timestamp == '00:00:00.000':\n",
    "                    new_timestamp = stamp1\n",
    "                return new_timestamp        "
   ]
  },
  {
   "cell_type": "code",
   "execution_count": null,
   "metadata": {},
   "outputs": [],
   "source": [
    "def cut_in_2_pieces(input_file, timestamp, head_output, tail_output):\n",
    "    \n",
    "    # -ss = ab dort; -to = bis dort\n",
    "    head_cmd = ['ffmpeg', '-i', input_file, '-to', timestamp, '-c:v', 'copy', '-c:a', 'copy', head_output] # \"-c:v\" -> \"libx264\" to encrypt or \"copy\" to test\n",
    "    tail_cmd = ['ffmpeg', '-i', input_file, '-ss', timestamp, '-c:v', 'copy', '-c:a', 'copy', tail_output] # \"-c:v\" -> \"libx264\" to encrypt or \"copy\" to test\n",
    "\n",
    "# Execute the commands\n",
    "    try:\n",
    "        subprocess.run(head_cmd, check=True)\n",
    "        subprocess.run(tail_cmd, check=True)\n",
    "    except subprocess.CalledProcessError as e:\n",
    "        print(f\"An error occurred: {e}\")"
   ]
  },
  {
   "cell_type": "code",
   "execution_count": null,
   "metadata": {},
   "outputs": [],
   "source": [
    "def calculate_timestamp(col, row):\n",
    "\n",
    "    input_timestamp = video_schnitt_df[col][row]\n",
    "\n",
    "    # get diff from cutted videos and subtract\n",
    "    diff_with_cuts = calculate_time_diff(input_timestamp, row, kind=\"diff_with_cuts\")\n",
    "    new_timestamp = calculate_time(input_timestamp, diff_with_cuts, kind=\"subtraction\")\n",
    "\n",
    "    # get diff from pauses and add\n",
    "    diff_with_pauses = calculate_time_diff(input_timestamp, row, kind=\"diff_with_pauses\")\n",
    "    new_timestamp = calculate_time(new_timestamp, diff_with_pauses, kind=\"addition\")\n",
    "\n",
    "    return new_timestamp"
   ]
  },
  {
   "cell_type": "code",
   "execution_count": null,
   "metadata": {},
   "outputs": [],
   "source": [
    "def calculate_time_diff(input_timestamp,row_number,kind):\n",
    "    \"\"\"\n",
    "    Calculate new timestamp based on the original timestamp and operation type.\n",
    "\n",
    "    Parameters:\n",
    "    - timestamp (str): any Input Timestamp\n",
    "    - kind (str): The operation type. Allowed values are 'diff_with_cuts' and 'diff_with_pauses'.\n",
    "    - row (int): rownumber of data in dataframe\n",
    "    \"\"\"    \n",
    "\n",
    "    if kind == \"diff_with_cuts\":\n",
    "        columns_to_cut = get_columns_to_cut(video_schnitt_df)\n",
    "        pattern = re.compile(r'^rausschneiden\\d+_bis$')\n",
    "        result = \"00:00:00\"\n",
    "        input_timestamp = convert_timestamp_to_right_format(input_timestamp)\n",
    "\n",
    "        for col_num,col in enumerate(video_schnitt_df[columns_to_cut]):\n",
    "            \n",
    "            ab_timestamp = video_schnitt_df[columns_to_cut].iloc[row_number, col_num-1]\n",
    "            bis_timestamp = video_schnitt_df[col][row_number]\n",
    "            bis_timestamp = convert_timestamp_to_right_format(bis_timestamp)\n",
    "\n",
    "            # check wether the timestamp in 'rausschneidenX_bis' is smaller than input\n",
    "            if pattern.match(col):\n",
    "                if bis_timestamp != \"nan\" and str(bis_timestamp) < str(input_timestamp):\n",
    "                    # print(video_name, \"col name:\", col)\n",
    "                    # print(\"bis timestamp:\", bis_timestamp, \"ist kleiner als input Tiestamp:\",input_timestamp)\n",
    "                    # print(\"ab Timestamp ist:\", ab_timestamp)\n",
    "                    # print(\"bis Timestamp:\",bis_timestamp,\"minus\",ab_timestamp)\n",
    "                    diff = calculate_time(bis_timestamp,ab_timestamp,kind=\"subtraction\")\n",
    "                    result = calculate_time(result,diff,kind=\"addition\")\n",
    "                    # print(\"Differenz:\",diff,\"Summe:\",result)\n",
    "                    \n",
    "        return result\n",
    "\n",
    "    if kind == \"diff_with_pauses\":\n",
    "        columns_to_pause = get_columns_to_pause(video_schnitt_df)\n",
    "        pattern = re.compile(r'^pause\\d+_bei$')\n",
    "        result = \"00:00:00\"\n",
    "        input_timestamp = convert_timestamp_to_right_format(input_timestamp)\n",
    "\n",
    "\n",
    "        for col_num,col in enumerate(video_schnitt_df[columns_to_pause]):\n",
    "            \n",
    "            ab_timestamp = video_schnitt_df[columns_to_pause].iloc[row_number, col_num]\n",
    "            ab_timestamp = convert_timestamp_to_right_format(ab_timestamp)\n",
    "            \n",
    "            try:\n",
    "                dauer_timestamp = video_schnitt_df[columns_to_pause].iloc[row_number, col_num+1]\n",
    "            except Exception as e:\n",
    "                print(e)\n",
    "\n",
    "            # check wether the timestamp in 'rausschneidenX_bis' is smaller than input\n",
    "            if pattern.match(col):\n",
    "                if str(ab_timestamp) < str(input_timestamp):\n",
    "                    # print(video_name, \"col name:\", col)\n",
    "                    # print(\"ab timestamp:\", ab_timestamp, \"ist kleiner als input Tiestamp:\",input_timestamp)\n",
    "                    # print(\"dauer zum adden ist:\", dauer_timestamp)\n",
    "                    result = calculate_time(result,dauer_timestamp,\"addition\")\n",
    "                    # print(\"Summe:\",result)  \n",
    "\n",
    "        return result      "
   ]
  },
  {
   "cell_type": "code",
   "execution_count": null,
   "metadata": {},
   "outputs": [],
   "source": [
    "def remove_parts(video_name):\n",
    "    original_prefix = video_name.split('.')[0]\n",
    "    pattern = re.compile(rf'^{re.escape(original_prefix)}_part\\d+.*$')\n",
    "\n",
    "    for f in os.listdir():\n",
    "        if f.endswith(\".mp4\") and pattern.match(f):\n",
    "            os.remove(f)"
   ]
  },
  {
   "cell_type": "code",
   "execution_count": null,
   "metadata": {},
   "outputs": [],
   "source": [
    "def rename_part1_videos():\n",
    "    \"\"\"This function is a quick solution to solve following problem:\n",
    "    If a video just needs one cut, and its no special case, then there will be 3 parts and just one will be odd. \n",
    "    That means there is no concatted, and that means the part1 video needs to be moved\"\"\"\n",
    "\n",
    "    for video_name in video_schnitt_df[\"dateiname\"]:\n",
    "        original_prefix = video_name.split('.')[0]\n",
    "        suffix = \"_part1.mp4\"\n",
    "        pattern = re.compile(rf'^{re.escape(original_prefix)}_part\\d+.*$')\n",
    "        counter = 0\n",
    "        #print(\"new loop\")\n",
    "\n",
    "        for f in os.listdir():\n",
    "            if f.endswith(\".mp4\") and pattern.match(f):\n",
    "                counter += 1\n",
    "                if counter > 1:\n",
    "                    #print(\"video name:\", video_name, \"prefix:\", original_prefix)\n",
    "                    #print(\"file to remove:\", original_prefix + suffix, \"endfile:\", original_prefix + '_concatted1.mp4')\n",
    "                    os.rename(original_prefix + suffix, original_prefix + \"_concatted1.mp4\")\n",
    "                    break"
   ]
  },
  {
   "cell_type": "code",
   "execution_count": null,
   "metadata": {},
   "outputs": [],
   "source": [
    "# def convert_to_time(input_string):\n",
    "#     try:\n",
    "#         time_type = pd.to_datetime(input_string, format='%H:%M:%S.%f').dt.time\n",
    "        \n",
    "#         # Get the format\n",
    "#         formatted_time = time_type.dt.strftime('%H:%M:%S.%f')\n",
    "#         return formatted_time\n",
    "#     except ValueError:\n",
    "#         print(\"Input string is not in the correct format.\")\n",
    "#         return None"
   ]
  },
  {
   "cell_type": "markdown",
   "metadata": {},
   "source": [
    "# Get file and clean it"
   ]
  },
  {
   "cell_type": "code",
   "execution_count": null,
   "metadata": {},
   "outputs": [],
   "source": [
    "video_schnitt_df = get_the_table_data()\n",
    "video_schnitt_df = clean_the_data(video_schnitt_df)\n",
    "                    "
   ]
  },
  {
   "cell_type": "markdown",
   "metadata": {},
   "source": [
    "# Check Special Cases and input error"
   ]
  },
  {
   "cell_type": "code",
   "execution_count": null,
   "metadata": {},
   "outputs": [],
   "source": [
    "check_number_of_columns(video_schnitt_df)"
   ]
  },
  {
   "cell_type": "code",
   "execution_count": null,
   "metadata": {},
   "outputs": [],
   "source": [
    "solve_special_case(video_schnitt_df)"
   ]
  },
  {
   "cell_type": "code",
   "execution_count": null,
   "metadata": {},
   "outputs": [],
   "source": [
    "# solve special pause at beginning case. script doesnt work when pause ist set at 00:00:00\n",
    "\n",
    "video_schnitt_df.loc[video_schnitt_df[\"pause1_bei\"] == '00:00:00', \"pause1_bei\"] = '00:00:00.001'"
   ]
  },
  {
   "cell_type": "markdown",
   "metadata": {},
   "source": [
    "# Get Standbild"
   ]
  },
  {
   "cell_type": "code",
   "execution_count": null,
   "metadata": {},
   "outputs": [],
   "source": [
    "try:\n",
    "    for idx, video_name in video_schnitt_df[\"dateiname\"].items():\n",
    "        \n",
    "        if video_schnitt_df[\"standbild_bis\"][idx] == \"nan\":\n",
    "            continue\n",
    "        else:\n",
    "            cut_head = video_schnitt_df[\"standbild_bis\"][idx]\n",
    "        \n",
    "        output_file = f\"{video_name.split('.')[0]}_standbild.mp4\"\n",
    "\n",
    "        print(\"video_name:\",video_name,\"cuttime:\",cut_head,)\n",
    "        get_standbild(video_name,output_file,cut_head)\n",
    "except Exception as error:\n",
    "    print(\"An error occurred:\", error)"
   ]
  },
  {
   "cell_type": "markdown",
   "metadata": {},
   "source": [
    "# Get audio"
   ]
  },
  {
   "cell_type": "code",
   "execution_count": null,
   "metadata": {},
   "outputs": [],
   "source": [
    "try:\n",
    "    for idx, video_name in video_schnitt_df[\"dateiname\"].items():\n",
    "        \n",
    "        if video_schnitt_df[\"standbild_bis\"][idx] == \"nan\":\n",
    "            continue\n",
    "\n",
    "        #Define arguments\n",
    "        output_file = f\"{video_name.split('.')[0]}_head_audio.mp4\"\n",
    "        cut_head = \"00:00:00\"\n",
    "        cut_tail = video_schnitt_df[\"standbild_bis\"][idx]\n",
    "\n",
    "        print(\"video_name\",video_name,\"output_file\", output_file,\"cut_head\",cut_head,\"cut_tail:\", cut_tail)\n",
    "        get_audio(video_name,output_file,cut_head,cut_tail)\n",
    "\n",
    "except Exception as error:\n",
    "    print(\"An error occurred:\", error)"
   ]
  },
  {
   "cell_type": "markdown",
   "metadata": {},
   "source": [
    "# Cut head of the original Video"
   ]
  },
  {
   "cell_type": "code",
   "execution_count": null,
   "metadata": {},
   "outputs": [],
   "source": [
    "try:\n",
    "    for idx, video_name in video_schnitt_df[\"dateiname\"].items():\n",
    "\n",
    "        if video_schnitt_df[\"standbild_bis\"][idx] == \"nan\":\n",
    "            continue\n",
    "        \n",
    "        # define arguments\n",
    "        cut_head = video_schnitt_df[\"standbild_bis\"][idx]\n",
    "        cut_tail = get_video_duration(video_name)\n",
    "        output_file = f\"{video_name.split('.')[0]}_ohne_start_standbild.mp4\"\n",
    "    \n",
    "        print(\"input name:\",video_name,\"Schnittpunkte:\", cut_head, cut_tail)\n",
    "        cut_head_tail(video_name, output_file, cut_head, cut_tail)\n",
    "except Exception as error:\n",
    "    print(\"An error occurred:\", error)"
   ]
  },
  {
   "cell_type": "markdown",
   "metadata": {},
   "source": [
    "# Merge audio and video"
   ]
  },
  {
   "cell_type": "code",
   "execution_count": null,
   "metadata": {},
   "outputs": [],
   "source": [
    "try:\n",
    "    for idx, video_name in video_schnitt_df[\"dateiname\"].items():\n",
    "\n",
    "        if video_schnitt_df[\"standbild_bis\"][idx] == \"nan\":\n",
    "            continue\n",
    "        \n",
    "        video_file = f\"{video_name.split('.')[0]}_standbild.mp4\"\n",
    "        audio_file = f\"{video_name.split('.')[0]}_head_audio.mp4\"\n",
    "        output_file = f\"{video_name.split('.')[0]}_merged_start.mp4\"\n",
    "        \n",
    "        print(\"video:\", video_file, \"audio:\", audio_file, \"output\", output_file)\n",
    "        merge_audio_and_video(video_file,audio_file,output_file)\n",
    "\n",
    "except Exception as error:\n",
    "    print(\"An error occured:\", error)"
   ]
  },
  {
   "cell_type": "markdown",
   "metadata": {},
   "source": [
    "# Concat to endproduct"
   ]
  },
  {
   "cell_type": "code",
   "execution_count": null,
   "metadata": {},
   "outputs": [],
   "source": [
    "try:\n",
    "    for idx, video_name in video_schnitt_df[\"dateiname\"].items():\n",
    "\n",
    "        if video_schnitt_df[\"standbild_bis\"][idx] == \"nan\":\n",
    "            continue\n",
    "        \n",
    "        #define input for the text file with the videos we want to concat\n",
    "        video1 = f\"{video_name.split('.')[0]}_merged_start.mp4\"\n",
    "        video2 = f\"{video_name.split('.')[0]}_ohne_start_standbild.mp4\"\n",
    "        textfile_content = f\"file '{video1}'\\nfile '{video2}'\"\n",
    "\n",
    "        #create the file with content\n",
    "        with open('dummy.txt', 'w') as textfile:\n",
    "            textfile.write(textfile_content)\n",
    "\n",
    "        #define parameters for concat function\n",
    "        output_file = f\"{video_name.split('.')[0]}_standbild_endprodukt.mp4\"\n",
    "        textfile_name = \"dummy.txt\"\n",
    "        print(\"file content:\", textfile_content)\n",
    "        concatenate_videos(textfile_name,output_file)\n",
    "        \n",
    "except Exception as error:\n",
    "    print(\"An error occured:\", error)"
   ]
  },
  {
   "cell_type": "markdown",
   "metadata": {},
   "source": [
    "# Create folder and move files"
   ]
  },
  {
   "cell_type": "code",
   "execution_count": null,
   "metadata": {},
   "outputs": [],
   "source": [
    "path_folder_endprodukte = \"endprodukte\"\n",
    "create_folder(path_folder_endprodukte)\n",
    "\n",
    "path_folder_script_output = \"script_output\"\n",
    "create_folder(path_folder_script_output)"
   ]
  },
  {
   "cell_type": "code",
   "execution_count": null,
   "metadata": {},
   "outputs": [],
   "source": [
    "original_video_names = list()\n",
    "\n",
    "for video_name in video_schnitt_df[\"dateiname\"]:\n",
    "    if video_name != \"nan\":\n",
    "        original_video_names.append(video_name)"
   ]
  },
  {
   "cell_type": "code",
   "execution_count": null,
   "metadata": {},
   "outputs": [],
   "source": [
    "for filename in os.listdir():\n",
    "    if filename.endswith(\"endprodukt.mp4\"):\n",
    "        shutil.move(filename,path_folder_endprodukte)\n",
    "    elif filename.endswith(\"mp4\") and filename not in original_video_names:\n",
    "        shutil.move(filename,path_folder_script_output)"
   ]
  },
  {
   "cell_type": "markdown",
   "metadata": {},
   "source": [
    "# Start to cut things out"
   ]
  },
  {
   "cell_type": "code",
   "execution_count": null,
   "metadata": {},
   "outputs": [],
   "source": [
    "# cut all the videos that did not use the standbild ersetzen script\n",
    "try:\n",
    "    # videos need to be in same directory with python script\n",
    "    trash_list = []\n",
    "    for idx, video_name in video_schnitt_df[\"dateiname\"].items():\n",
    "\n",
    "        if not os.path.exists(video_name):\n",
    "            print(\"Following file does not exist:\",video_name)\n",
    "            continue\n",
    "\n",
    "        #check ob video schon standbid ersetzt bekommen, use other videoname\n",
    "        if video_schnitt_df[\"standbild_bis\"][idx] != \"nan\":\n",
    "            print(video_name,\"skipped because other video in endprodukte needs to be used\")\n",
    "            continue\n",
    "\n",
    "        columns_to_cut = get_columns_to_cut(video_schnitt_df)\n",
    "        evens = get_list_of_evens(columns_to_cut)\n",
    "\n",
    "        parts_list = []\n",
    "        video1 = 0\n",
    "        video2 = 0\n",
    "        end_reached = None\n",
    "        print(\"Video Name to cut:\", video_name)\n",
    "\n",
    "        try:\n",
    "            for i,col in enumerate(columns_to_cut):\n",
    "                cut_head = video_schnitt_df[col][idx]\n",
    "                cut_tail = video_schnitt_df[columns_to_cut[i+1]][idx]\n",
    "                print(\"index:\",i,\"Column:\",col)\n",
    "                print(\"Timestamps before changing:\",cut_head,cut_tail)\n",
    "\n",
    "                #logic to handle the nans \n",
    "                \n",
    "                if cut_head != \"nan\" and cut_head != \"00:00:00\" and i == 0:\n",
    "                    print(\"Skipped because of special case\")\n",
    "                    \n",
    "                    break\n",
    "                \n",
    "                if cut_head == \"nan\" and cut_tail == \"nan\":\n",
    "                    print(\"Break used\")\n",
    "                    break\n",
    "                \n",
    "                if end_reached == True:\n",
    "                    break\n",
    "\n",
    "                if  cut_head == \"nan\":\n",
    "                    cut_head = \"00:00:00\"\n",
    "                    print(\"cut_head ersetzt\")\n",
    "\n",
    "                if cut_tail == \"nan\":\n",
    "                    cut_tail = get_video_duration(video_name)\n",
    "                    end_reached = True\n",
    "                    print(\"end reached\")\n",
    "                    \n",
    "                output_file = f\"{video_name.split('.')[0]}_part{i}.mp4\"\n",
    "                print(\"Timestamps after changing:\",cut_head,cut_tail, \"output file:\", output_file)\n",
    "                cut_head_tail(video_name, output_file, cut_head, cut_tail)\n",
    "                \n",
    "                if i not in evens:\n",
    "                    parts_list.append(output_file)\n",
    "                else:\n",
    "                    trash_list.append(output_file)\n",
    "\n",
    "                if len(parts_list) == 2:\n",
    "                    video1 = parts_list[0]\n",
    "                    video2 = parts_list[1]\n",
    "                    \n",
    "                    textfile_content = f\"file '{video1}'\\nfile '{video2}'\"\n",
    "\n",
    "                    #create the file with content\n",
    "                    with open('dummy.txt', 'w') as textfile:\n",
    "                        textfile.write(textfile_content)\n",
    "\n",
    "                    #define parameters for concat function\n",
    "                    textfile_name = \"dummy.txt\"\n",
    "\n",
    "                    output_file = f\"{video_name.split('.')[0]}_concatted{i}.mp4\"\n",
    "                    \n",
    "                    parts_list.clear()\n",
    "                    parts_list.append(output_file)\n",
    "                    print(textfile_content, \"output:\", output_file)\n",
    "                    concatenate_videos(textfile_name,output_file)    \n",
    "                    remove_parts(video_name)            \n",
    "\n",
    "        except Exception as e:\n",
    "            print(\"skip to next video because:\",e)\n",
    "\n",
    "except Exception as error:\n",
    "    print(\"An error occured:\", error)   "
   ]
  },
  {
   "cell_type": "markdown",
   "metadata": {},
   "source": [
    "## cut all the videos that did not use the standbild ersetzen script\n"
   ]
  },
  {
   "cell_type": "code",
   "execution_count": null,
   "metadata": {},
   "outputs": [],
   "source": [
    "\n",
    "try:\n",
    "    # videos need to be in same directory with python script\n",
    "    trash_list = []\n",
    "    for idx, video_name in video_schnitt_df[\"dateiname\"].items():\n",
    "\n",
    "        if not os.path.exists(video_name):\n",
    "            print(\"Following file does not exist:\",video_name)\n",
    "            continue\n",
    "\n",
    "        #check ob video schon standbid ersetzt bekommen, use other videoname\n",
    "        if video_schnitt_df[\"standbild_bis\"][idx] == \"nan\":\n",
    "            print(f\"skipped this {video_name} because it is already finished\")\n",
    "            continue\n",
    "        \n",
    "        folder_name = \"endprodukte/\"\n",
    "        new_video_name = folder_name + f\"{video_name.split('.')[0]}_standbild_endprodukt.mp4\"\n",
    "\n",
    "        columns_to_cut = get_columns_to_cut(video_schnitt_df)\n",
    "        evens = get_list_of_evens(columns_to_cut)\n",
    "\n",
    "        parts_list = []\n",
    "        video1 = 0\n",
    "        video2 = 0\n",
    "        end_reached = None\n",
    "        print(\"Video Name to cut:\", video_name, \"actual input to cut:\", new_video_name)\n",
    "\n",
    "        try:\n",
    "            for i,col in enumerate(columns_to_cut):\n",
    "                cut_head = video_schnitt_df[col][idx]\n",
    "                cut_tail = video_schnitt_df[columns_to_cut[i+1]][idx]\n",
    "                print(\"index:\",i,\"Column:\",col)\n",
    "                print(\"Timestamps before changing:\",cut_head,cut_tail)\n",
    "\n",
    "                #logic to handle the nans\n",
    "                if cut_head != \"nan\" and cut_head != \"00:00:00\" and i == 0:\n",
    "                    print(\"Skipped because of special case\")\n",
    "                    break\n",
    "                \n",
    "                if cut_head == \"nan\" and cut_tail == \"nan\":\n",
    "                    print(\"Break used\")\n",
    "                    break\n",
    "                \n",
    "                if end_reached == True:\n",
    "                    print(\"Break used\")\n",
    "                    break\n",
    "\n",
    "                if  cut_head == \"nan\":\n",
    "                    cut_head = \"00:00:00\"\n",
    "                    print(\"cut_head ersetzt\")\n",
    "\n",
    "                if cut_tail == \"nan\":\n",
    "                    cut_tail = get_video_duration(video_name)\n",
    "                    end_reached = True\n",
    "                    print(\"end reached\")\n",
    "                    \n",
    "                output_file = f\"{video_name.split('.')[0]}_part{i}.mp4\"\n",
    "                print(\"Timestamps after changing:\",cut_head,cut_tail)\n",
    "                cut_head_tail(new_video_name, output_file, cut_head, cut_tail)\n",
    "                \n",
    "                if i not in evens:\n",
    "                    parts_list.append(output_file)\n",
    "                else:\n",
    "                    trash_list.append(output_file)\n",
    "\n",
    "                if len(parts_list) == 2:\n",
    "                    video1 = parts_list[0]\n",
    "                    video2 = parts_list[1]\n",
    "                    \n",
    "                    textfile_content = f\"file '{video1}'\\nfile '{video2}'\"\n",
    "\n",
    "                    #create the file with content\n",
    "                    with open('dummy.txt', 'w') as textfile:\n",
    "                        textfile.write(textfile_content)\n",
    "\n",
    "                    #define parameters for concat function\n",
    "                    textfile_name = \"dummy.txt\"\n",
    "\n",
    "                    output_file = f\"{video_name.split('.')[0]}_concatted{i}.mp4\"\n",
    "                    \n",
    "                    parts_list.clear()\n",
    "                    parts_list.append(output_file)\n",
    "                    print(textfile_content, \"output:\", output_file)\n",
    "                    concatenate_videos(textfile_name,output_file)                \n",
    "                    remove_parts(video_name)\n",
    "                    \n",
    "        except Exception as e:\n",
    "            print(\"skip to next video because:\",e)\n",
    "\n",
    "except Exception as error:\n",
    "    print(\"An error occured:\", error)   "
   ]
  },
  {
   "cell_type": "markdown",
   "metadata": {},
   "source": [
    "# Handle the video outputs"
   ]
  },
  {
   "cell_type": "code",
   "execution_count": null,
   "metadata": {},
   "outputs": [],
   "source": [
    "rename_part1_videos()"
   ]
  },
  {
   "cell_type": "code",
   "execution_count": null,
   "metadata": {},
   "outputs": [],
   "source": [
    "# create a list with videonames of the youngest version that is not in trash list\n",
    "files = []\n",
    "\n",
    "for video_name in video_schnitt_df[\"dateiname\"]:\n",
    "    original_prefix = video_name.split('.')[0]\n",
    "    youngest_creation_time = None\n",
    "    youngest_video = None \n",
    "    pattern = re.compile(rf'^{re.escape(original_prefix)}_part\\d+.*$')\n",
    "\n",
    "\n",
    "    for f in os.listdir():     \n",
    "        if f.endswith(\".mp4\") and f not in trash_list and not pattern.match(f):\n",
    "            if \"_\" in f:\n",
    "                part_prefix = remove_end_in_name(f)\n",
    "            else:\n",
    "                part_prefix = f.split('.')[0]\n",
    "            \n",
    "            if part_prefix == original_prefix:\n",
    "                creation_time = get_creation_time(f)\n",
    "                if youngest_creation_time is None or creation_time > youngest_creation_time:\n",
    "                    youngest_creation_time = creation_time\n",
    "                    youngest_video = f     \n",
    "    if youngest_video is not None:\n",
    "        files.append(youngest_video)    \n",
    "  \n",
    "print(\"All the youngest versions of a video:\",files)"
   ]
  },
  {
   "cell_type": "code",
   "execution_count": null,
   "metadata": {},
   "outputs": [],
   "source": [
    "# create a list of original video_names\n",
    "original_video_names = list()\n",
    "\n",
    "for video_name in video_schnitt_df[\"dateiname\"]:\n",
    "    if video_name != \"nan\":\n",
    "        original_video_names.append(video_name)"
   ]
  },
  {
   "cell_type": "code",
   "execution_count": null,
   "metadata": {},
   "outputs": [],
   "source": [
    "#Compare the filenames with the original Videos\n",
    "files_to_reaname = [element for element in files if element not in original_video_names]\n",
    "\n",
    "print(\"Files that are gonna be renamed:\",files_to_reaname)"
   ]
  },
  {
   "cell_type": "code",
   "execution_count": null,
   "metadata": {},
   "outputs": [],
   "source": [
    "# rename the videos\n",
    "try:\n",
    "    for file in files_to_reaname:\n",
    "        new_name = f\"{file.split('.')[0]}_cut_things_out_endprodukt.mp4\"\n",
    "        os.rename(file,new_name)\n",
    "        print(new_name)\n",
    "except Exception as e:\n",
    "    print(\"Error while renaming:\",e)"
   ]
  },
  {
   "cell_type": "markdown",
   "metadata": {},
   "source": [
    "# Move files"
   ]
  },
  {
   "cell_type": "code",
   "execution_count": null,
   "metadata": {},
   "outputs": [],
   "source": [
    "for filename in os.listdir():\n",
    "    if filename.endswith(\"endprodukt.mp4\"):\n",
    "        shutil.move(filename,path_folder_endprodukte)\n",
    "    elif filename.endswith(\"mp4\") and filename not in original_video_names:\n",
    "        shutil.move(filename,path_folder_script_output)"
   ]
  },
  {
   "cell_type": "markdown",
   "metadata": {},
   "source": [
    "# Delete old endproducts"
   ]
  },
  {
   "cell_type": "code",
   "execution_count": null,
   "metadata": {},
   "outputs": [],
   "source": [
    "# create a list with videonames of the youngest version that is not in trash list\n",
    "files = []\n",
    "\n",
    "for video_name in video_schnitt_df[\"dateiname\"]:\n",
    "    original_prefix = video_name.split('.')[0]\n",
    "    youngest_creation_time = None\n",
    "    youngest_video = None \n",
    "    pattern = re.compile(rf'^{re.escape(original_prefix)}_(concatted\\d+|standbild).*$')\n",
    "    print(pattern)\n",
    "    for f in os.listdir(\"endprodukte/\"):     \n",
    "    \n",
    "        if pattern.match(f):\n",
    "            #print(pattern, \"matches\", f)\n",
    "            creation_time = get_creation_time(\"endprodukte/\"+f)\n",
    "            if youngest_creation_time is None or creation_time > youngest_creation_time:\n",
    "                youngest_creation_time = creation_time\n",
    "                youngest_video = f     \n",
    "    if youngest_video is not None:\n",
    "        files.append(youngest_video)    \n",
    "  \n",
    "print(\"All the youngest versions of a video:\",files)"
   ]
  },
  {
   "cell_type": "code",
   "execution_count": null,
   "metadata": {},
   "outputs": [],
   "source": [
    "remove_list = []\n",
    "\n",
    "for f in os.listdir(\"endprodukte/\"):     \n",
    "    if f not in files:\n",
    "        remove_list.append(f)\n",
    "\n",
    "print(remove_list)"
   ]
  },
  {
   "cell_type": "code",
   "execution_count": null,
   "metadata": {},
   "outputs": [],
   "source": [
    "for i in remove_list:\n",
    "    os.remove(\"endprodukte/\" + i)"
   ]
  },
  {
   "cell_type": "code",
   "execution_count": null,
   "metadata": {},
   "outputs": [],
   "source": [
    "folder_path = \"endprodukte/\"\n",
    "\n",
    "for video_name in video_schnitt_df[\"dateiname\"]:\n",
    "    original_prefix = video_name.split('.')[0]\n",
    "    pattern = re.compile(rf'^{re.escape(original_prefix)}_(concatted\\d+|standbild).*$')\n",
    "    \n",
    "    for f in os.listdir(folder_path):\n",
    "        if pattern.match(f):\n",
    "            new_name = folder_path + original_prefix + \".mp4\"\n",
    "            os.rename(folder_path + f,new_name)"
   ]
  },
  {
   "cell_type": "markdown",
   "metadata": {},
   "source": [
    "# Start insert_pauses script"
   ]
  },
  {
   "cell_type": "code",
   "execution_count": null,
   "metadata": {},
   "outputs": [],
   "source": [
    "columns_to_pause = get_columns_to_pause(video_schnitt_df)"
   ]
  },
  {
   "cell_type": "code",
   "execution_count": null,
   "metadata": {},
   "outputs": [],
   "source": [
    "# get stanbilder\n",
    "for row, video_name in video_schnitt_df[[\"dateiname\"] + columns_to_pause].query(\"pause1_bei != 'nan'\")[\"dateiname\"].items():\n",
    "    counter = 1\n",
    "    \n",
    "    for idx, col in enumerate(columns_to_pause):\n",
    "        if video_schnitt_df[col][row] == \"nan\" or \"dauer\" in col:\n",
    "            continue\n",
    "        output = f\"{video_name.split('.')[0]}_stanbild{counter}.mp4\"\n",
    "        timestamp = video_schnitt_df[col][row]\n",
    "\n",
    "        try:\n",
    "            print(video_name, \"standbild bei:\", timestamp, \"output:\", output)\n",
    "            get_standbild(video_name,output,timestamp)\n",
    "        except Exception as e:\n",
    "            print(e)\n",
    "        \n",
    "        counter += 1"
   ]
  },
  {
   "cell_type": "code",
   "execution_count": null,
   "metadata": {},
   "outputs": [],
   "source": [
    "# get audios with silence for duration\n",
    "for row, video_name in video_schnitt_df[[\"dateiname\"] + columns_to_pause].query(\"pause1_bei != 'nan'\")[\"dateiname\"].items():\n",
    "    counter = 1\n",
    "    \n",
    "    for idx, col in enumerate(columns_to_pause):\n",
    "        if video_schnitt_df[col][row] == \"nan\" or \"bei\" in col:\n",
    "            continue\n",
    "        \n",
    "        output = f\"{video_name.split('.')[0]}_audio{counter}.mp4\"\n",
    "        timestamp = video_schnitt_df[col][row]\n",
    "        \n",
    "        try:\n",
    "            print(video_name, \"silence for:\", timestamp, \"output:\", output)\n",
    "            create_silent_audio(timestamp,output)\n",
    "        except Exception as e:\n",
    "            print(e)\n",
    "\n",
    "        counter += 1"
   ]
  },
  {
   "cell_type": "code",
   "execution_count": null,
   "metadata": {},
   "outputs": [],
   "source": [
    "# merge all the files\n",
    "for row, video_name in video_schnitt_df[[\"dateiname\"] + columns_to_pause].query(\"pause1_bei != 'nan'\")[\"dateiname\"].items():\n",
    "    counter = 1\n",
    "    \n",
    "    for idx, col in enumerate(columns_to_pause):\n",
    "        if video_schnitt_df[col][row] == \"nan\" or \"bei\" in col:\n",
    "            continue\n",
    "        \n",
    "        video_file = f\"{video_name.split('.')[0]}_stanbild{counter}.mp4\"\n",
    "        audio_file = f\"{video_name.split('.')[0]}_audio{counter}.mp4\"\n",
    "        output_file = f\"{video_name.split('.')[0]}_pause{counter}.mp4\"\n",
    "        try :\n",
    "            print(video_name,audio_file,output_file)\n",
    "            merge_audio_and_video(video_file,audio_file,output_file)\n",
    "        except Exception as e:\n",
    "            print(e)\n",
    "            \n",
    "        counter += 1"
   ]
  },
  {
   "cell_type": "markdown",
   "metadata": {},
   "source": [
    "## Handle output "
   ]
  },
  {
   "cell_type": "code",
   "execution_count": null,
   "metadata": {},
   "outputs": [],
   "source": [
    "path_folder_endprodukte = \"endprodukte\"\n",
    "create_folder(path_folder_endprodukte)\n",
    "\n",
    "path_folder_script_output = \"script_output\"\n",
    "create_folder(path_folder_script_output)"
   ]
  },
  {
   "cell_type": "code",
   "execution_count": null,
   "metadata": {},
   "outputs": [],
   "source": [
    "original_video_names = list()\n",
    "\n",
    "for video_name in video_schnitt_df[\"dateiname\"]:\n",
    "    if video_name != \"nan\":\n",
    "        original_video_names.append(video_name)"
   ]
  },
  {
   "cell_type": "code",
   "execution_count": null,
   "metadata": {},
   "outputs": [],
   "source": [
    "# move pauses\n",
    "try:\n",
    "    for video_name in video_schnitt_df[\"dateiname\"]:\n",
    "        original_prefix = video_name.split('.')[0]\n",
    "        pattern = re.compile(rf'^{re.escape(original_prefix)}_pause\\d+.*$')\n",
    "        \n",
    "        for f in os.listdir():\n",
    "            if pattern.match(f):\n",
    "                print(f, \"moved to:\", path_folder_endprodukte)\n",
    "                shutil.move(f,path_folder_endprodukte)\n",
    "            #elif f.endswith(\".mp4\") and f not in original_video_names:\n",
    "                #os.remove(f)\n",
    "\n",
    "except Exception as e:\n",
    "    print(e, \"or this file already has been removed\")"
   ]
  },
  {
   "cell_type": "code",
   "execution_count": null,
   "metadata": {},
   "outputs": [],
   "source": [
    "# delete byproducts\n",
    "try:\n",
    "    for video_name in video_schnitt_df[\"dateiname\"]:\n",
    "        \n",
    "        for f in os.listdir():\n",
    "            if f.endswith(\".mp4\") and f not in original_video_names:\n",
    "                os.remove(f)\n",
    "\n",
    "except Exception as e:\n",
    "    print(e, \"or this file already has been removed\")"
   ]
  },
  {
   "cell_type": "markdown",
   "metadata": {},
   "source": [
    "## Cut videos into pieces and concat with pauses"
   ]
  },
  {
   "cell_type": "code",
   "execution_count": null,
   "metadata": {},
   "outputs": [],
   "source": [
    "# INPUT FILE NEEDS TO BE Adjusted. maybe better file handling before?\n",
    "# Right now it just checks wether original video is in dir but it or sure is. \n",
    "\n",
    "folder_path = \"endprodukte/\"\n",
    "versions_to_concat = {}\n",
    "\n",
    "try:\n",
    "    for row, video_name in video_schnitt_df[[\"dateiname\"] + columns_to_pause].query(\"pause1_bei != 'nan'\")[\"dateiname\"].items():\n",
    "        counter = 1\n",
    "        columns_to_pause = get_columns_to_pause(video_schnitt_df)\n",
    "        for col_num, col in enumerate(video_schnitt_df[columns_to_pause]):\n",
    "            \n",
    "            if \"bei\" in col and video_schnitt_df[col][row] != \"nan\":\n",
    "                \n",
    "                # Start bei mindestens einer Teilung\n",
    "                if counter == 1:\n",
    "\n",
    "                    # define all variables needed\n",
    "                    if os.path.exists(folder_path + video_name):\n",
    "                        input_file = folder_path + video_name\n",
    "                    else:\n",
    "                        input_file = video_name\n",
    "\n",
    "                    # timestamp pauses dont have to be added!               \n",
    "                    original_timestamp = video_schnitt_df[col][row]\n",
    "\n",
    "                    # get diff from cutted videos and subtract\n",
    "                    diff_with_cuts = calculate_time_diff(original_timestamp, row, kind=\"diff_with_cuts\")\n",
    "                    new_timestamp = calculate_time(original_timestamp, diff_with_cuts, kind=\"subtraction\")\n",
    "\n",
    "                    head_output = f\"{video_name.split('.')[0]}_head{counter}.mp4\"\n",
    "                    tail_output = f\"{video_name.split('.')[0]}_tail{counter}.mp4\"\n",
    "                    \n",
    "                    print(\"all variables:\",input_file,new_timestamp,head_output,tail_output)\n",
    "\n",
    "                    #start separation\n",
    "                    cut_in_2_pieces(input_file,new_timestamp,head_output,tail_output)\n",
    "                    \n",
    "                    versions_to_concat[video_name] = [head_output,f\"{folder_path}{video_name.split('.')[0]}_pause{counter}.mp4\",tail_output]\n",
    "                    \n",
    "                    counter += 1\n",
    "                \n",
    "                else:\n",
    "\n",
    "                    # define alle the vars\n",
    "                    input_file = f\"{video_name.split('.')[0]}_tail{counter-1}.mp4\"\n",
    "\n",
    "                    # timestamp\n",
    "                    \n",
    "                    timestamp_previous_iteration = video_schnitt_df[columns_to_pause[col_num-2]][row]\n",
    "                    diff_with_cuts = calculate_time_diff(timestamp_previous_iteration, row, kind=\"diff_with_cuts\")\n",
    "                    timestamp_previous_iteration = calculate_time(timestamp_previous_iteration, diff_with_cuts, kind=\"subtraction\")\n",
    "                    \n",
    "                    timestamp_current_iteration = video_schnitt_df[col][row]\n",
    "                    diff_with_cuts = calculate_time_diff(timestamp_current_iteration, row, kind=\"diff_with_cuts\")\n",
    "                    timestamp_current_iteration = calculate_time(timestamp_current_iteration, diff_with_cuts, kind=\"subtraction\")                   \n",
    "\n",
    "                    new_timestamp = calculate_time(timestamp_current_iteration, timestamp_previous_iteration, kind=\"subtraction\")\n",
    "\n",
    "                    print(\"previous:\",timestamp_previous_iteration,\"current:\",timestamp_current_iteration, \"new:\",new_timestamp)\n",
    "\n",
    "                    head_output = f\"{video_name.split('.')[0]}_mitte{counter-1}.mp4\"\n",
    "                    tail_output = f\"{video_name.split('.')[0]}_tail{counter}.mp4\"\n",
    "                    print(\"PRINT: all Variables further cut:\",input_file,new_timestamp,head_output,tail_output)\n",
    "\n",
    "                    cut_in_2_pieces(input_file,new_timestamp,head_output,tail_output)\n",
    "                    os.remove(input_file)\n",
    "\n",
    "                    versions_to_concat[video_name].pop()\n",
    "                    versions_to_concat[video_name].append(head_output)\n",
    "                    versions_to_concat[video_name].append(f\"{folder_path}{video_name.split('.')[0]}_pause{counter}.mp4\")\n",
    "                    versions_to_concat[video_name].append(tail_output)\n",
    "\n",
    "                    counter += 1\n",
    "        \n",
    "            \n",
    "except Exception as e:\n",
    "    print(\"Error in insert_pause part:\", e)"
   ]
  },
  {
   "cell_type": "code",
   "execution_count": null,
   "metadata": {},
   "outputs": [],
   "source": [
    "# Concat all the video snippets\n",
    "try:\n",
    "    for key, values in versions_to_concat.items():\n",
    "        textfile_content = \"\"\n",
    "        output = f\"{key.split('.')[0]}_endprodukt.mp4\"\n",
    "\n",
    "        for value in values:\n",
    "            dummy_string = f\"file '{value}'\\n\"\n",
    "            textfile_content = textfile_content + dummy_string\n",
    "\n",
    "        # Create textfile with content\n",
    "        textfile_name = \"dummy.txt\"\n",
    "        with open(textfile_name, 'w') as textfile:\n",
    "            textfile.write(textfile_content.rstrip())\n",
    "            \n",
    "        # Concat the videos\n",
    "        print(\"key:\",key,\"ouput:\",output,\"textfile_content:\", textfile_content)\n",
    "        concatenate_videos(textfile_name, output)\n",
    "\n",
    "except Exception as e:\n",
    "    print(e)"
   ]
  },
  {
   "cell_type": "markdown",
   "metadata": {},
   "source": [
    "## File Handling"
   ]
  },
  {
   "cell_type": "code",
   "execution_count": null,
   "metadata": {},
   "outputs": [],
   "source": [
    "# delete byproducts\n",
    "try:\n",
    "    for key, values in versions_to_concat.items():\n",
    "        if os.path.exists(folder_path + key):\n",
    "            os.remove(folder_path + key)\n",
    "\n",
    "        for value in values:\n",
    "            os.remove(value)\n",
    "            \n",
    "except Exception as e:\n",
    "    print(e)\n"
   ]
  },
  {
   "cell_type": "code",
   "execution_count": null,
   "metadata": {},
   "outputs": [],
   "source": [
    "# Move endprodukte\n",
    "for f in os.listdir():\n",
    "    if f.endswith(\"endprodukt.mp4\"):\n",
    "        shutil.move(f,folder_path)"
   ]
  },
  {
   "cell_type": "code",
   "execution_count": null,
   "metadata": {},
   "outputs": [],
   "source": [
    "# Rename files\n",
    "for f in os.listdir(folder_path):\n",
    "    if f.endswith(\"endprodukt.mp4\"):\n",
    "        new_name = remove_end_in_name(f)\n",
    "        new_name = new_name + \".mp4\"\n",
    "        os.rename(folder_path+f, folder_path+new_name)\n"
   ]
  },
  {
   "cell_type": "markdown",
   "metadata": {},
   "source": [
    "# Start cut_and_keep script"
   ]
  },
  {
   "cell_type": "code",
   "execution_count": null,
   "metadata": {},
   "outputs": [],
   "source": [
    "#loop through videonames and then through columns to divide\n",
    "folder_path = \"endprodukte/\"\n",
    "\n",
    "try:\n",
    "    for row, video_name in video_schnitt_df[\"dateiname\"].items():\n",
    "        columns_to_divide = get_columns_to_divide(video_schnitt_df)\n",
    "        for col_num,col in enumerate(video_schnitt_df[columns_to_divide]):\n",
    "\n",
    "            # check wether teilen colum has a value\n",
    "            if video_schnitt_df[col][row] != \"nan\":\n",
    "\n",
    "                # Wenn mehr als eine Teilung\n",
    "                if col_num > 0:\n",
    "                    \n",
    "                    # define input_file\n",
    "                    input_file = f\"{video_name.split('.')[0]}_tail{col_num}.mp4\"\n",
    "\n",
    "                    # define timestamp\n",
    "                    timestamp_previous_iteration = calculate_timestamp(columns_to_divide[col_num -1], row)\n",
    "                    timestamp_current_iteration = calculate_timestamp(col, row)\n",
    "                    new_timestamp = calculate_time(timestamp_current_iteration, timestamp_previous_iteration, kind=\"subtraction\")\n",
    "\n",
    "                    print(\"previous:\",timestamp_previous_iteration,\"current:\",timestamp_current_iteration, \"new:\",new_timestamp)\n",
    "                    \n",
    "                    # define output\n",
    "                    head_output = f\"{video_name.split('.')[0]}_mitte{col_num+ 1}.mp4\"\n",
    "                    tail_output = f\"{video_name.split('.')[0]}_tail{col_num +1}.mp4\"\n",
    "                    \n",
    "                    print(\"PRINT: all Variables further cut:\",input_file,new_timestamp,head_output,tail_output)\n",
    "\n",
    "                    cut_in_2_pieces(input_file,new_timestamp,head_output,tail_output)\n",
    "                    os.remove(input_file)\n",
    "                \n",
    "                # Start bei mindestens einer Teilung\n",
    "                else:\n",
    "\n",
    "                    # define input_file\n",
    "                    if video_schnitt_df[\"standbild_bis\"][row] == \"nan\" and video_schnitt_df[\"rausschneiden1_bis\"][row] == \"nan\" and video_schnitt_df[\"pause1_bei\"][row] == \"nan\":\n",
    "                        input_file = video_name\n",
    "                        \n",
    "                    else:\n",
    "                        input_file = folder_path + video_name\n",
    "                    \n",
    "                    # define timestamp                \n",
    "                    new_timestamp = calculate_timestamp(col,row)\n",
    "                    \n",
    "                    head_output = f\"{video_name.split('.')[0]}_head{col_num +1}.mp4\"\n",
    "                    tail_output = f\"{video_name.split('.')[0]}_tail{col_num +1}.mp4\"\n",
    "                    \n",
    "                    print(\"all variables:\",input_file,new_timestamp,head_output,tail_output)\n",
    "\n",
    "                    #start separation\n",
    "                    cut_in_2_pieces(input_file,new_timestamp,head_output,tail_output)\n",
    "except Exception as e:\n",
    "    print(\"Error in cut and keep script:\", e)"
   ]
  },
  {
   "cell_type": "markdown",
   "metadata": {},
   "source": [
    "# Create folder, move and delete files"
   ]
  },
  {
   "cell_type": "code",
   "execution_count": null,
   "metadata": {},
   "outputs": [],
   "source": [
    "path_folder_endprodukte = \"endprodukte\"\n",
    "create_folder(path_folder_endprodukte)\n",
    "\n",
    "path_folder_script_output = \"script_output\"\n",
    "create_folder(path_folder_script_output)"
   ]
  },
  {
   "cell_type": "code",
   "execution_count": null,
   "metadata": {},
   "outputs": [],
   "source": [
    "original_video_names = list()\n",
    "\n",
    "for video_name in video_schnitt_df[\"dateiname\"]:\n",
    "    if video_name != \"nan\":\n",
    "        original_video_names.append(video_name)"
   ]
  },
  {
   "cell_type": "code",
   "execution_count": null,
   "metadata": {},
   "outputs": [],
   "source": [
    "for filename in os.listdir():\n",
    "    if filename.endswith(\"mp4\") and filename not in original_video_names:\n",
    "        shutil.move(filename,path_folder_endprodukte)"
   ]
  },
  {
   "cell_type": "code",
   "execution_count": null,
   "metadata": {},
   "outputs": [],
   "source": [
    "folder_path = \"endprodukte/\"\n",
    "\n",
    "\n",
    "for row, video_name in video_schnitt_df[\"dateiname\"].items():\n",
    "    original_prefix = video_name.split('.')[0]\n",
    "    pattern = re.compile(rf'^{re.escape(original_prefix)}_(head\\d+|mitte\\d+|tail\\d+).*$')\n",
    "    \n",
    "    try:    \n",
    "        for f in os.listdir(folder_path):\n",
    "            if pattern.match(f):\n",
    "                print(\"video_name\",video_name,\"original_prefix:\", original_prefix,\"file\",f)\n",
    "                os.remove(folder_path + video_name)\n",
    "    except Exception as e:\n",
    "        print(e, \"or this file already has been removed\")"
   ]
  },
  {
   "cell_type": "code",
   "execution_count": null,
   "metadata": {},
   "outputs": [],
   "source": [
    "os.remove(\"dummy.txt\")"
   ]
  },
  {
   "cell_type": "code",
   "execution_count": null,
   "metadata": {},
   "outputs": [],
   "source": [
    "print(\"Script reached its end\")"
   ]
  }
 ],
 "metadata": {
  "kernelspec": {
   "display_name": "cut_env",
   "language": "python",
   "name": "python3"
  },
  "language_info": {
   "codemirror_mode": {
    "name": "ipython",
    "version": 3
   },
   "file_extension": ".py",
   "mimetype": "text/x-python",
   "name": "python",
   "nbconvert_exporter": "python",
   "pygments_lexer": "ipython3",
   "version": "3.12.0"
  }
 },
 "nbformat": 4,
 "nbformat_minor": 2
}

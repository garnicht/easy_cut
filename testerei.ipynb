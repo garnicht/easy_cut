{
 "cells": [
  {
   "cell_type": "code",
   "execution_count": null,
   "metadata": {},
   "outputs": [],
   "source": [
    "#Import needed libs and define functions"
   ]
  },
  {
   "cell_type": "code",
   "execution_count": null,
   "metadata": {},
   "outputs": [],
   "source": [
    "import pandas as pd\n",
    "import subprocess\n",
    "import os\n",
    "import shutil\n"
   ]
  },
  {
   "cell_type": "code",
   "execution_count": null,
   "metadata": {},
   "outputs": [],
   "source": [
    "def get_creation_time(file_path):\n",
    "    try:\n",
    "        creation_time = os.path.getctime(file_path)\n",
    "        return pd.to_datetime(creation_time, unit='s')\n",
    "    except Exception as e:\n",
    "        print(f\"Error getting creation time for {file_path}: {e}\")\n",
    "        return None"
   ]
  },
  {
   "cell_type": "code",
   "execution_count": null,
   "metadata": {},
   "outputs": [],
   "source": [
    "def get_video_duration(file_path):\n",
    "    command = ['ffmpeg', '-i', file_path]\n",
    "    result = subprocess.run(command, text=True, capture_output=True)\n",
    "    output_lines = result.stderr.split('\\n')\n",
    "    duration_line = [line for line in output_lines if 'Duration' in line][0]\n",
    "    duration = duration_line.strip().split(\",\")[0].split(\" \")[1]\n",
    "    return duration"
   ]
  },
  {
   "cell_type": "code",
   "execution_count": null,
   "metadata": {},
   "outputs": [],
   "source": [
    "def create_folder(folder_name):\n",
    "    try:\n",
    "        # Create a new folder in the current working directory\n",
    "        os.mkdir(folder_name)\n",
    "        print(f\"Folder '{folder_name}' created successfully.\")\n",
    "    except FileExistsError:\n",
    "        print(f\"Folder '{folder_name}' already exists.\")"
   ]
  },
  {
   "cell_type": "code",
   "execution_count": null,
   "metadata": {},
   "outputs": [],
   "source": [
    "def get_the_table_data():\n",
    "    while True:\n",
    "        table_path = input(\"What is the table path + name? (.../filename.csv):\")\n",
    "        try:\n",
    "            video_schnitt_df = pd.read_csv(table_path)\n",
    "            print(\"Table loaded succesfully\")\n",
    "            return video_schnitt_df\n",
    "        except Exception as error:\n",
    "            print(\"An error occured:\", error)\n",
    "            continue\n",
    "        break"
   ]
  },
  {
   "cell_type": "code",
   "execution_count": null,
   "metadata": {},
   "outputs": [],
   "source": [
    "def clean_the_data(df):\n",
    "    df.columns = df.columns.str.lower()\n",
    "    df.columns = df.columns.str.replace(\" \", \"_\")\n",
    "    df.columns = df.columns.str.strip()\n",
    "    df = df.astype(str)\n",
    "    print(\"Table Columns cleaned\")\n",
    "    return df"
   ]
  },
  {
   "cell_type": "code",
   "execution_count": null,
   "metadata": {},
   "outputs": [],
   "source": [
    "def cut_head_tail(original_video,output_file,cut_head=\"00:00:00\",cut_tail=\"00:50:00\"):\n",
    "\n",
    "    # Construct the command\n",
    "    command = [\n",
    "        'ffmpeg',\n",
    "        '-i', original_video,\n",
    "        '-ss', cut_head,\n",
    "        '-to', cut_tail,\n",
    "        '-c:v','copy',\n",
    "         '-c:a', 'copy',\n",
    "        output_file\n",
    "    ]\n",
    "    \n",
    "     # Run the command\n",
    "    try:\n",
    "        subprocess.run(command, check=True)\n",
    "    except subprocess.CalledProcessError as e:\n",
    "        print(f\"An error occurred: {e}\")"
   ]
  },
  {
   "cell_type": "code",
   "execution_count": null,
   "metadata": {},
   "outputs": [],
   "source": [
    "def concatenate_videos(input_file, output_file):\n",
    "    \n",
    "    command = [\n",
    "        'ffmpeg',\n",
    "        '-f', 'concat', \n",
    "        '-i', input_file,\n",
    "         '-c:v', 'copy',\n",
    "         '-c:a', 'copy',\n",
    "        output_file\n",
    "    ]\n",
    "\n",
    "    # Run the command\n",
    "    try:\n",
    "        subprocess.run(command, check=True)\n",
    "    except subprocess.CalledProcessError as e:\n",
    "        print(\"An error occured:\", e)"
   ]
  },
  {
   "cell_type": "markdown",
   "metadata": {},
   "source": [
    "# Get the file and clean it"
   ]
  },
  {
   "cell_type": "code",
   "execution_count": null,
   "metadata": {},
   "outputs": [],
   "source": [
    "video_schnitt_df = get_the_table_data()\n",
    "video_schnitt_df = clean_the_data(video_schnitt_df)"
   ]
  },
  {
   "cell_type": "markdown",
   "metadata": {},
   "source": [
    "# remove more slices in a video"
   ]
  },
  {
   "cell_type": "code",
   "execution_count": null,
   "metadata": {},
   "outputs": [],
   "source": [
    "try:\n",
    "    # videos need to be in same directory with python script\n",
    "    trash_list = []\n",
    "    for idx, video_name in video_schnitt_df[\"dateiname\"].items():\n",
    "        \n",
    "        columns_to_cut = [\"vorne_abschneiden_bis\",\"rausschneiden_ab\",\"rausschneiden_bis\",\"cut2_ab\",\"cut2_bis\",\"cut3_ab\",\"cut3_bis\",\"cut4_ab\",\"cut4_bis\",\"cut5_ab\",\"cut5_bis\"]\n",
    "\n",
    "        parts_list = []\n",
    "        video1 = 0\n",
    "        video2 = 0\n",
    "        end_reached = None\n",
    "        print(\"Video Name to cut:\", video_name)\n",
    "\n",
    "        try:\n",
    "            for i,col in enumerate(columns_to_cut):\n",
    "                cut_head = video_schnitt_df[col][idx]\n",
    "                cut_tail = video_schnitt_df[columns_to_cut[i+1]][idx]\n",
    "                print(\"index:\",i,\"Column:\",col)\n",
    "                print(\"Timestamps before changing:\",cut_head,cut_tail)\n",
    "\n",
    "                #logic to handle the nans\n",
    "                if cut_head == \"nan\" and cut_tail == \"nan\" and end_reached == True:\n",
    "                    end_reached = None\n",
    "                    print(\"Break used\")\n",
    "                    break\n",
    "                if  cut_head == \"nan\":\n",
    "                    cut_head = \"00:00:00\"\n",
    "                    print(\"cut_head ersetzt\")\n",
    "\n",
    "                if cut_tail == \"nan\" and video_schnitt_df[\"hinten_abschneiden_ab\"][idx] == \"nan\":\n",
    "                    cut_tail = get_video_duration(video_name)\n",
    "                    end_reached = True\n",
    "                if cut_tail == \"nan\":\n",
    "                    cut_tail = video_schnitt_df[\"hinten_abschneiden_ab\"][idx]\n",
    "                    end_reached = True\n",
    "                    print(\"hinten abschneiden got\")\n",
    "                output_file = f\"{video_name.split('.')[0]}_part{i}.mp4\"\n",
    "                print(\"Timestamps after changing:\",cut_head,cut_tail)\n",
    "                cut_head_tail(video_name, output_file, cut_head, cut_tail)\n",
    "                \n",
    "                if i not in [1, 3, 5, 7, 9, 11]:\n",
    "                    parts_list.append(output_file)\n",
    "                else:\n",
    "                    trash_list.append(output_file)\n",
    "\n",
    "                if len(parts_list) == 2:\n",
    "                    video1 = parts_list[0]\n",
    "                    video2 = parts_list[1]\n",
    "                    \n",
    "                    textfile_content = f\"file '{video1}'\\nfile '{video2}'\"\n",
    "\n",
    "                    #create the file with content\n",
    "                    with open('dummy.txt', 'w') as textfile:\n",
    "                        textfile.write(textfile_content)\n",
    "\n",
    "                    #define parameters for concat function\n",
    "                    textfile_name = \"dummy.txt\"\n",
    "\n",
    "                    output_file = f\"{video_name.split('.')[0]}_concatted{i}.mp4\"\n",
    "                    \n",
    "                    parts_list.clear()\n",
    "                    parts_list.append(output_file)\n",
    "                    print(textfile_content, \"output:\", output_file)\n",
    "                    concatenate_videos(textfile_name,output_file)                \n",
    "\n",
    "        except Exception as e:\n",
    "            print(\"skip to next video because:\",e)\n",
    "\n",
    "except Exception as error:\n",
    "    print(\"An error occured:\", error)   "
   ]
  },
  {
   "cell_type": "code",
   "execution_count": null,
   "metadata": {},
   "outputs": [],
   "source": [
    "# rename the videos"
   ]
  },
  {
   "cell_type": "code",
   "execution_count": null,
   "metadata": {},
   "outputs": [],
   "source": [
    "trash_list"
   ]
  },
  {
   "cell_type": "code",
   "execution_count": null,
   "metadata": {},
   "outputs": [],
   "source": [
    "# create a list with videonames of the youngest version that is not in trash list\n",
    "files = []\n",
    "\n",
    "for video_name in video_schnitt_df[\"dateiname\"]:\n",
    "    prefix = video_name.split(\".\")[0]\n",
    "    print(\"VideoName:\",video_name,\"Prefix:\",prefix)\n",
    "    youngest_creation_time = None\n",
    "    youngest_video = None \n",
    "\n",
    "    for f in os.listdir():\n",
    "          \n",
    "       if f.startswith(prefix) and f.endswith(\".mp4\") and f not in trash_list:  \n",
    "           creation_time = get_creation_time(f)\n",
    "           if youngest_creation_time is None or creation_time > youngest_creation_time:\n",
    "               youngest_creation_time = creation_time\n",
    "               youngest_video = f     \n",
    "\n",
    "    if youngest_video is not None:\n",
    "        files.append(youngest_video)    \n",
    "  \n",
    "print(\"All the youngest versions of a video:\",files)\n"
   ]
  },
  {
   "cell_type": "code",
   "execution_count": null,
   "metadata": {},
   "outputs": [],
   "source": [
    "trash_list"
   ]
  },
  {
   "cell_type": "code",
   "execution_count": null,
   "metadata": {},
   "outputs": [],
   "source": [
    "original_video_names = list()\n",
    "\n",
    "for video_name in video_schnitt_df[\"dateiname\"]:\n",
    "    if video_name != \"nan\":\n",
    "        original_video_names.append(video_name)"
   ]
  },
  {
   "cell_type": "code",
   "execution_count": null,
   "metadata": {},
   "outputs": [],
   "source": [
    "#Compare the filenames with the original Videos\n",
    "files_to_reaname = [element for element in files if element not in original_video_names]\n",
    "\n",
    "print(\"Files that are gonne be renamed:\",files_to_reaname)"
   ]
  },
  {
   "cell_type": "code",
   "execution_count": null,
   "metadata": {},
   "outputs": [],
   "source": [
    "try:\n",
    "    for file in files_to_reaname:\n",
    "        new_name = f\"{file.split('.')[0]}_cut_things_out_endprodukt.mp4\"\n",
    "        os.rename(file,new_name)\n",
    "        print(new_name)\n",
    "except Exception as e:\n",
    "    print(\"Error while renaming:\",e)"
   ]
  },
  {
   "cell_type": "code",
   "execution_count": null,
   "metadata": {},
   "outputs": [],
   "source": [
    "# create folders and move files"
   ]
  },
  {
   "cell_type": "code",
   "execution_count": null,
   "metadata": {},
   "outputs": [],
   "source": [
    "path_folder_endprodukte = \"endprodukte\"\n",
    "create_folder(path_folder_endprodukte)\n",
    "\n",
    "path_folder_script_output = \"script_output\"\n",
    "create_folder(path_folder_script_output)"
   ]
  },
  {
   "cell_type": "code",
   "execution_count": null,
   "metadata": {},
   "outputs": [],
   "source": [
    "for filename in os.listdir():\n",
    "    if filename.endswith(\"endprodukt.mp4\"):\n",
    "        shutil.move(filename,path_folder_endprodukte)\n",
    "    elif filename.endswith(\"mp4\") and filename not in original_video_names:\n",
    "        shutil.move(filename,path_folder_script_output)"
   ]
  }
 ],
 "metadata": {
  "kernelspec": {
   "display_name": "cut_env",
   "language": "python",
   "name": "python3"
  },
  "language_info": {
   "codemirror_mode": {
    "name": "ipython",
    "version": 3
   },
   "file_extension": ".py",
   "mimetype": "text/x-python",
   "name": "python",
   "nbconvert_exporter": "python",
   "pygments_lexer": "ipython3",
   "version": "3.12.0"
  }
 },
 "nbformat": 4,
 "nbformat_minor": 2
}

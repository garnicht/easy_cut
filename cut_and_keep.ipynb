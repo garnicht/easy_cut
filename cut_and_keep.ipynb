{
 "cells": [
  {
   "cell_type": "code",
   "execution_count": null,
   "metadata": {},
   "outputs": [],
   "source": [
    "# import stuff and define functions"
   ]
  },
  {
   "cell_type": "code",
   "execution_count": null,
   "metadata": {},
   "outputs": [],
   "source": [
    "import pandas as pd\n",
    "import subprocess\n",
    "import os\n",
    "import shutil\n",
    "import re"
   ]
  },
  {
   "cell_type": "code",
   "execution_count": null,
   "metadata": {},
   "outputs": [],
   "source": [
    "def get_the_table_data():\n",
    "    for f in os.listdir():\n",
    "        if f.endswith(\".csv\"):\n",
    "                video_schnitt_df = pd.read_csv(f)\n",
    "                print(f\"Table {f} loaded succesfully\")\n",
    "                return video_schnitt_df\n",
    "    raise ValueError(\"There is no csv in this directory\")"
   ]
  },
  {
   "cell_type": "code",
   "execution_count": null,
   "metadata": {},
   "outputs": [],
   "source": [
    "def get_video_duration(file_path):\n",
    "    command = ['ffmpeg', '-i', file_path]\n",
    "    result = subprocess.run(command, text=True, capture_output=True)\n",
    "    output_lines = result.stderr.split('\\n')\n",
    "    duration_line = [line for line in output_lines if 'Duration' in line][0]\n",
    "    duration = duration_line.strip().split(\",\")[0].split(\" \")[1]\n",
    "    return duration"
   ]
  },
  {
   "cell_type": "code",
   "execution_count": null,
   "metadata": {},
   "outputs": [],
   "source": [
    "def clean_the_data(df):\n",
    "    df.columns = df.columns.str.lower()\n",
    "    df.columns = df.columns.str.replace(\" \", \"_\")\n",
    "    df.columns = df.columns.str.strip()\n",
    "    df = df.astype(str)\n",
    "    print(\"Table Columns cleaned\")\n",
    "    return df"
   ]
  },
  {
   "cell_type": "code",
   "execution_count": null,
   "metadata": {},
   "outputs": [],
   "source": [
    "def cut_head_tail(original_video,output_file,cut_head=\"00:00:00\",cut_tail=\"00:50:00\"):\n",
    "\n",
    "    # Construct the command\n",
    "    command = [\n",
    "        'ffmpeg',\n",
    "        '-i', original_video,\n",
    "        '-ss', cut_head,\n",
    "        '-to', cut_tail,\n",
    "        '-c:v','libx264',\n",
    "        '-c:a', 'copy',\n",
    "        output_file\n",
    "    ]\n",
    "    \n",
    "     # Run the command\n",
    "    try:\n",
    "        subprocess.run(command, check=True)\n",
    "    except subprocess.CalledProcessError as e:\n",
    "        print(f\"An error occurred: {e}\")"
   ]
  },
  {
   "cell_type": "code",
   "execution_count": null,
   "metadata": {},
   "outputs": [],
   "source": [
    "def create_folder(folder_name):\n",
    "    try:\n",
    "        # Create a new folder in the current working directory\n",
    "        os.mkdir(folder_name)\n",
    "        print(f\"Folder '{folder_name}' created successfully.\")\n",
    "    except FileExistsError:\n",
    "        print(f\"Folder '{folder_name}' already exists.\")"
   ]
  },
  {
   "cell_type": "code",
   "execution_count": null,
   "metadata": {},
   "outputs": [],
   "source": [
    "\n",
    "def cut_in_2_pieces(input_file, timestamp, head_output, tail_output):\n",
    "    \n",
    "    # -ss = ab dort; -to = bis dort\n",
    "    head_cmd = ['ffmpeg', '-i', input_file, '-to', timestamp, '-c:v', 'copy', '-c:a', 'copy', head_output]\n",
    "    tail_cmd = ['ffmpeg', '-i', input_file, '-ss', timestamp, '-c:v', 'copy', '-c:a', 'copy', tail_output]\n",
    "\n",
    "# Execute the commands\n",
    "    try:\n",
    "        subprocess.run(head_cmd, check=True)\n",
    "        subprocess.run(tail_cmd, check=True)\n",
    "    except subprocess.CalledProcessError as e:\n",
    "        print(f\"An error occurred: {e}\")"
   ]
  },
  {
   "cell_type": "code",
   "execution_count": null,
   "metadata": {},
   "outputs": [],
   "source": [
    "def get_columns_to_divide(df):\n",
    "    pattern = re.compile(r'^teilen\\d+_[a-z]+$')\n",
    "    dummy = []\n",
    "    for column in df.columns:\n",
    "        if pattern.match(column):\n",
    "            dummy.append(column)\n",
    "    return dummy"
   ]
  },
  {
   "cell_type": "code",
   "execution_count": null,
   "metadata": {},
   "outputs": [],
   "source": [
    "def calculate_time(*timestamps,kind=\"addition\"):\n",
    "    \"\"\"\n",
    "    Calculate time based on the given timestamps and operation type.\n",
    "\n",
    "    Parameters:\n",
    "    - timestamps (str): Variable number of timestamps.\n",
    "    - kind (str): The operation type. Allowed values are 'addition' and 'subtraction'.\n",
    "    \"\"\"\n",
    "    \n",
    "    #addition\n",
    "    if kind == \"addition\":\n",
    "        stamp1 = None\n",
    "        for timestamp in timestamps:\n",
    "        \n",
    "        # calculate timestamp\n",
    "            if stamp1 is None:\n",
    "                stamp1 = timestamp\n",
    "\n",
    "            else:\n",
    "                timedelta = stamp1 + pd.to_timedelta(timestamp)\n",
    "                dummy_date = pd.Timestamp('1900-01-01')\n",
    "                new_timestamp = dummy_date + timedelta\n",
    "                timestamp = new_timestamp.strftime('%H:%M:%S.%f')[:-3]\n",
    "                return timestamp\n",
    "    \n",
    "    #subtraction\n",
    "    elif kind == \"subtraction\":\n",
    "        stamp1 = None\n",
    "        for timestamp in timestamps:\n",
    "        \n",
    "        # calculate timestamp\n",
    "            if stamp1 is None:\n",
    "                stamp1 = timestamp\n",
    "\n",
    "            else:\n",
    "                timedelta = stamp1 - pd.to_timedelta(timestamp)\n",
    "                dummy_date = pd.Timestamp('1900-01-01')\n",
    "                new_timestamp = dummy_date + timedelta\n",
    "                timestamp = new_timestamp.strftime('%H:%M:%S.%f')[:-3]\n",
    "                return timestamp        "
   ]
  },
  {
   "cell_type": "code",
   "execution_count": null,
   "metadata": {},
   "outputs": [],
   "source": [
    "# get file and clean"
   ]
  },
  {
   "cell_type": "code",
   "execution_count": null,
   "metadata": {},
   "outputs": [],
   "source": [
    "video_schnitt_df = get_the_table_data()\n",
    "video_schnitt_df = clean_the_data(video_schnitt_df)"
   ]
  },
  {
   "cell_type": "code",
   "execution_count": null,
   "metadata": {},
   "outputs": [],
   "source": [
    "# cut the video first if needed"
   ]
  },
  {
   "cell_type": "code",
   "execution_count": null,
   "metadata": {},
   "outputs": [],
   "source": [
    "# # videos need to be in same directory with python script\n",
    "# try:\n",
    "#     for idx, video_name in video_schnitt_df[\"dateiname\"].items():\n",
    "\n",
    "#         if video_schnitt_df[\"schnitt_setzen_bei\"][idx] == \"nan\":\n",
    "#             continue\n",
    "\n",
    "#         # um diesen Loop an neue CSV anzupassen kann direkt ein infinite loop a la cut_things_out her\n",
    "\n",
    "#         # define arguments\n",
    "#         output_file = f\"{video_name.split('.')[0]}_ohne_start_ende_cut_and_keep.mp4\"\n",
    "#         cut_head = video_schnitt_df[\"vorne_abschneiden_bis\"][idx]\n",
    "#         cut_tail = video_schnitt_df[\"hinten_abschneiden_ab\"][idx]\n",
    "\n",
    "#         #building logic when just to cut head or tail\n",
    "#         if cut_head == \"nan\":\n",
    "#             cut_head = \"00:00:00\"\n",
    "#         if cut_tail == \"nan\":\n",
    "#             cut_tail = get_video_duration(video_name)\n",
    "    \n",
    "#         print(\"input name:\",video_name,\"Schnittpunkte:\", cut_head, cut_tail)\n",
    "#         cut_head_tail(video_name, output_file, cut_head, cut_tail)\n",
    "# except Exception as error:\n",
    "#     print(\"An error occurred:\", error)"
   ]
  },
  {
   "cell_type": "code",
   "execution_count": null,
   "metadata": {},
   "outputs": [],
   "source": [
    "# cut and keep the pieces"
   ]
  },
  {
   "cell_type": "code",
   "execution_count": null,
   "metadata": {},
   "outputs": [],
   "source": [
    "#loop through videonames and then through columns to divide\n",
    "for idx, video_name in video_schnitt_df[\"dateiname\"].items():\n",
    "    columns_to_divide = get_columns_to_divide(video_schnitt_df)\n",
    "    for i,col in enumerate(video_schnitt_df[columns_to_divide]):\n",
    "        \n",
    "        #rule when there is more then one division\n",
    "        if video_schnitt_df[col][idx] != \"nan\":\n",
    "            if i > 0:\n",
    "                input_file = f\"{video_name.split('.')[0]}_tail{i}.mp4\"\n",
    "                timestamp1 = timestamp\n",
    "                timestamp2 = video_schnitt_df[col][idx]\n",
    "                timestamp = calculate_time(timestamp2,timestamp1,kind=\"subtraction\")\n",
    "                head_output = f\"{video_name.split('.')[0]}_müll{i+1}.mp4\"\n",
    "                tail_output = f\"{video_name.split('.')[0]}_tail{i+1}.mp4\"\n",
    "                \n",
    "                print(\"all Variables second cut:\",input_file,timestamp,head_output,tail_output)\n",
    "\n",
    "                cut_in_2_pieces(input_file,timestamp,head_output,tail_output)\n",
    "                os.remove(input_file)\n",
    "            else:\n",
    "\n",
    "                #define all variables needed\n",
    "                input_file = video_name\n",
    "                timestamp = video_schnitt_df[col][idx]\n",
    "                head_output = f\"{video_name.split('.')[0]}_head{i+1}.mp4\"\n",
    "                tail_output = f\"{video_name.split('.')[0]}_tail{i+1}.mp4\"\n",
    "                \n",
    "                print(\"all variables:\",input_file,timestamp,head_output,tail_output)\n",
    "\n",
    "                #start seperation\n",
    "                cut_in_2_pieces(input_file,timestamp,head_output,tail_output)"
   ]
  },
  {
   "cell_type": "code",
   "execution_count": null,
   "metadata": {},
   "outputs": [],
   "source": [
    "# create folders and move files"
   ]
  },
  {
   "cell_type": "code",
   "execution_count": null,
   "metadata": {},
   "outputs": [],
   "source": []
  },
  {
   "cell_type": "code",
   "execution_count": null,
   "metadata": {},
   "outputs": [],
   "source": [
    "path_folder_endprodukte = \"endprodukte\"\n",
    "create_folder(path_folder_endprodukte)\n",
    "\n",
    "path_folder_script_output = \"script_output\"\n",
    "create_folder(path_folder_script_output)"
   ]
  },
  {
   "cell_type": "code",
   "execution_count": null,
   "metadata": {},
   "outputs": [],
   "source": [
    "original_video_names = list()\n",
    "\n",
    "for video_name in video_schnitt_df[\"dateiname\"]:\n",
    "    if video_name != \"nan\":\n",
    "        original_video_names.append(video_name)"
   ]
  },
  {
   "cell_type": "code",
   "execution_count": null,
   "metadata": {},
   "outputs": [],
   "source": [
    "for filename in os.listdir():\n",
    "    if filename.endswith(\"tail.mp4\"):\n",
    "        shutil.move(filename,path_folder_endprodukte)\n",
    "    elif filename.endswith(\"mp4\") and filename not in original_video_names:\n",
    "        shutil.move(filename,path_folder_script_output)"
   ]
  },
  {
   "cell_type": "code",
   "execution_count": null,
   "metadata": {},
   "outputs": [],
   "source": [
    "for video_name in video_schnitt_df[\"dateiname\"]:\n",
    "    pattern = re.compile(rf'^{video_name}_head\\d+.mp4$')\n",
    "    for filename in os.listdir():\n",
    "        if pattern.match(filename):\n",
    "            print(filename)"
   ]
  }
 ],
 "metadata": {
  "kernelspec": {
   "display_name": "cut_env",
   "language": "python",
   "name": "python3"
  },
  "language_info": {
   "codemirror_mode": {
    "name": "ipython",
    "version": 3
   },
   "file_extension": ".py",
   "mimetype": "text/x-python",
   "name": "python",
   "nbconvert_exporter": "python",
   "pygments_lexer": "ipython3",
   "version": "3.12.0"
  }
 },
 "nbformat": 4,
 "nbformat_minor": 2
}
